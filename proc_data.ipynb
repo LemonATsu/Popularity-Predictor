{
 "cells": [
  {
   "cell_type": "code",
   "execution_count": 31,
   "metadata": {
    "collapsed": false
   },
   "outputs": [],
   "source": [
    "import pandas as pd\n",
    "\n",
    "df = pd.read_csv('train.csv')\n",
    "df_test = pd.read_csv('test.csv')\n",
    "\n",
    "not_fit = True\n"
   ]
  },
  {
   "cell_type": "code",
   "execution_count": 32,
   "metadata": {
    "collapsed": false
   },
   "outputs": [
    {
     "data": {
      "text/plain": [
       "'<html><head><div class=\"article-info\"><span class=\"byline \"><a href=\"/author/connor-finnegan/\"><img alt=\"2016%2f06%2f30%2fb0%2f201503270cheadshot_20.5abbf.2d457\" class=\"author_image\" src=\"http://i.amz.mshcdn.com/utF-AtG0D7uDgdK1Z4Ak7Ypvir0=/90x90/2016%2F06%2F30%2Fb0%2F201503270cHeadshot_20.5abbf.2d457.jpg\"/></a><span class=\"author_name\">By <a href=\"/author/connor-finnegan/\">Connor Finnegan</a></span><time datetime=\"Thu, 17 Apr 2014 03:31:43 +0000\">2014-04-17 03:31:43 UTC</time></span></div></head><body><h1 class=\"title\">NFL Star Helps Young Fan Prove Friendship With Adorable Video</h1><figure class=\"article-image\"><img alt=\"Houston Texans defensive end J.J. Watt (99) salutes the crowd after making a tackle in the fourth quarter of an NFL football game against the Indianapolis Colts, Sunday, Dec. 16, 2012, in Houston. \" class=\"microcontent\" data-fragment=\"lead-image\" data-image=\"http://i.amz.mshcdn.com/7tIZ4du_LancX3ka_bR1CYgpyFs=/950x534/2014%2F04%2F17%2F56%2Fjjwatt.ef660.jpg\" data-micro=\"1\" data-url=\"null\" src=\"http://i.amz.mshcdn.com/7tIZ4du_LancX3ka_bR1CYgpyFs=/950x534/2014%2F04%2F17%2F56%2Fjjwatt.ef660.jpg\"/><figcaption class=\"image-caption\">Houston Texans defensive end J.J. Watt (99) salutes the crowd after making a tackle in the fourth quarter of an NFL football game against the Indianapolis Colts, Sunday, Dec. 16, 2012, in Houston. </figcaption><div class=\"image-credit\"></div></figure><article data-channel=\"entertainment\"><section class=\"article-content\"> <p>At 6-foot-5 and 298 pounds, All-Pro <a href=\"http://mashable.com/category/nfl/\">NFL</a> star J.J. Watt is a terrorizing force on the gridiron.</p> <p>Off the field, however, it seems he\\'s a softie with a heart of gold. </p> <div class=\"see-also\"><p>See also: <a href=\"http://mashable.com/2014/04/15/trump-buffalo-bills/\">Trump: I\\'m Serious About Buying the Buffalo Bills</a></p></div> <p>The Houston Texans defensive lineman has previously shown his good-guy tendencies by participating in a \"wedding\" with a <a href=\"http://mashable.com/2013/01/31/nfl-star-jj-watt-proposes-fan/\">young admirer</a> and making a <a href=\"http://mashable.com/2013/05/22/nfl-jj-watt/\">quadriplegic fan\\'s</a> dreams come true.</p> <p>But Watt\\'s latest act of kindness might top them all. It seems a young fan named Trey had told classmates at school that he and Watt were buddies. The other kids didn\\'t believe young Trey, so Watt took matters into his own hands by posting this tweet and its awesome accompanying <a href=\"http://mashable.com/category/instagram/\">Instagram</a> video. </p> <blockquote class=\"twitter-tweet\" lang=\"en\"> <p>The kids at Trey\\'s school didn\\'t believe that we were friends... <a href=\"http://t.co/9QVVRqoGFm\" target=\"_blank\">http://t.co/9QVVRqoGFm</a></p> <p>— JJ Watt (@JJWatt) <a href=\"https://twitter.com/JJWatt/statuses/456221894924976130\" target=\"_blank\">April 16, 2014</a></p> </blockquote> <p><iframe allowtransparency=\"true\" frameborder=\"0\" height=\"710\" scrolling=\"no\" src=\"//instagram.com/p/m1Hj-aSG8F/embed/\" width=\"612\"></iframe></p> <p>Turns out Trey has a pretty nice arm, as well.</p> <p>We don\\'t know what all-around good guy J.J. Watt\\'s next move will be — but we do know we can\\'t wait to see it.</p> <p><strong><div class=\"bonus-content\">BONUS: <a href=\"http://mashable.com/2013/12/18/best-sports-photos-2013/\">50 Stunning Sports Photos From 2013</a> </div></strong></p> <section class=\"gallery\" data-display-mode=\"gallery\" data-id=\"14035\" data-slide-title-pos=\"\" data-slug=\"50-amazing-sports-photos-from-2013\"> <header> <h1>50 Amazing Sports Photos From 2013</h1> </header> <ol class=\"slides\"> <li class=\"slide\" data-content-source=\"Gallery - Image - Getty\" data-id=\"54bea27112d2cd065e00003f\" data-skip-rerender=\"false\" data-thumb=\"http://i.amz.mshcdn.com/b12Jz2fGoARTQ4virnzABU6H8Vk=/180x140/http%3A%2F%2Fmashable.com%2Fwp-content%2Fgallery%2F50-amazing-sports-photos-from-2013%2FUsainGettyYear.jpg\"> <figure> <img alt=\"\" src=\"http://i.amz.mshcdn.com/ZAvWCWr-YskqVMQDZV0kJEGf4no=/fit-in/850x850/http%3A%2F%2Fmashable.com%2Fwp-content%2Fgallery%2F50-amazing-sports-photos-from-2013%2FUsainGettyYear.jpg\"> </img></figure> <div class=\"meta\"> <h2 class=\"title\">1. Jamaica\\'s Usain Bolt wins the 100-meter final at the 2013 IAAF World Championships in Moscow on Aug. 11 as lightning strikes in the sky above Luzhniki Stadium.</h2> <div class=\"caption\"></div> <div class=\"credit\"> Image: Olivier Morin/AFP/Getty Images </div> </div> </li> <li class=\"slide\" data-content-source=\"Gallery - Image - Getty\" data-id=\"54bea27112d2cd065e000040\" data-skip-rerender=\"false\" data-thumb=\"http://i.amz.mshcdn.com/cslRMDBPi2vBmGKaP_4nT8DAu_U=/180x140/http%3A%2F%2Fmashable.com%2Fwp-content%2Fgallery%2F50-amazing-sports-photos-from-2013%2Fgettyimages_169877402.jpg\"> <figure> <img alt=\"\" src=\"http://i.amz.mshcdn.com/zMFwEZNf1mHH1BPH5Jy3e1PBBRY=/fit-in/850x850/http%3A%2F%2Fmashable.com%2Fwp-content%2Fgallery%2F50-amazing-sports-photos-from-2013%2Fgettyimages_169877402.jpg\"> </img></figure> <div class=\"meta\"> <h2 class=\"title\">2. LeBron James moments before leading the Miami Heat to a win over the Indiana Pacers in Game 7 of the NBA\\'s Eastern Conference Finals on June 3. </h2> <div class=\"caption\"></div> <div class=\"credit\"> Image: Chris Trotman/Getty Images </div> </div> </li> <li class=\"slide\" data-content-source=\"Gallery - Image - Getty\" data-id=\"54bea27112d2cd065e000041\" data-skip-rerender=\"false\" data-thumb=\"http://i.amz.mshcdn.com/TZdMFL9JQn3BItCxxwDgjKdEbc8=/180x140/http%3A%2F%2Fmashable.com%2Fwp-content%2Fgallery%2F50-amazing-sports-photos-from-2013%2FLacrosseGettyYear.jpg\"> <figure> <img alt=\"\" src=\"http://i.amz.mshcdn.com/kH5mWNhJyxiH871x3s7pl05ksJc=/fit-in/850x850/http%3A%2F%2Fmashable.com%2Fwp-content%2Fgallery%2F50-amazing-sports-photos-from-2013%2FLacrosseGettyYear.jpg\"> </img></figure> <div class=\"meta\"> <h2 class=\"title\">3. Pro lacrosse player Stephen Berger of the New York Lizards gets encouragement from young fans before a May 31 game. </h2> <div class=\"caption\"></div> <div class=\"credit\"> Image: Jim McIsaac/Getty Images </div> </div> </li> <li class=\"slide\" data-content-source=\"Gallery - Image - Getty\" data-id=\"54bea27112d2cd065e000042\" data-skip-rerender=\"false\" data-thumb=\"http://i.amz.mshcdn.com/_-q3x6_JerL5QM6K_fwFbv8L_Kw=/180x140/http%3A%2F%2Fmashable.com%2Fwp-content%2Fgallery%2F50-amazing-sports-photos-from-2013%2FUFCGettyYear.jpg\"> <figure> <img alt=\"\" src=\"http://i.amz.mshcdn.com/1mB3PTNC347yp_ydcZhmJygYbco=/fit-in/850x850/http%3A%2F%2Fmashable.com%2Fwp-content%2Fgallery%2F50-amazing-sports-photos-from-2013%2FUFCGettyYear.jpg\"> </img></figure> <div class=\"meta\"> <h2 class=\"title\">4. Gabriel Gonzaga employs a guillotine choke submission against Ben Rothwell in their heavyweight MMA fight on Jan. 19 in Sao Paulo, Brazil. </h2> <div class=\"caption\"></div> <div class=\"credit\"> Image: Josh Hedges/Zuffa LLC/Zuffa LLC via Getty Images </div> </div> </li> <li class=\"slide\" data-content-source=\"Gallery - Image - Getty\" data-id=\"54bea27112d2cd065e000043\" data-skip-rerender=\"false\" data-thumb=\"http://i.amz.mshcdn.com/AVOzTtuk2z6NorcErTnY1Fc3Hf8=/180x140/http%3A%2F%2Fmashable.com%2Fwp-content%2Fgallery%2F50-amazing-sports-photos-from-2013%2FSoccerShadowYear.jpg\"> <figure> <img alt=\"\" src=\"http://i.amz.mshcdn.com/eAY7VyDRYKrnyo4c8FlsXSVE2H4=/fit-in/850x850/http%3A%2F%2Fmashable.com%2Fwp-content%2Fgallery%2F50-amazing-sports-photos-from-2013%2FSoccerShadowYear.jpg\"> </img></figure> <div class=\"meta\"> <h2 class=\"title\">5. Uruguay takes on Italy for 3rd place at the FIFA Confederations Cup in Brazil on June 30. </h2> <div class=\"caption\"></div> <div class=\"credit\"> Image: Handout/Shaun Botterill/FIFA via Getty Images </div> </div> </li> <li class=\"slide\" data-content-source=\"Gallery - Image - Getty\" data-id=\"54bea27112d2cd065e000044\" data-skip-rerender=\"false\" data-thumb=\"http://i.amz.mshcdn.com/RIlvKWE0GaglLXd8jDuWpa6QXkk=/180x140/http%3A%2F%2Fmashable.com%2Fwp-content%2Fgallery%2F50-amazing-sports-photos-from-2013%2Fgettyimages_162402872.jpg\"> <figure> <img alt=\"\" src=\"http://i.amz.mshcdn.com/t5fEpD5R9B58K2xYr_kf-crGLOE=/fit-in/850x850/http%3A%2F%2Fmashable.com%2Fwp-content%2Fgallery%2F50-amazing-sports-photos-from-2013%2Fgettyimages_162402872.jpg\"> </img></figure> <div class=\"meta\"> <h2 class=\"title\">6. Jarrett Jack of the Golden State Warriors celebrates a basket as fans go wild during a Feb. 22 game against the San Antonio Spurs. </h2> <div class=\"caption\"></div> <div class=\"credit\"> Image: Ezra Shaw/Getty Images </div> </div> </li> <li class=\"slide\" data-content-source=\"Gallery - Image - Getty\" data-id=\"54bea27112d2cd065e000045\" data-skip-rerender=\"false\" data-thumb=\"http://i.amz.mshcdn.com/mtdt5FBCUeyLK8TCK3TDzKB69nI=/180x140/http%3A%2F%2Fmashable.com%2Fwp-content%2Fgallery%2F50-amazing-sports-photos-from-2013%2Fgettysportscows.jpg\"> <figure> <img alt=\"\" src=\"http://i.amz.mshcdn.com/DQziJhhsdlQEFIe5QJy7H9vEyJE=/fit-in/850x850/http%3A%2F%2Fmashable.com%2Fwp-content%2Fgallery%2F50-amazing-sports-photos-from-2013%2Fgettysportscows.jpg\"> </img></figure> <div class=\"meta\"> <h2 class=\"title\">7. Major League Baseball rookies George Kottaras of the Kansas City Royals and Robbie Ross of the Texas Rangers compete in a cow milking contest on June 1. </h2> <div class=\"caption\"></div> <div class=\"credit\"> Image: Rick Yeatts/Getty Images </div> </div> </li> <li class=\"slide\" data-content-source=\"Gallery - Image - Getty\" data-id=\"54bea27112d2cd065e000046\" data-skip-rerender=\"false\" data-thumb=\"http://i.amz.mshcdn.com/39yT8RlvDVO4iuAONdm8uOnyNpE=/180x140/http%3A%2F%2Fmashable.com%2Fwp-content%2Fgallery%2F50-amazing-sports-photos-from-2013%2FDiverYear.jpg\"> <figure> <img alt=\"\" src=\"http://i.amz.mshcdn.com/kqloqFJFrNr7pyS-LDw_F1m9kqQ=/fit-in/850x850/http%3A%2F%2Fmashable.com%2Fwp-content%2Fgallery%2F50-amazing-sports-photos-from-2013%2FDiverYear.jpg\"> </img></figure> <div class=\"meta\"> <h2 class=\"title\">8. Sergy Nazin of Russia competes in the world diving championships as Barcelona\\'s iconic Sagrada Família cathedral looms in the background on July 28. </h2> <div class=\"caption\"></div> <div class=\"credit\"> Image: Al Bello/Getty Images </div> </div> </li> <li class=\"slide\" data-content-source=\"Gallery - Image - Getty\" data-id=\"54bea27112d2cd065e000047\" data-skip-rerender=\"false\" data-thumb=\"http://i.amz.mshcdn.com/l_m9iblGHMpO47eg4pAViQxU4Pw=/180x140/http%3A%2F%2Fmashable.com%2Fwp-content%2Fgallery%2F50-amazing-sports-photos-from-2013%2FBaseballFansGetty.jpg\"> <figure> <img alt=\"\" src=\"http://i.amz.mshcdn.com/Za7vNfpUuPfKUsHKDKg0zG851ak=/fit-in/850x850/http%3A%2F%2Fmashable.com%2Fwp-content%2Fgallery%2F50-amazing-sports-photos-from-2013%2FBaseballFansGetty.jpg\"> </img></figure> <div class=\"meta\"> <h2 class=\"title\">9. Baseball fans display the full range of human emotion while trying to catch an Aug. 28 foul ball at Fenway Park. </h2> <div class=\"caption\"></div> <div class=\"credit\"> Image: Jim Davis/The Boston Globe via Getty Images </div> </div> </li> <li class=\"slide\" data-content-source=\"Gallery - Image - Getty\" data-id=\"54bea27112d2cd065e000048\" data-skip-rerender=\"false\" data-thumb=\"http://i.amz.mshcdn.com/oCWpFJiRYeUd9uYpW0GPA6cH7S4=/180x140/http%3A%2F%2Fmashable.com%2Fwp-content%2Fgallery%2F50-amazing-sports-photos-from-2013%2FTrackPersonYear.jpg\"> <figure> <img alt=\"\" src=\"http://i.amz.mshcdn.com/JvjCBAJqcyNE-Km7DY4iJAwB2iQ=/fit-in/850x850/http%3A%2F%2Fmashable.com%2Fwp-content%2Fgallery%2F50-amazing-sports-photos-from-2013%2FTrackPersonYear.jpg\"> </img></figure> <div class=\"meta\"> <h2 class=\"title\">10. Halima Hachlaf of Morocco lies on the track after competing in the women\\'s 800-meter semifinals IAAF World Athletics Championships in Moscow on Aug. 16. </h2> <div class=\"caption\"></div> <div class=\"credit\"> Image: Christian Petersen/Getty Images </div> </div> </li> <li class=\"slide\" data-content-source=\"Gallery - Image - Getty\" data-id=\"54bea27112d2cd065e000049\" data-skip-rerender=\"false\" data-thumb=\"http://i.amz.mshcdn.com/_Ex0lMnMgwo3pIXuE6b07QfVoDc=/180x140/http%3A%2F%2Fmashable.com%2Fwp-content%2Fgallery%2F50-amazing-sports-photos-from-2013%2FAmericasCupYear.jpg\"> <figure> <img alt=\"\" src=\"http://i.amz.mshcdn.com/hoimzINCF2p-y0sskHLccTv4j2k=/fit-in/850x850/http%3A%2F%2Fmashable.com%2Fwp-content%2Fgallery%2F50-amazing-sports-photos-from-2013%2FAmericasCupYear.jpg\"> </img></figure> <div class=\"meta\"> <h2 class=\"title\">11. Boats zip between Alcatraz Island and the San Francisco skyline during the fifth race of the America\\'s Cup Finals on Sept. 10. </h2> <div class=\"caption\"></div> <div class=\"credit\"> Image: Jamie Squire/Getty Images </div> </div> </li> <li class=\"slide\" data-content-source=\"Gallery - Image - Getty\" data-id=\"54bea27112d2cd065e00004a\" data-skip-rerender=\"false\" data-thumb=\"http://i.amz.mshcdn.com/tijhJKT4WO0sljpi7Uo3zdJ2Ws4=/180x140/http%3A%2F%2Fmashable.com%2Fwp-content%2Fgallery%2F50-amazing-sports-photos-from-2013%2FSwimmerYear.jpg\"> <figure> <img alt=\"\" src=\"http://i.amz.mshcdn.com/6_dBTBUT-x-rjX74v232pkGs_Nw=/fit-in/850x850/http%3A%2F%2Fmashable.com%2Fwp-content%2Fgallery%2F50-amazing-sports-photos-from-2013%2FSwimmerYear.jpg\"> </img></figure> <div class=\"meta\"> <h2 class=\"title\">12. Yekaterina Rudenko of Kazakhstan competes at the International Swimming Federation championships in Barcelona on July 31.</h2> <div class=\"caption\"></div> <div class=\"credit\"> Image: Quinn Rooney/Getty Images </div> </div> </li> <li class=\"slide\" data-content-source=\"Gallery - Image - Getty\" data-id=\"54bea27112d2cd065e00004b\" data-skip-rerender=\"false\" data-thumb=\"http://i.amz.mshcdn.com/E40FAnwyVp-iJOtTHENrc6C5Sok=/180x140/http%3A%2F%2Fmashable.com%2Fwp-content%2Fgallery%2F50-amazing-sports-photos-from-2013%2FSnowSoccerGettyYear.jpg\"> <figure> <img alt=\"\" src=\"http://i.amz.mshcdn.com/ducbobZ0yCgsm6Ksd677Dbk9gOY=/fit-in/850x850/http%3A%2F%2Fmashable.com%2Fwp-content%2Fgallery%2F50-amazing-sports-photos-from-2013%2FSnowSoccerGettyYear.jpg\"> </img></figure> <div class=\"meta\"> <h2 class=\"title\">13. The United States takes on Costa Rica in a World Cup qualifying match amid driving snow on March 22 in Commerce City, Colo. </h2> <div class=\"caption\"></div> <div class=\"credit\"> Image: Dustin Bradford/Getty Images </div> </div> </li> <li class=\"slide\" data-content-source=\"Gallery - Image - Getty\" data-id=\"54bea27112d2cd065e00004c\" data-skip-rerender=\"false\" data-thumb=\"http://i.amz.mshcdn.com/LhuzFjCOZwTzPIu9EvkJ8NaUAAs=/180x140/http%3A%2F%2Fmashable.com%2Fwp-content%2Fgallery%2F50-amazing-sports-photos-from-2013%2F160156573.jpg\"> <figure> <img alt=\"\" src=\"http://i.amz.mshcdn.com/9VRK3ShPCh5Ki-CkN67gqwaGQlk=/fit-in/850x850/http%3A%2F%2Fmashable.com%2Fwp-content%2Fgallery%2F50-amazing-sports-photos-from-2013%2F160156573.jpg\"> </img></figure> <div class=\"meta\"> <h2 class=\"title\">14. Novak Djokovic celebrates after winning the Australian Open over Andy Murray on Jan. 27.</h2> <div class=\"caption\"></div> <div class=\"credit\"> Image: Ryan Pierse/Getty Images </div> </div> </li> <li class=\"slide\" data-content-source=\"Gallery - Image - Getty\" data-id=\"54bea27112d2cd065e00004d\" data-skip-rerender=\"false\" data-thumb=\"http://i.amz.mshcdn.com/ep9bvNfcEWrfxv_NWJ8F_wcLPrs=/180x140/http%3A%2F%2Fmashable.com%2Fwp-content%2Fgallery%2F50-amazing-sports-photos-from-2013%2FNotreDameYear.jpg\"> <figure> <img alt=\"\" src=\"http://i.amz.mshcdn.com/3U8CjQLQ6Z6alYl9g4XhMV3ydsQ=/fit-in/850x850/http%3A%2F%2Fmashable.com%2Fwp-content%2Fgallery%2F50-amazing-sports-photos-from-2013%2FNotreDameYear.jpg\"> </img></figure> <div class=\"meta\"> <h2 class=\"title\">15. Notre Dame running back Cam McDaniel hilariously maintains perfect composure while getting tackled after losing his helmet on Oct. 19. </h2> <div class=\"caption\"></div> <div class=\"credit\"> Image: Jonathan Daniel/Getty Images </div> </div> </li> <li class=\"slide\" data-content-source=\"Gallery - Image - Getty\" data-id=\"54bea27112d2cd065e00004e\" data-skip-rerender=\"false\" data-thumb=\"http://i.amz.mshcdn.com/4vcJnsG0E2Oa_W_jrWI2RoB_9OE=/180x140/http%3A%2F%2Fmashable.com%2Fwp-content%2Fgallery%2F50-amazing-sports-photos-from-2013%2FPoolLegGettyYear.jpg\"> <figure> <img alt=\"\" src=\"http://i.amz.mshcdn.com/St_V4_zttsq3IgsU8y2-gCOaPS0=/fit-in/850x850/http%3A%2F%2Fmashable.com%2Fwp-content%2Fgallery%2F50-amazing-sports-photos-from-2013%2FPoolLegGettyYear.jpg\"> </img></figure> <div class=\"meta\"> <h2 class=\"title\">16. A prosthetic leg stands alone by the pool during the International Paralympic Committee\\'s world swimming championship on Aug. 15. </h2> <div class=\"caption\"></div> <div class=\"credit\"> Image: Charles Laberge/Getty Images </div> </div> </li> <li class=\"slide\" data-content-source=\"Gallery - Image - Getty\" data-id=\"54bea27112d2cd065e00004f\" data-skip-rerender=\"false\" data-thumb=\"http://i.amz.mshcdn.com/EAjtXb-zWeVel7SNz0Rr0KMNGNE=/180x140/http%3A%2F%2Fmashable.com%2Fwp-content%2Fgallery%2F50-amazing-sports-photos-from-2013%2FBrazilGoalYear.jpg\"> <figure> <img alt=\"\" src=\"http://i.amz.mshcdn.com/kIRvzkGvbmxOH7JtrRGdzlMPUz4=/fit-in/850x850/http%3A%2F%2Fmashable.com%2Fwp-content%2Fgallery%2F50-amazing-sports-photos-from-2013%2FBrazilGoalYear.jpg\"> </img></figure> <div class=\"meta\"> <h2 class=\"title\">17. David Luiz of Brazil is ecstatic after a teammate\\'s goal during the Confederations Cup on June 15. </h2> <div class=\"caption\"></div> <div class=\"credit\"> Image: Dean Mouhtaropoulos/Getty Images </div> </div> </li> <li class=\"slide\" data-content-source=\"Gallery - Image - Getty\" data-id=\"54bea27112d2cd065e000050\" data-skip-rerender=\"false\" data-thumb=\"http://i.amz.mshcdn.com/Rve1qMaMtY6nigxm3wRGU3AeIGs=/180x140/http%3A%2F%2Fmashable.com%2Fwp-content%2Fgallery%2F50-amazing-sports-photos-from-2013%2FJapanGettyYear.jpg\"> <figure> <img alt=\"\" src=\"http://i.amz.mshcdn.com/cB6PaPm_34nRjH6xRr8P_Ohqvew=/fit-in/850x850/http%3A%2F%2Fmashable.com%2Fwp-content%2Fgallery%2F50-amazing-sports-photos-from-2013%2FJapanGettyYear.jpg\"> </img></figure> <div class=\"meta\"> <h2 class=\"title\">18. Japanese officials react after Tokyo is awarded the 2020 Olympics at an announcement ceremony in Buenos Aires. </h2> <div class=\"caption\"></div> <div class=\"credit\"> Image: Ian Walton/Getty Images </div> </div> </li> <li class=\"slide\" data-content-source=\"Gallery - Image - Getty\" data-id=\"54bea27112d2cd065e000051\" data-skip-rerender=\"false\" data-thumb=\"http://i.amz.mshcdn.com/Xjvs7jr7ZslaTjkkb3oU4tHyaS4=/180x140/http%3A%2F%2Fmashable.com%2Fwp-content%2Fgallery%2F50-amazing-sports-photos-from-2013%2FBoxingGettyYear.jpg\"> <figure> <img alt=\"\" src=\"http://i.amz.mshcdn.com/1cOTZcgVD44wbxXxLW6kcwEQQh8=/fit-in/850x850/http%3A%2F%2Fmashable.com%2Fwp-content%2Fgallery%2F50-amazing-sports-photos-from-2013%2FBoxingGettyYear.jpg\"> </img></figure> <div class=\"meta\"> <h2 class=\"title\">19. Danny Garcia lands a bloody punch on Zab Judah during their championship boxing match on April 27. </h2> <div class=\"caption\"></div> <div class=\"credit\"> Image: Elsa/Getty Images </div> </div> </li> <li class=\"slide\" data-content-source=\"Gallery - Image - Getty\" data-id=\"54bea27112d2cd065e000052\" data-skip-rerender=\"false\" data-thumb=\"http://i.amz.mshcdn.com/Caz0fOw06hLlMQ1oKzRGnlEyJ9s=/180x140/http%3A%2F%2Fmashable.com%2Fwp-content%2Fgallery%2F50-amazing-sports-photos-from-2013%2FCricketGettyYer.jpg\"> <figure> <img alt=\"\" src=\"http://i.amz.mshcdn.com/l38uXdW6CQz4DNe2UorPu3SCXx0=/fit-in/850x850/http%3A%2F%2Fmashable.com%2Fwp-content%2Fgallery%2F50-amazing-sports-photos-from-2013%2FCricketGettyYer.jpg\"> </img></figure> <div class=\"meta\"> <h2 class=\"title\">20. Zafar Gohar of Pakistan and Ben Duckett of England face off in an international under-19 cricket match on Aug. 19. </h2> <div class=\"caption\"></div> <div class=\"credit\"> Image: Laurence Griffiths/Getty Images </div> </div> </li> <li class=\"slide\" data-content-source=\"Gallery - Image - Getty\" data-id=\"54bea27112d2cd065e000053\" data-skip-rerender=\"false\" data-thumb=\"http://i.amz.mshcdn.com/cZQW17JpSHw-cHzvQa36s0_DqE4=/180x140/http%3A%2F%2Fmashable.com%2Fwp-content%2Fgallery%2F50-amazing-sports-photos-from-2013%2FGolfGatorGettyYear.jpg\"> <figure> <img alt=\"\" src=\"http://i.amz.mshcdn.com/L2VWdWDGdNYs4oJvXY1nP_xy8FY=/fit-in/850x850/http%3A%2F%2Fmashable.com%2Fwp-content%2Fgallery%2F50-amazing-sports-photos-from-2013%2FGolfGatorGettyYear.jpg\"> </img></figure> <div class=\"meta\"> <h2 class=\"title\">21. An alligator guards the 14th fairway at an April 25 golf tournament in Avondale, La. \\r </h2> <div class=\"caption\"></div> <div class=\"credit\"> Image: Chris Graythen/Getty Images </div> </div> </li> <li class=\"slide\" data-content-source=\"Gallery - Image - Getty\" data-id=\"54bea27112d2cd065e000054\" data-skip-rerender=\"false\" data-thumb=\"http://i.amz.mshcdn.com/h7MCYoF63Vy-OKdMuLSALtArCls=/180x140/http%3A%2F%2Fmashable.com%2Fwp-content%2Fgallery%2F50-amazing-sports-photos-from-2013%2FSoxGuardGetty.jpg\"> <figure> <img alt=\"\" src=\"http://i.amz.mshcdn.com/smbpj90qzDjN87czOay1xpukMt8=/fit-in/850x850/http%3A%2F%2Fmashable.com%2Fwp-content%2Fgallery%2F50-amazing-sports-photos-from-2013%2FSoxGuardGetty.jpg\"> </img></figure> <div class=\"meta\"> <h2 class=\"title\">22. A Boston police officer at Fenway Park <a href=\"http://mashable.com/2013/10/14/red-sox-cop-mlb-playoffs/\">loses himself</a> in the moment, celebrating a Red Sox home run in a come-from-behind win during the MLB playoffs on Oct. 13. </h2> <div class=\"caption\"></div> <div class=\"credit\"> Image: Al Bello/Getty Images </div> </div> </li> <li class=\"slide\" data-content-source=\"Gallery - Image - Getty\" data-id=\"54bea27112d2cd065e000055\" data-skip-rerender=\"false\" data-thumb=\"http://i.amz.mshcdn.com/nl7TOAddqjpqiU_sd11o5p9oy1U=/180x140/http%3A%2F%2Fmashable.com%2Fwp-content%2Fgallery%2F50-amazing-sports-photos-from-2013%2FBradStevensGettyYear.jpg\"> <figure> <img alt=\"\" src=\"http://i.amz.mshcdn.com/j0lgUO_AFzuaG3Ao8OY0YXQzh1E=/fit-in/850x850/http%3A%2F%2Fmashable.com%2Fwp-content%2Fgallery%2F50-amazing-sports-photos-from-2013%2FBradStevensGettyYear.jpg\"> </img></figure> <div class=\"meta\"> <h2 class=\"title\">23. Butler coach Brad Stevens endures a moment of agony after a ref\\'s whistle during the NCAA Tournament on March 23. </h2> <div class=\"caption\"></div> <div class=\"credit\"> Image: Andy Lyons/Getty Images </div> </div> </li> <li class=\"slide\" data-content-source=\"Gallery - Image - Getty\" data-id=\"54bea27112d2cd065e000056\" data-skip-rerender=\"false\" data-thumb=\"http://i.amz.mshcdn.com/FMYg8WvUMbF7Iz7lCPexyfsGxDs=/180x140/http%3A%2F%2Fmashable.com%2Fwp-content%2Fgallery%2F50-amazing-sports-photos-from-2013%2FDrewBreesYearGetty.jpg\"> <figure> <img alt=\"\" src=\"http://i.amz.mshcdn.com/MynNaBqh95Dvt2WoMxnXjb1J2-0=/fit-in/850x850/http%3A%2F%2Fmashable.com%2Fwp-content%2Fgallery%2F50-amazing-sports-photos-from-2013%2FDrewBreesYearGetty.jpg\"> </img></figure> <div class=\"meta\"> <h2 class=\"title\">24. The Saints logo lines up perfectly behind quarterback Drew Brees at the Superdome in New Orleans on Sept. 8. </h2> <div class=\"caption\"></div> <div class=\"credit\"> Image: Chris Graythen/Getty Images </div> </div> </li> <li class=\"slide\" data-content-source=\"Gallery - Image - Getty\" data-id=\"54bea27112d2cd065e000057\" data-skip-rerender=\"false\" data-thumb=\"http://i.amz.mshcdn.com/z7ikeKFV4EbbMe9lGiy8Hsb1-Ow=/180x140/http%3A%2F%2Fmashable.com%2Fwp-content%2Fgallery%2F50-amazing-sports-photos-from-2013%2FSharapovaYear.jpg\"> <figure> <img alt=\"\" src=\"http://i.amz.mshcdn.com/HeNVFBOfEfPEAawZ_lIS_vdHR88=/fit-in/850x850/http%3A%2F%2Fmashable.com%2Fwp-content%2Fgallery%2F50-amazing-sports-photos-from-2013%2FSharapovaYear.jpg\"> </img></figure> <div class=\"meta\"> <h2 class=\"title\">25. Maria Sharapova plays a backhand during the Australian Open quarterfinals on Jan. 22. </h2> <div class=\"caption\"></div> <div class=\"credit\"> Image: Julian Finney/Getty Images </div> </div> </li> <li class=\"slide\" data-content-source=\"Gallery - Image - Getty\" data-id=\"54bea27112d2cd065e000058\" data-skip-rerender=\"false\" data-thumb=\"http://i.amz.mshcdn.com/jmer2pSbFz04-jm4ll2xAQ9a_H0=/180x140/http%3A%2F%2Fmashable.com%2Fwp-content%2Fgallery%2F50-amazing-sports-photos-from-2013%2FSoccerBarYear.jpg\"> <figure> <img alt=\"\" src=\"http://i.amz.mshcdn.com/OICe2UJDXIN2Te2o406M5Sh_j9w=/fit-in/850x850/http%3A%2F%2Fmashable.com%2Fwp-content%2Fgallery%2F50-amazing-sports-photos-from-2013%2FSoccerBarYear.jpg\"> </img></figure> <div class=\"meta\"> <h2 class=\"title\">26. A man watches the Brazilian national soccer team from a favela bar in Rio de Janeiro on June 9. </h2> <div class=\"caption\"></div> <div class=\"credit\"> Image: Laurence Griffiths/Getty Images </div> </div> </li> <li class=\"slide\" data-content-source=\"Gallery - Image - Getty\" data-id=\"54bea27112d2cd065e000059\" data-skip-rerender=\"false\" data-thumb=\"http://i.amz.mshcdn.com/lVfw-dAxVTKrb005ZuTBsNHgCAo=/180x140/http%3A%2F%2Fmashable.com%2Fwp-content%2Fgallery%2F50-amazing-sports-photos-from-2013%2FTrackPeopleYear.jpg\"> <figure> <img alt=\"\" src=\"http://i.amz.mshcdn.com/_Ldept4978A8vu2Z-rlbv3nxBak=/fit-in/850x850/http%3A%2F%2Fmashable.com%2Fwp-content%2Fgallery%2F50-amazing-sports-photos-from-2013%2FTrackPeopleYear.jpg\"> </img></figure> <div class=\"meta\"> <h2 class=\"title\">27. Jehue Gordon of Trinidad and Tobago <em>just</em> beats American Michael Tinsley in the world 400-meter hurdles championship in Moscow on Aug. 15. </h2> <div class=\"caption\"></div> <div class=\"credit\"> Image: Mark Kolbe/Getty Images </div> </div> </li> <li class=\"slide\" data-content-source=\"Gallery - Image - Getty\" data-id=\"54bea27112d2cd065e00005a\" data-skip-rerender=\"false\" data-thumb=\"http://i.amz.mshcdn.com/hdM_dSwFwHIor4LGVT5TWXuUr6w=/180x140/http%3A%2F%2Fmashable.com%2Fwp-content%2Fgallery%2F50-amazing-sports-photos-from-2013%2Fbaumanbruinsgettyyear.jpg\"> <figure> <img alt=\"\" src=\"http://i.amz.mshcdn.com/ZFEbqsJFeCoETGSEiQ57vj9coyw=/fit-in/850x850/http%3A%2F%2Fmashable.com%2Fwp-content%2Fgallery%2F50-amazing-sports-photos-from-2013%2Fbaumanbruinsgettyyear.jpg\"> </img></figure> <div class=\"meta\"> <h2 class=\"title\">28. Boston Marathon bombing victim Jeff Bauman greets the crowd before the Boston Bruins\\' NHL playoff game on May 4. </h2> <div class=\"caption\"></div> <div class=\"credit\"> Image: Brian Babineau/NHLI via Getty Images </div> </div> </li> <li class=\"slide\" data-content-source=\"Gallery - Image - Getty\" data-id=\"54bea27112d2cd065e00005b\" data-skip-rerender=\"false\" data-thumb=\"http://i.amz.mshcdn.com/dn0QKeU7bt5u0CrHJWHqJDmo0Jk=/180x140/http%3A%2F%2Fmashable.com%2Fwp-content%2Fgallery%2F50-amazing-sports-photos-from-2013%2FFredJacksonTDGettyYear.jpg\"> <figure> <img alt=\"\" src=\"http://i.amz.mshcdn.com/Ugbukx7Dv9KEEeacwTLhY16XAK8=/fit-in/850x850/http%3A%2F%2Fmashable.com%2Fwp-content%2Fgallery%2F50-amazing-sports-photos-from-2013%2FFredJacksonTDGettyYear.jpg\"> </img></figure> <div class=\"meta\"> <h2 class=\"title\">29. Fred Jackson after scoring a touchdown for the Buffalo Bills on Dec. 1.  </h2> <div class=\"caption\"></div> <div class=\"credit\"> Image: Rick Stewart/Getty Images </div> </div> </li> <li class=\"slide\" data-content-source=\"Gallery - Image - Getty\" data-id=\"54bea27112d2cd065e00005c\" data-skip-rerender=\"false\" data-thumb=\"http://i.amz.mshcdn.com/JRgpt6B7eXqeo7CvosIMamssuBs=/180x140/http%3A%2F%2Fmashable.com%2Fwp-content%2Fgallery%2F50-amazing-sports-photos-from-2013%2FRodeoGettyYear.jpg\"> <figure> <img alt=\"\" src=\"http://i.amz.mshcdn.com/L7TSYLtBzOFfU4feekYXvMtL2f4=/fit-in/850x850/http%3A%2F%2Fmashable.com%2Fwp-content%2Fgallery%2F50-amazing-sports-photos-from-2013%2FRodeoGettyYear.jpg\"> </img></figure> <div class=\"meta\"> <h2 class=\"title\">30. Man versus bull at the National Rodeo Finals on Australia\\'s Gold Coast on June 16. </h2> <div class=\"caption\"></div> <div class=\"credit\"> Image: Matt Roberts/Getty Images </div> </div> </li> <li class=\"slide\" data-content-source=\"Gallery - Image - Getty\" data-id=\"54bea27112d2cd065e00005d\" data-skip-rerender=\"false\" data-thumb=\"http://i.amz.mshcdn.com/RI38L2xyro0-Vvn0qeeUkb1LXRM=/180x140/http%3A%2F%2Fmashable.com%2Fwp-content%2Fgallery%2F50-amazing-sports-photos-from-2013%2FSuperBowlGettyYear.jpg\"> <figure> <img alt=\"\" src=\"http://i.amz.mshcdn.com/nQE5wDnfEJSVqZWrG0r_J7Zyw_U=/fit-in/850x850/http%3A%2F%2Fmashable.com%2Fwp-content%2Fgallery%2F50-amazing-sports-photos-from-2013%2FSuperBowlGettyYear.jpg\"> </img></figure> <div class=\"meta\"> <h2 class=\"title\">31. Parrish Cox of the 49ers is a lonely man amid the Ravens\\' victory celebration following Super Bowl XLVII on Feb. 3. \\r </h2> <div class=\"caption\"></div> <div class=\"credit\"> Image: Mike Ehrmann/Getty Images </div> </div> </li> <li class=\"slide\" data-content-source=\"Gallery - Image - Getty\" data-id=\"54bea27112d2cd065e00005e\" data-skip-rerender=\"false\" data-thumb=\"http://i.amz.mshcdn.com/nBW1xl7D6RsA3uAlvJKXKZtayMg=/180x140/http%3A%2F%2Fmashable.com%2Fwp-content%2Fgallery%2F50-amazing-sports-photos-from-2013%2FBamaFootballGettyYear.jpg\"> <figure> <img alt=\"\" src=\"http://i.amz.mshcdn.com/PBnxuSxq9oKOcmV4NQ4W36J6x1I=/fit-in/850x850/http%3A%2F%2Fmashable.com%2Fwp-content%2Fgallery%2F50-amazing-sports-photos-from-2013%2FBamaFootballGettyYear.jpg\"> </img></figure> <div class=\"meta\"> <h2 class=\"title\">32. Alabama\\'s Bryant-Denny Stadium during a college football game on Sept. 21. </h2> <div class=\"caption\"></div> <div class=\"credit\"> Image: Kevin C. Cox/Getty Images </div> </div> </li> <li class=\"slide\" data-content-source=\"Gallery - Image - Getty\" data-id=\"54bea27112d2cd065e00005f\" data-skip-rerender=\"false\" data-thumb=\"http://i.amz.mshcdn.com/TZw29J6xHuCq3HyT-wMxO4cShUk=/180x140/http%3A%2F%2Fmashable.com%2Fwp-content%2Fgallery%2F50-amazing-sports-photos-from-2013%2Fgettyimages_167864934.jpg\"> <figure> <img alt=\"\" src=\"http://i.amz.mshcdn.com/Xin69n0uhKHWbI1KxKx0dcwbnc0=/fit-in/850x850/http%3A%2F%2Fmashable.com%2Fwp-content%2Fgallery%2F50-amazing-sports-photos-from-2013%2Fgettyimages_167864934.jpg\"> </img></figure> <div class=\"meta\"> <h2 class=\"title\">33. Carmelo Anthony sails into the crowd while chasing a loose ball for the New York Knicks during a May 1 playoff game. </h2> <div class=\"caption\"></div> <div class=\"credit\"> Image: Al Bello/Getty Images </div> </div> </li> <li class=\"slide\" data-content-source=\"Gallery - Image - Getty\" data-id=\"54bea27212d2cd065e000060\" data-skip-rerender=\"false\" data-thumb=\"http://i.amz.mshcdn.com/bshzY6WKeMg9ogNH4FLmT-Sadp0=/180x140/http%3A%2F%2Fmashable.com%2Fwp-content%2Fgallery%2F50-amazing-sports-photos-from-2013%2FBlurryFootballGetyyYear.jpg\"> <figure> <img alt=\"\" src=\"http://i.amz.mshcdn.com/uQahPMs0PTQKj3ifIiRfRgmiHyg=/fit-in/850x850/http%3A%2F%2Fmashable.com%2Fwp-content%2Fgallery%2F50-amazing-sports-photos-from-2013%2FBlurryFootballGetyyYear.jpg\"> </img></figure> <div class=\"meta\"> <h2 class=\"title\">34. Ryan Mathews runs from defenders during an NFL game on Nov. 17. </h2> <div class=\"caption\"></div> <div class=\"credit\"> Image:  Streeter Lecka/Getty Images </div> </div> </li> <li class=\"slide\" data-content-source=\"Gallery - Image - Getty\" data-id=\"54bea27212d2cd065e000061\" data-skip-rerender=\"false\" data-thumb=\"http://i.amz.mshcdn.com/VqIetnSI3A_EU6MxkmHx0x36e8A=/180x140/http%3A%2F%2Fmashable.com%2Fwp-content%2Fgallery%2F50-amazing-sports-photos-from-2013%2FCheerleaderGettyYear.jpg\"> <figure> <img alt=\"\" src=\"http://i.amz.mshcdn.com/cBCPCmqdwHw6wXCzkQuTuToNcH4=/fit-in/850x850/http%3A%2F%2Fmashable.com%2Fwp-content%2Fgallery%2F50-amazing-sports-photos-from-2013%2FCheerleaderGettyYear.jpg\"> </img></figure> <div class=\"meta\"> <h2 class=\"title\">35. A Philadelphia Eagles cheerleader performs during a game on Sept. 15.  </h2> <div class=\"caption\"></div> <div class=\"credit\"> Image: Patrick Smith/Getty Images </div> </div> </li> <li class=\"slide\" data-content-source=\"Gallery - Image - Getty\" data-id=\"54bea27212d2cd065e000062\" data-skip-rerender=\"false\" data-thumb=\"http://i.amz.mshcdn.com/GKdx8FRmQp70cbyhNAGQPYGRNPE=/180x140/http%3A%2F%2Fmashable.com%2Fwp-content%2Fgallery%2F50-amazing-sports-photos-from-2013%2FDeathValleyGettyYear.jpg\"> <figure> <img alt=\"\" src=\"http://i.amz.mshcdn.com/vAYZtpHNu7XpcJlQg6UZU0A15_Y=/fit-in/850x850/http%3A%2F%2Fmashable.com%2Fwp-content%2Fgallery%2F50-amazing-sports-photos-from-2013%2FDeathValleyGettyYear.jpg\"> </img></figure> <div class=\"meta\"> <h2 class=\"title\">36. Double amputee Chris Moon runs in the 135-mile Badwater ultra-marathon race on July 15 in Death Valley National Park, Calif. </h2> <div class=\"caption\"></div> <div class=\"credit\"> Image: David McNew/Getty Images </div> </div> </li> <li class=\"slide\" data-content-source=\"Gallery - Image - Getty\" data-id=\"54bea27212d2cd065e000063\" data-skip-rerender=\"false\" data-thumb=\"http://i.amz.mshcdn.com/oWZDFASrgYshWkn4qkr3NIUIt4A=/180x140/http%3A%2F%2Fmashable.com%2Fwp-content%2Fgallery%2F50-amazing-sports-photos-from-2013%2FKitebordingGetyYear.jpg\"> <figure> <img alt=\"\" src=\"http://i.amz.mshcdn.com/jWc07iLWeLUf9s3zdiFtl593ATw=/fit-in/850x850/http%3A%2F%2Fmashable.com%2Fwp-content%2Fgallery%2F50-amazing-sports-photos-from-2013%2FKitebordingGetyYear.jpg\"> </img></figure> <div class=\"meta\"> <h2 class=\"title\">37. Kite-boarders compete on San Francisco Bay on June 7. </h2> <div class=\"caption\"></div> <div class=\"credit\"> Image: Ezra Shaw/Getty Images </div> </div> </li> <li class=\"slide\" data-content-source=\"Gallery - Image - Getty\" data-id=\"54bea27212d2cd065e000064\" data-skip-rerender=\"false\" data-thumb=\"http://i.amz.mshcdn.com/Gp9rkTZ9_pLijECDe3szCvC93js=/180x140/http%3A%2F%2Fmashable.com%2Fwp-content%2Fgallery%2F50-amazing-sports-photos-from-2013%2FParromChargeGettyYear.jpg\"> <figure> <img alt=\"\" src=\"http://i.amz.mshcdn.com/7x2P6aP6OuqDJkalnqy3nHboXGs=/fit-in/850x850/http%3A%2F%2Fmashable.com%2Fwp-content%2Fgallery%2F50-amazing-sports-photos-from-2013%2FParromChargeGettyYear.jpg\"> </img></figure> <div class=\"meta\"> <h2 class=\"title\">38. Arizona\\'s Kevin Parrom sells a foul during the Pac-12 tournament on March 14. </h2> <div class=\"caption\"></div> <div class=\"credit\"> Image: Jeff Gross/Getty Images </div> </div> </li> <li class=\"slide\" data-content-source=\"Gallery - Image - Getty\" data-id=\"54bea27212d2cd065e000065\" data-skip-rerender=\"false\" data-thumb=\"http://i.amz.mshcdn.com/ttktndEtUK21vPkWB9YnAcZyF5o=/180x140/http%3A%2F%2Fmashable.com%2Fwp-content%2Fgallery%2F50-amazing-sports-photos-from-2013%2FRayLewisGettyYear.jpg\"> <figure> <img alt=\"\" src=\"http://i.amz.mshcdn.com/GzGCWEsDngyKCsocaHC240WbTc8=/fit-in/850x850/http%3A%2F%2Fmashable.com%2Fwp-content%2Fgallery%2F50-amazing-sports-photos-from-2013%2FRayLewisGettyYear.jpg\"> </img></figure> <div class=\"meta\"> <h2 class=\"title\">39. Legendary NFL linebacker Ray Lewis after one of the final playoff games of his career on Jan. 6. </h2> <div class=\"caption\"></div> <div class=\"credit\"> Image: Patrick Smith/Getty Images </div> </div> </li> <li class=\"slide\" data-content-source=\"Gallery - Image - Getty\" data-id=\"54bea27212d2cd065e000066\" data-skip-rerender=\"false\" data-thumb=\"http://i.amz.mshcdn.com/BozGSLRefxdXDjFwm6Yl7IAzm54=/180x140/http%3A%2F%2Fmashable.com%2Fwp-content%2Fgallery%2F50-amazing-sports-photos-from-2013%2FHockeyFanGettyYear.jpg\"> <figure> <img alt=\"\" src=\"http://i.amz.mshcdn.com/XHUnFuGTe5m1BXc4VFwKxj17VPQ=/fit-in/850x850/http%3A%2F%2Fmashable.com%2Fwp-content%2Fgallery%2F50-amazing-sports-photos-from-2013%2FHockeyFanGettyYear.jpg\"> </img></figure> <div class=\"meta\"> <h2 class=\"title\">40. A young fan welcomes his heroes onto the ice before an NHL game in Raleigh, N.C., on Jan. 22. </h2> <div class=\"caption\"></div> <div class=\"credit\"> Image: Grant Halverson/Getty Images </div> </div> </li> <li class=\"slide\" data-content-source=\"Gallery - Image - Getty\" data-id=\"54bea27212d2cd065e000067\" data-skip-rerender=\"false\" data-thumb=\"http://i.amz.mshcdn.com/mJqUr492qm0Lpn21vo4mc9ydkeI=/180x140/http%3A%2F%2Fmashable.com%2Fwp-content%2Fgallery%2F50-amazing-sports-photos-from-2013%2FIndyCarTreesGettyYear.jpg\"> <figure> <img alt=\"\" src=\"http://i.amz.mshcdn.com/BIE5MVaV2h6pE1RQEzWiSYsj2-g=/fit-in/850x850/http%3A%2F%2Fmashable.com%2Fwp-content%2Fgallery%2F50-amazing-sports-photos-from-2013%2FIndyCarTreesGettyYear.jpg\"> </img></figure> <div class=\"meta\"> <h2 class=\"title\">41. Sunlight casts shadows during an April 21 IndyCar race on the streets of Long Beach, Calif. </h2> <div class=\"caption\"></div> <div class=\"credit\"> Image: Robert Laberge/Getty Images </div> </div> </li> <li class=\"slide\" data-content-source=\"Gallery - Image - Getty\" data-id=\"54bea27212d2cd065e000068\" data-skip-rerender=\"false\" data-thumb=\"http://i.amz.mshcdn.com/9oVH1bf-0eLTe6feAvNkEkOsDAA=/180x140/http%3A%2F%2Fmashable.com%2Fwp-content%2Fgallery%2F50-amazing-sports-photos-from-2013%2Fhockeyfightgettyyear.jpg\"> <figure> <img alt=\"\" src=\"http://i.amz.mshcdn.com/2kTQoARWdsp9m4MZL6QCULo9QQ0=/fit-in/850x850/http%3A%2F%2Fmashable.com%2Fwp-content%2Fgallery%2F50-amazing-sports-photos-from-2013%2Fhockeyfightgettyyear.jpg\"> </img></figure> <div class=\"meta\"> <h2 class=\"title\">42. Two hockey players duke it out during an NHL game. </h2> <div class=\"caption\"></div> <div class=\"credit\"> Image: Jana Chytilova/Freestyle Photography/Getty Images </div> </div> </li> <li class=\"slide\" data-content-source=\"Gallery - Image - Getty\" data-id=\"54bea27212d2cd065e000069\" data-skip-rerender=\"false\" data-thumb=\"http://i.amz.mshcdn.com/J9dyiZOb7Q6CpE_W6ZkCuhFOnYM=/180x140/http%3A%2F%2Fmashable.com%2Fwp-content%2Fgallery%2F50-amazing-sports-photos-from-2013%2FMavericksGettyYear.jpg\"> <figure> <img alt=\"\" src=\"http://i.amz.mshcdn.com/vpbpmzvhN6S2WQTLK6lSMVvtj08=/fit-in/850x850/http%3A%2F%2Fmashable.com%2Fwp-content%2Fgallery%2F50-amazing-sports-photos-from-2013%2FMavericksGettyYear.jpg\"> </img></figure> <div class=\"meta\"> <h2 class=\"title\">43. Peter Mel rides a wave during the Maverick\\'s Invitational surf competition on Jan. 20 in Half Moon Bay. </h2> <div class=\"caption\"></div> <div class=\"credit\"> Image: Ezra Shaw/Getty Images </div> </div> </li> <li class=\"slide\" data-content-source=\"Gallery - Image - Getty\" data-id=\"54bea27212d2cd065e00006a\" data-skip-rerender=\"false\" data-thumb=\"http://i.amz.mshcdn.com/eXEJ_GqlQnALERNuS3bHn75YClE=/180x140/http%3A%2F%2Fmashable.com%2Fwp-content%2Fgallery%2F50-amazing-sports-photos-from-2013%2FBedardGettyYear.jpg\"> <figure> <img alt=\"\" src=\"http://i.amz.mshcdn.com/PsXjwqgzvHPwpKAxoOfA9ChATEI=/fit-in/850x850/http%3A%2F%2Fmashable.com%2Fwp-content%2Fgallery%2F50-amazing-sports-photos-from-2013%2FBedardGettyYear.jpg\"> </img></figure> <div class=\"meta\"> <h2 class=\"title\">44. Pitcher Erik Bedard of the Houston Astros casts a long shadow on May 29. </h2> <div class=\"caption\"></div> <div class=\"credit\"> Image: Doug Pensinger/Getty Images </div> </div> </li> <li class=\"slide\" data-content-source=\"Gallery - Image - Getty\" data-id=\"54bea27212d2cd065e00006b\" data-skip-rerender=\"false\" data-thumb=\"http://i.amz.mshcdn.com/6d8xc1T9HFiGtssYSQgeYpCfRKM=/180x140/http%3A%2F%2Fmashable.com%2Fwp-content%2Fgallery%2F50-amazing-sports-photos-from-2013%2Fgettyimages_186600867.jpg\"> <figure> <img alt=\"\" src=\"http://i.amz.mshcdn.com/lO5GdpbPwMFtgPHD_xi1L-OUl3I=/fit-in/850x850/http%3A%2F%2Fmashable.com%2Fwp-content%2Fgallery%2F50-amazing-sports-photos-from-2013%2Fgettyimages_186600867.jpg\"> </img></figure> <div class=\"meta\"> <h2 class=\"title\">45. Andrei Kirilenko of the Brooklyn Nets is framed by the rim while reaching for the ball on Nov. 1. </h2> <div class=\"caption\"></div> <div class=\"credit\"> Image: Al Bello/Getty Images </div> </div> </li> <li class=\"slide\" data-content-source=\"Gallery - Image - Getty\" data-id=\"54bea27212d2cd065e00006c\" data-skip-rerender=\"false\" data-thumb=\"http://i.amz.mshcdn.com/haqVfFJBpJq8jq8-KUKwquH2OiY=/180x140/http%3A%2F%2Fmashable.com%2Fwp-content%2Fgallery%2F50-amazing-sports-photos-from-2013%2FPebbleBeach.jpg\"> <figure> <img alt=\"\" src=\"http://i.amz.mshcdn.com/tNb9WhQmPVW68HUi9D4fN1zfSIQ=/fit-in/850x850/http%3A%2F%2Fmashable.com%2Fwp-content%2Fgallery%2F50-amazing-sports-photos-from-2013%2FPebbleBeach.jpg\"> </img></figure> <div class=\"meta\"> <h2 class=\"title\">46. Greg Owen hits a shot on Feb. 7 at the Monterey Peninsula Country Club in Pebble Beach, Calif. </h2> <div class=\"caption\"></div> <div class=\"credit\"> Image: Jeff Gross/Getty Images </div> </div> </li> <li class=\"slide\" data-content-source=\"Gallery - Image - Getty\" data-id=\"54bea27212d2cd065e00006d\" data-skip-rerender=\"false\" data-thumb=\"http://i.amz.mshcdn.com/v51782nqgkvMLsSDSoPFLLOUQNQ=/180x140/http%3A%2F%2Fmashable.com%2Fwp-content%2Fgallery%2F50-amazing-sports-photos-from-2013%2FCamdenRainbowGettyYear.jpg\"> <figure> <img alt=\"\" src=\"http://i.amz.mshcdn.com/81bm6uSibmwJWJk2kEs_DdNuj1w=/fit-in/850x850/http%3A%2F%2Fmashable.com%2Fwp-content%2Fgallery%2F50-amazing-sports-photos-from-2013%2FCamdenRainbowGettyYear.jpg\"> </img></figure> <div class=\"meta\"> <h2 class=\"title\">47. A rainbow appears over Camden Yards during a game between the Baltimore Orioles and New York Yankees on June 28. </h2> <div class=\"caption\"></div> <div class=\"credit\"> Image: Patrick Smith/Getty Images </div> </div> </li> <li class=\"slide\" data-content-source=\"Gallery - Image - Getty\" data-id=\"54bea27212d2cd065e00006e\" data-skip-rerender=\"false\" data-thumb=\"http://i.amz.mshcdn.com/igbkvRWgXksRWGNVkfQVARiGnnw=/180x140/http%3A%2F%2Fmashable.com%2Fwp-content%2Fgallery%2F50-amazing-sports-photos-from-2013%2FPreaknessGettyYear.jpg\"> <figure> <img alt=\"\" src=\"http://i.amz.mshcdn.com/s0nmoIorZkezlbSDqMsh8weojSs=/fit-in/850x850/http%3A%2F%2Fmashable.com%2Fwp-content%2Fgallery%2F50-amazing-sports-photos-from-2013%2FPreaknessGettyYear.jpg\"> </img></figure> <div class=\"meta\"> <h2 class=\"title\">48. The field of the 138th running of the Preakness Stakes in Baltimore on May 28. </h2> <div class=\"caption\"></div> <div class=\"credit\"> Image: Patrick Smith/Getty Images </div> </div> </li> <li class=\"slide\" data-content-source=\"Gallery - Image - Getty\" data-id=\"54bea27212d2cd065e00006f\" data-skip-rerender=\"false\" data-thumb=\"http://i.amz.mshcdn.com/YdiCsocH6vXMwKhMgm2LaDKiaiQ=/180x140/http%3A%2F%2Fmashable.com%2Fwp-content%2Fgallery%2F50-amazing-sports-photos-from-2013%2FRussSmithGettyYear.jpg\"> <figure> <img alt=\"\" src=\"http://i.amz.mshcdn.com/65O0jSxkSSztissQU2jh6DE0yrY=/fit-in/850x850/http%3A%2F%2Fmashable.com%2Fwp-content%2Fgallery%2F50-amazing-sports-photos-from-2013%2FRussSmithGettyYear.jpg\"> </img></figure> <div class=\"meta\"> <h2 class=\"title\">49. Russ Smith of the Louisville Cardinals tumbles into his own team\\'s bench during a game at Madison Square Garden on March 16. </h2> <div class=\"caption\"></div> <div class=\"credit\"> Image: Elsa/Getty Images </div> </div> </li> <li class=\"slide\" data-content-source=\"Gallery - Default\" data-id=\"54bea27212d2cd065e000070\" data-skip-rerender=\"false\" data-thumb=\"http://i.amz.mshcdn.com/e_yxceWnca7XTzSQ20hVN5FXses=/180x140/http%3A%2F%2Fmashable.com%2Fwp-content%2Fgallery%2F50-amazing-sports-photos-from-2013%2Fboxinggettyyear.jpg\"> <figure> <img alt=\"\" src=\"http://i.amz.mshcdn.com/b0TudcSm25HbWFrMcc5-T3U-PaI=/fit-in/850x850/http%3A%2F%2Fmashable.com%2Fwp-content%2Fgallery%2F50-amazing-sports-photos-from-2013%2Fboxinggettyyear.jpg\"> </img></figure> <div class=\"meta\"> <h2 class=\"title\">50. WBO welterweight champion Timothy Bradley, Jr., preens after defeating Juan Manual Marquez on Oct. 12. </h2> <div class=\"caption\"></div> <div class=\"credit\"> </div> </div> </li> </ol> </section> <script>      window._msla=window.loadScriptAsync||function(src,id){if(document.getElementById(id))return;var js=document.createElement(\\'script\\');js.id=id;js.src=src;document.getElementsByTagName(\\'script\\')[0].parentNode.insertBefore(js,fjs);}; _msla(\"//platform.twitter.com/widgets.js\",\"twitter_jssdk\");</script> </section></article><footer class=\"article-topics\"> Topics: <a href=\"/category/entertainment/\">Entertainment</a>, <a href=\"/category/instagram/\">instagram</a>, <a href=\"/category/instagram-video/\">instagram video</a>, <a href=\"/category/nfl/\">NFL</a>, <a href=\"/category/sports/\">Sports</a> </footer></body></html>'"
      ]
     },
     "execution_count": 32,
     "metadata": {},
     "output_type": "execute_result"
    }
   ],
   "source": [
    "df['Page content'][4]\n",
    "\n",
    "#content = procd.parse_html(df['Page content'][2])\n"
   ]
  },
  {
   "cell_type": "code",
   "execution_count": null,
   "metadata": {
    "collapsed": true
   },
   "outputs": [],
   "source": [
    "text = BeautifulSoup(df['Page content'][2])"
   ]
  },
  {
   "cell_type": "code",
   "execution_count": 2,
   "metadata": {
    "collapsed": false
   },
   "outputs": [
    {
     "name": "stdout",
     "output_type": "stream",
     "text": [
      "[nltk_data] Downloading package stopwords to /Users/AtSu/nltk_data...\n",
      "[nltk_data]   Package stopwords is already up-to-date!\n"
     ]
    }
   ],
   "source": [
    "import numpy as np\n",
    "import nltk\n",
    "from nltk.corpus import stopwords\n",
    "from nltk.stem.porter import PorterStemmer\n",
    "import re\n",
    "nltk.download('stopwords')\n",
    "stop = stopwords.words('english')\n",
    "\n",
    "def tokenizer_stem_nostop(text):\n",
    "    porter = PorterStemmer()\n",
    "    return [porter.stem(w) for w in re.split('\\s+', text.strip()) \\\n",
    "            if w not in stop and re.match('[a-zA-Z]+', w)]"
   ]
  },
  {
   "cell_type": "code",
   "execution_count": 3,
   "metadata": {
    "collapsed": false
   },
   "outputs": [],
   "source": [
    "import numpy as np\n",
    "from bs4 import BeautifulSoup\n",
    "from collections import defaultdict\n",
    "import src.proc_data as procd\n",
    "from sklearn.preprocessing import OneHotEncoder\n",
    "from sklearn.preprocessing import LabelEncoder\n",
    "\n",
    "train_parse = np.zeros((df.values.shape[0], 5),dtype=object)\n",
    "\n",
    "for i in range(df['Page content'].values.shape[0]):\n",
    "#for i in range(5):\n",
    "\n",
    "    train_parse[i, 0], train_parse[i, 1], train_parse[i, 2],  train_parse[i, 3]\\\n",
    "            = procd.parse_html(df['Page content'][i])\n",
    "    train_parse[i, 4] = len(tokenizer_stem_nostop(train_parse[i, 1]))\n",
    "\n",
    "pd.DataFrame(data=train_parse, columns=['title', 'content', 'author', 'n_fig', 'n_words']).to_csv('train_b_parsed.csv')\n",
    "\n",
    "train_parse = np.zeros((df_test.values.shape[0], 5),dtype=object)\n",
    "\n",
    "#for i in range(5):\n",
    "\n",
    "for i in range(df_test['Page content'].values.shape[0]):\n",
    "    train_parse[i, 0], train_parse[i, 1], train_parse[i, 2],  train_parse[i, 3] \\\n",
    "            = procd.parse_html(df_test['Page content'][i])\n",
    "    train_parse[i, 4] = len(tokenizer_stem_nostop(train_parse[i, 1]))\n",
    "\n",
    "pd.DataFrame(data=train_parse, columns=['title', 'content', 'author','n_fig', 'n_words']).to_csv('test_b_parsed.csv')\n"
   ]
  },
  {
   "cell_type": "code",
   "execution_count": 18,
   "metadata": {
    "collapsed": false
   },
   "outputs": [],
   "source": [
    "df = pd.read_csv('train_parsed.csv')\n",
    "df_test = pd.read_csv('test_parsed.csv')\n"
   ]
  },
  {
   "cell_type": "code",
   "execution_count": 17,
   "metadata": {
    "collapsed": false
   },
   "outputs": [
    {
     "name": "stdout",
     "output_type": "stream",
     "text": [
      "['i', 'me', 'my', 'myself', 'we', 'our', 'ours', 'ourselves', 'you', 'your', 'yours', 'yourself', 'yourselves', 'he', 'him', 'his', 'himself', 'she', 'her', 'hers', 'herself', 'it', 'its', 'itself', 'they', 'them', 'their', 'theirs', 'themselves', 'what', 'which', 'who', 'whom', 'this', 'that', 'these', 'those', 'am', 'is', 'are', 'was', 'were', 'be', 'been', 'being', 'have', 'has', 'had', 'having', 'do', 'does', 'did', 'doing', 'a', 'an', 'the', 'and', 'but', 'if', 'or', 'because', 'as', 'until', 'while', 'of', 'at', 'by', 'for', 'with', 'about', 'against', 'between', 'into', 'through', 'during', 'before', 'after', 'above', 'below', 'to', 'from', 'up', 'down', 'in', 'out', 'on', 'off', 'over', 'under', 'again', 'further', 'then', 'once', 'here', 'there', 'when', 'where', 'why', 'how', 'all', 'any', 'both', 'each', 'few', 'more', 'most', 'other', 'some', 'such', 'no', 'nor', 'not', 'only', 'own', 'same', 'so', 'than', 'too', 'very', 's', 't', 'can', 'will', 'just', 'don', 'should', 'now', 'd', 'll', 'm', 'o', 're', 've', 'y', 'ain', 'aren', 'couldn', 'didn', 'doesn', 'hadn', 'hasn', 'haven', 'isn', 'ma', 'mightn', 'mustn', 'needn', 'shan', 'shouldn', 'wasn', 'weren', 'won', 'wouldn']\n"
     ]
    }
   ],
   "source": [
    "p_data = df[df['Popularity'] > 0] \n",
    "n_data = df[df['Popularity'] < 0]\n",
    "\n",
    "tokenizer_stem_nostop('amazon microsoft women hahahaha')\n",
    "print(stop)"
   ]
  },
  {
   "cell_type": "code",
   "execution_count": 14,
   "metadata": {
    "collapsed": false
   },
   "outputs": [],
   "source": [
    "import itertools, operator\n",
    "\n",
    "def extract_term(top, tfidf):\n",
    "    feat = tfidf.get_feature_names()\n",
    "    idf = tfidf.idf_\n",
    "    idx = idf.argsort()\n",
    "    sorted_score = []\n",
    "    \n",
    "    for i in idx: sorted_score.append(idf[i])\n",
    "    sorted_smallest = list(zip(feat, sorted_score))\n",
    "    sorted_smallest = sorted(sorted_smallest, key=operator.itemgetter(1))\n",
    "    sorted_highest = sorted_smallest[::-1]\n",
    "    term = []\n",
    "    print('[vocabularies with smallest idf scores]')\n",
    "    for i in range(top):\n",
    "        #print('%s : %f' %(sorted_smallest[i][0], sorted_smallest[i][1]))\n",
    "        term.append(sorted_smallest[i][0])\n",
    "        \n",
    "    print('[vocabularies with height idf scores]')\n",
    "    for i in range(top):\n",
    "        #print('%s : %f' %(sorted_highest[i][0], sorted_highest[i][1]))\n",
    "        term.append(sorted_highest[i][0])\n",
    "    return term"
   ]
  },
  {
   "cell_type": "code",
   "execution_count": 15,
   "metadata": {
    "collapsed": false
   },
   "outputs": [
    {
     "name": "stdout",
     "output_type": "stream",
     "text": [
      "[vocabularies with smallest idf scores]\n",
      "[vocabularies with height idf scores]\n",
      "[vocabularies with smallest idf scores]\n",
      "[vocabularies with height idf scores]\n",
      "['i', 'me', 'my', 'myself', 'we', 'our', 'ours', 'ourselves', 'you', 'your', 'yours', 'yourself', 'yourselves', 'he', 'him', 'his', 'himself', 'she', 'her', 'hers', 'herself', 'it', 'its', 'itself', 'they', 'them', 'their', 'theirs', 'themselves', 'what', 'which', 'who', 'whom', 'this', 'that', 'these', 'those', 'am', 'is', 'are', 'was', 'were', 'be', 'been', 'being', 'have', 'has', 'had', 'having', 'do', 'does', 'did', 'doing', 'a', 'an', 'the', 'and', 'but', 'if', 'or', 'because', 'as', 'until', 'while', 'of', 'at', 'by', 'for', 'with', 'about', 'against', 'between', 'into', 'through', 'during', 'before', 'after', 'above', 'below', 'to', 'from', 'up', 'down', 'in', 'out', 'on', 'off', 'over', 'under', 'again', 'further', 'then', 'once', 'here', 'there', 'when', 'where', 'why', 'how', 'all', 'any', 'both', 'each', 'few', 'more', 'most', 'other', 'some', 'such', 'no', 'nor', 'not', 'only', 'own', 'same', 'so', 'than', 'too', 'very', 's', 't', 'can', 'will', 'just', 'don', 'should', 'now', 'd', 'll', 'm', 'o', 're', 've', 'y', 'ain', 'aren', 'couldn', 'didn', 'doesn', 'hadn', 'hasn', 'haven', 'isn', 'ma', 'mightn', 'mustn', 'needn', 'shan', 'shouldn', 'wasn', 'weren', 'won', 'wouldn', 'abil', 'abl', 'access', 'accord', 'account', 'across', 'act', 'action', 'activ', 'actual', 'ad', 'add', 'addit', 'address', 'advanc', 'advertis', 'age', 'agenc', 'ago', 'aim', 'air', 'allow', 'almost', 'along', 'alreadi', 'although', 'alway', 'amaz', 'america', 'american', 'among', 'amount', 'android', 'anim', 'announc', 'anoth', 'answer', 'anyon', 'anyth', 'app', 'youtub', 'young', 'york', 'yet', 'year', 'wrote', 'write', 'would', 'worth', 'world', 'work', 'word', 'wonder', 'women', 'without', 'within', 'window', 'win', 'wide', 'whose', 'whole', 'white', 'whether', 'went', 'well', 'week', 'wednesday', 'websit', 'web', 'wear', 'way', 'water', 'watch', 'war', 'want', 'wall', 'walk', 'wait', 'voic']\n"
     ]
    }
   ],
   "source": [
    "import scipy as sp\n",
    "from sklearn.feature_extraction.text import TfidfVectorizer\n",
    "from sklearn.linear_model import SGDClassifier\n",
    "import _pickle as pkl\n",
    "\n",
    "stop = stopwords.words('english')\n",
    "\n",
    "p = p_data['Page content']\n",
    "n = n_data['Page content']\n",
    "\n",
    "if not_fit:\n",
    "    tfidf = TfidfVectorizer(ngram_range=(1,1),\n",
    "                        #preprocessor=procd.parse_html,\n",
    "                        tokenizer=tokenizer_stem_nostop,\n",
    "                        max_features=2**10,\n",
    "                        max_df=0.6,\n",
    "                        min_df=0.05,\n",
    "                        sublinear_tf=True\n",
    "                        )\n",
    "    not_fit = False\n",
    "    tfidf_p = tfidf.fit(p)\n",
    "    pkl.dump(tfidf_p, open('tfidf_p.pkl', 'wb'))\n",
    "    tfidf_n = tfidf.fit(n)\n",
    "    pkl.dump(tfidf_n, open('tfidf_n.pkl', 'wb'))\n",
    "\n",
    "tfidf_p = pkl.load(open('tfidf_p.pkl', 'rb'))\n",
    "tfidf_n = pkl.load(open('tfidf_n.pkl', 'rb'))\n",
    "\n",
    "t_p = extract_term(40, tfidf_p)\n",
    "t_n = extract_term(40, tfidf_n)\n",
    "   \n",
    "extra_stop = []\n",
    "for t in t_p:\n",
    "    if t in t_n: extra_stop.append(t)\n",
    "stop += extra_stop\n",
    "\n",
    "print(stop)"
   ]
  },
  {
   "cell_type": "code",
   "execution_count": 19,
   "metadata": {
    "collapsed": false
   },
   "outputs": [
    {
     "name": "stdout",
     "output_type": "stream",
     "text": [
      "Finishing fitting TFIDF : 8.315079 s\n",
      "dimension: 512, 512\n"
     ]
    }
   ],
   "source": [
    "from sklearn.preprocessing import StandardScaler\n",
    "from sklearn.preprocessing import MaxAbsScaler\n",
    "from sklearn.feature_extraction.text import TfidfVectorizer\n",
    "from time import time\n",
    "\n",
    "t0 = time()\n",
    "tfidf = TfidfVectorizer(ngram_range=(1,1),\n",
    "                        #preprocessor=procd.parse_html,\n",
    "                        tokenizer=tokenizer_stem_nostop,\n",
    "                        max_features=2**9,\n",
    "                        sublinear_tf=True\n",
    "                        )\n",
    "tit_tfidf = TfidfVectorizer(ngram_range=(2,5),\n",
    "                        #preprocessor=procd.parse_html,\n",
    "                        tokenizer=tokenizer_stem_nostop,\n",
    "                        max_features=2**9,\n",
    "                        sublinear_tf=True\n",
    "                        )\n",
    "author = tfidf.fit_transform(df['author'])\n",
    "title = tit_tfidf.fit_transform(df['title'])\n",
    "\n",
    "duration = time() - t0\n",
    "\n",
    "print('Finishing fitting TFIDF : %f s' %(duration))\n",
    "print('dimension: %d, %d' %(author.shape[1],title.shape[1]))\n",
    "#sc_x = MaxAbsScaler()\n",
    "#X_train = sc_x.fit_transform(X_train)\n",
    "y_train = df['Popularity']\n"
   ]
  },
  {
   "cell_type": "code",
   "execution_count": 99,
   "metadata": {
    "collapsed": false
   },
   "outputs": [
    {
     "name": "stdout",
     "output_type": "stream",
     "text": [
      "['app store', 'black friday', 'bowl ad', 'break bad', 'comic con', 'digit media', 'episod recap', 'first time', 'game throne', 'googl doodl', 'googl glass', 'grumpi cat', 'hong kong', 'ipad mini', 'jimmi fallon', 'look like', 'march mad', 'mark zuckerberg', 'miley cyru', 'music video', 'need know', 'new york', 'new york citi', 'new york time', 'news need', 'news need know', 'north korea', 'oculu rift', 'rais million', 'real life', 'real time', 'report say', 'samsung galaxi', 'san francisco', 'small busi', 'social media', 'social network', 'star war', 'steve job', 'street view', 'super bowl', 'super bowl ad', 'taylor swift', 'tim cook', 'time laps', 'top tech', 'tv show', 'twitter account', 'video game', 'video recap', 'viral video', 'viral video recap', 'white hous', 'wi fi', 'world cup', 'world first', 'xbox one', 'xp xp', 'xp xp xp', 'xp xp xp xp', 'xp xp xp xp xp', 'year old', 'york citi', 'york time']\n"
     ]
    }
   ],
   "source": [
    "print(tit_tfidf.get_feature_names())"
   ]
  },
  {
   "cell_type": "code",
   "execution_count": 100,
   "metadata": {
    "collapsed": false
   },
   "outputs": [
    {
     "ename": "KeyError",
     "evalue": "'Page content'",
     "output_type": "error",
     "traceback": [
      "\u001b[0;31m---------------------------------------------------------------------------\u001b[0m",
      "\u001b[0;31mKeyError\u001b[0m                                  Traceback (most recent call last)",
      "\u001b[0;32m/Users/AtSu/anaconda/envs/ML_ENV/lib/python3.4/site-packages/pandas/indexes/base.py\u001b[0m in \u001b[0;36mget_loc\u001b[0;34m(self, key, method, tolerance)\u001b[0m\n\u001b[1;32m   1944\u001b[0m             \u001b[0;32mtry\u001b[0m\u001b[0;34m:\u001b[0m\u001b[0;34m\u001b[0m\u001b[0m\n\u001b[0;32m-> 1945\u001b[0;31m                 \u001b[0;32mreturn\u001b[0m \u001b[0mself\u001b[0m\u001b[0;34m.\u001b[0m\u001b[0m_engine\u001b[0m\u001b[0;34m.\u001b[0m\u001b[0mget_loc\u001b[0m\u001b[0;34m(\u001b[0m\u001b[0mkey\u001b[0m\u001b[0;34m)\u001b[0m\u001b[0;34m\u001b[0m\u001b[0m\n\u001b[0m\u001b[1;32m   1946\u001b[0m             \u001b[0;32mexcept\u001b[0m \u001b[0mKeyError\u001b[0m\u001b[0;34m:\u001b[0m\u001b[0;34m\u001b[0m\u001b[0m\n",
      "\u001b[0;32mpandas/index.pyx\u001b[0m in \u001b[0;36mpandas.index.IndexEngine.get_loc (pandas/index.c:4154)\u001b[0;34m()\u001b[0m\n",
      "\u001b[0;32mpandas/index.pyx\u001b[0m in \u001b[0;36mpandas.index.IndexEngine.get_loc (pandas/index.c:4018)\u001b[0;34m()\u001b[0m\n",
      "\u001b[0;32mpandas/hashtable.pyx\u001b[0m in \u001b[0;36mpandas.hashtable.PyObjectHashTable.get_item (pandas/hashtable.c:12368)\u001b[0;34m()\u001b[0m\n",
      "\u001b[0;32mpandas/hashtable.pyx\u001b[0m in \u001b[0;36mpandas.hashtable.PyObjectHashTable.get_item (pandas/hashtable.c:12322)\u001b[0;34m()\u001b[0m\n",
      "\u001b[0;31mKeyError\u001b[0m: 'Page content'",
      "\nDuring handling of the above exception, another exception occurred:\n",
      "\u001b[0;31mKeyError\u001b[0m                                  Traceback (most recent call last)",
      "\u001b[0;32m<ipython-input-100-bb01b6c77a30>\u001b[0m in \u001b[0;36m<module>\u001b[0;34m()\u001b[0m\n\u001b[1;32m      5\u001b[0m                            \u001b[0mtokenizer\u001b[0m\u001b[0;34m=\u001b[0m\u001b[0mtokenizer_stem_nostop\u001b[0m\u001b[0;34m,\u001b[0m\u001b[0;34m\u001b[0m\u001b[0m\n\u001b[1;32m      6\u001b[0m                            n_features=2**9)\n\u001b[0;32m----> 7\u001b[0;31m \u001b[0mX_train\u001b[0m \u001b[0;34m=\u001b[0m \u001b[0mhashvec\u001b[0m\u001b[0;34m.\u001b[0m\u001b[0mtransform\u001b[0m\u001b[0;34m(\u001b[0m\u001b[0mdf\u001b[0m\u001b[0;34m[\u001b[0m\u001b[0;34m'Page content'\u001b[0m\u001b[0;34m]\u001b[0m\u001b[0;34m)\u001b[0m\u001b[0;34m\u001b[0m\u001b[0m\n\u001b[0m\u001b[1;32m      8\u001b[0m \u001b[0mduration\u001b[0m \u001b[0;34m=\u001b[0m \u001b[0mtime\u001b[0m\u001b[0;34m(\u001b[0m\u001b[0;34m)\u001b[0m \u001b[0;34m-\u001b[0m \u001b[0mt0\u001b[0m\u001b[0;34m\u001b[0m\u001b[0m\n\u001b[1;32m      9\u001b[0m \u001b[0mprint\u001b[0m\u001b[0;34m(\u001b[0m\u001b[0;34m'Finishing fitting HASH : %f s'\u001b[0m \u001b[0;34m%\u001b[0m\u001b[0;34m(\u001b[0m\u001b[0mduration\u001b[0m\u001b[0;34m)\u001b[0m\u001b[0;34m)\u001b[0m\u001b[0;34m\u001b[0m\u001b[0m\n",
      "\u001b[0;32m/Users/AtSu/anaconda/envs/ML_ENV/lib/python3.4/site-packages/pandas/core/frame.py\u001b[0m in \u001b[0;36m__getitem__\u001b[0;34m(self, key)\u001b[0m\n\u001b[1;32m   1995\u001b[0m             \u001b[0;32mreturn\u001b[0m \u001b[0mself\u001b[0m\u001b[0;34m.\u001b[0m\u001b[0m_getitem_multilevel\u001b[0m\u001b[0;34m(\u001b[0m\u001b[0mkey\u001b[0m\u001b[0;34m)\u001b[0m\u001b[0;34m\u001b[0m\u001b[0m\n\u001b[1;32m   1996\u001b[0m         \u001b[0;32melse\u001b[0m\u001b[0;34m:\u001b[0m\u001b[0;34m\u001b[0m\u001b[0m\n\u001b[0;32m-> 1997\u001b[0;31m             \u001b[0;32mreturn\u001b[0m \u001b[0mself\u001b[0m\u001b[0;34m.\u001b[0m\u001b[0m_getitem_column\u001b[0m\u001b[0;34m(\u001b[0m\u001b[0mkey\u001b[0m\u001b[0;34m)\u001b[0m\u001b[0;34m\u001b[0m\u001b[0m\n\u001b[0m\u001b[1;32m   1998\u001b[0m \u001b[0;34m\u001b[0m\u001b[0m\n\u001b[1;32m   1999\u001b[0m     \u001b[0;32mdef\u001b[0m \u001b[0m_getitem_column\u001b[0m\u001b[0;34m(\u001b[0m\u001b[0mself\u001b[0m\u001b[0;34m,\u001b[0m \u001b[0mkey\u001b[0m\u001b[0;34m)\u001b[0m\u001b[0;34m:\u001b[0m\u001b[0;34m\u001b[0m\u001b[0m\n",
      "\u001b[0;32m/Users/AtSu/anaconda/envs/ML_ENV/lib/python3.4/site-packages/pandas/core/frame.py\u001b[0m in \u001b[0;36m_getitem_column\u001b[0;34m(self, key)\u001b[0m\n\u001b[1;32m   2002\u001b[0m         \u001b[0;31m# get column\u001b[0m\u001b[0;34m\u001b[0m\u001b[0;34m\u001b[0m\u001b[0m\n\u001b[1;32m   2003\u001b[0m         \u001b[0;32mif\u001b[0m \u001b[0mself\u001b[0m\u001b[0;34m.\u001b[0m\u001b[0mcolumns\u001b[0m\u001b[0;34m.\u001b[0m\u001b[0mis_unique\u001b[0m\u001b[0;34m:\u001b[0m\u001b[0;34m\u001b[0m\u001b[0m\n\u001b[0;32m-> 2004\u001b[0;31m             \u001b[0;32mreturn\u001b[0m \u001b[0mself\u001b[0m\u001b[0;34m.\u001b[0m\u001b[0m_get_item_cache\u001b[0m\u001b[0;34m(\u001b[0m\u001b[0mkey\u001b[0m\u001b[0;34m)\u001b[0m\u001b[0;34m\u001b[0m\u001b[0m\n\u001b[0m\u001b[1;32m   2005\u001b[0m \u001b[0;34m\u001b[0m\u001b[0m\n\u001b[1;32m   2006\u001b[0m         \u001b[0;31m# duplicate columns & possible reduce dimensionality\u001b[0m\u001b[0;34m\u001b[0m\u001b[0;34m\u001b[0m\u001b[0m\n",
      "\u001b[0;32m/Users/AtSu/anaconda/envs/ML_ENV/lib/python3.4/site-packages/pandas/core/generic.py\u001b[0m in \u001b[0;36m_get_item_cache\u001b[0;34m(self, item)\u001b[0m\n\u001b[1;32m   1348\u001b[0m         \u001b[0mres\u001b[0m \u001b[0;34m=\u001b[0m \u001b[0mcache\u001b[0m\u001b[0;34m.\u001b[0m\u001b[0mget\u001b[0m\u001b[0;34m(\u001b[0m\u001b[0mitem\u001b[0m\u001b[0;34m)\u001b[0m\u001b[0;34m\u001b[0m\u001b[0m\n\u001b[1;32m   1349\u001b[0m         \u001b[0;32mif\u001b[0m \u001b[0mres\u001b[0m \u001b[0;32mis\u001b[0m \u001b[0;32mNone\u001b[0m\u001b[0;34m:\u001b[0m\u001b[0;34m\u001b[0m\u001b[0m\n\u001b[0;32m-> 1350\u001b[0;31m             \u001b[0mvalues\u001b[0m \u001b[0;34m=\u001b[0m \u001b[0mself\u001b[0m\u001b[0;34m.\u001b[0m\u001b[0m_data\u001b[0m\u001b[0;34m.\u001b[0m\u001b[0mget\u001b[0m\u001b[0;34m(\u001b[0m\u001b[0mitem\u001b[0m\u001b[0;34m)\u001b[0m\u001b[0;34m\u001b[0m\u001b[0m\n\u001b[0m\u001b[1;32m   1351\u001b[0m             \u001b[0mres\u001b[0m \u001b[0;34m=\u001b[0m \u001b[0mself\u001b[0m\u001b[0;34m.\u001b[0m\u001b[0m_box_item_values\u001b[0m\u001b[0;34m(\u001b[0m\u001b[0mitem\u001b[0m\u001b[0;34m,\u001b[0m \u001b[0mvalues\u001b[0m\u001b[0;34m)\u001b[0m\u001b[0;34m\u001b[0m\u001b[0m\n\u001b[1;32m   1352\u001b[0m             \u001b[0mcache\u001b[0m\u001b[0;34m[\u001b[0m\u001b[0mitem\u001b[0m\u001b[0;34m]\u001b[0m \u001b[0;34m=\u001b[0m \u001b[0mres\u001b[0m\u001b[0;34m\u001b[0m\u001b[0m\n",
      "\u001b[0;32m/Users/AtSu/anaconda/envs/ML_ENV/lib/python3.4/site-packages/pandas/core/internals.py\u001b[0m in \u001b[0;36mget\u001b[0;34m(self, item, fastpath)\u001b[0m\n\u001b[1;32m   3288\u001b[0m \u001b[0;34m\u001b[0m\u001b[0m\n\u001b[1;32m   3289\u001b[0m             \u001b[0;32mif\u001b[0m \u001b[0;32mnot\u001b[0m \u001b[0misnull\u001b[0m\u001b[0;34m(\u001b[0m\u001b[0mitem\u001b[0m\u001b[0;34m)\u001b[0m\u001b[0;34m:\u001b[0m\u001b[0;34m\u001b[0m\u001b[0m\n\u001b[0;32m-> 3290\u001b[0;31m                 \u001b[0mloc\u001b[0m \u001b[0;34m=\u001b[0m \u001b[0mself\u001b[0m\u001b[0;34m.\u001b[0m\u001b[0mitems\u001b[0m\u001b[0;34m.\u001b[0m\u001b[0mget_loc\u001b[0m\u001b[0;34m(\u001b[0m\u001b[0mitem\u001b[0m\u001b[0;34m)\u001b[0m\u001b[0;34m\u001b[0m\u001b[0m\n\u001b[0m\u001b[1;32m   3291\u001b[0m             \u001b[0;32melse\u001b[0m\u001b[0;34m:\u001b[0m\u001b[0;34m\u001b[0m\u001b[0m\n\u001b[1;32m   3292\u001b[0m                 \u001b[0mindexer\u001b[0m \u001b[0;34m=\u001b[0m \u001b[0mnp\u001b[0m\u001b[0;34m.\u001b[0m\u001b[0marange\u001b[0m\u001b[0;34m(\u001b[0m\u001b[0mlen\u001b[0m\u001b[0;34m(\u001b[0m\u001b[0mself\u001b[0m\u001b[0;34m.\u001b[0m\u001b[0mitems\u001b[0m\u001b[0;34m)\u001b[0m\u001b[0;34m)\u001b[0m\u001b[0;34m[\u001b[0m\u001b[0misnull\u001b[0m\u001b[0;34m(\u001b[0m\u001b[0mself\u001b[0m\u001b[0;34m.\u001b[0m\u001b[0mitems\u001b[0m\u001b[0;34m)\u001b[0m\u001b[0;34m]\u001b[0m\u001b[0;34m\u001b[0m\u001b[0m\n",
      "\u001b[0;32m/Users/AtSu/anaconda/envs/ML_ENV/lib/python3.4/site-packages/pandas/indexes/base.py\u001b[0m in \u001b[0;36mget_loc\u001b[0;34m(self, key, method, tolerance)\u001b[0m\n\u001b[1;32m   1945\u001b[0m                 \u001b[0;32mreturn\u001b[0m \u001b[0mself\u001b[0m\u001b[0;34m.\u001b[0m\u001b[0m_engine\u001b[0m\u001b[0;34m.\u001b[0m\u001b[0mget_loc\u001b[0m\u001b[0;34m(\u001b[0m\u001b[0mkey\u001b[0m\u001b[0;34m)\u001b[0m\u001b[0;34m\u001b[0m\u001b[0m\n\u001b[1;32m   1946\u001b[0m             \u001b[0;32mexcept\u001b[0m \u001b[0mKeyError\u001b[0m\u001b[0;34m:\u001b[0m\u001b[0;34m\u001b[0m\u001b[0m\n\u001b[0;32m-> 1947\u001b[0;31m                 \u001b[0;32mreturn\u001b[0m \u001b[0mself\u001b[0m\u001b[0;34m.\u001b[0m\u001b[0m_engine\u001b[0m\u001b[0;34m.\u001b[0m\u001b[0mget_loc\u001b[0m\u001b[0;34m(\u001b[0m\u001b[0mself\u001b[0m\u001b[0;34m.\u001b[0m\u001b[0m_maybe_cast_indexer\u001b[0m\u001b[0;34m(\u001b[0m\u001b[0mkey\u001b[0m\u001b[0;34m)\u001b[0m\u001b[0;34m)\u001b[0m\u001b[0;34m\u001b[0m\u001b[0m\n\u001b[0m\u001b[1;32m   1948\u001b[0m \u001b[0;34m\u001b[0m\u001b[0m\n\u001b[1;32m   1949\u001b[0m         \u001b[0mindexer\u001b[0m \u001b[0;34m=\u001b[0m \u001b[0mself\u001b[0m\u001b[0;34m.\u001b[0m\u001b[0mget_indexer\u001b[0m\u001b[0;34m(\u001b[0m\u001b[0;34m[\u001b[0m\u001b[0mkey\u001b[0m\u001b[0;34m]\u001b[0m\u001b[0;34m,\u001b[0m \u001b[0mmethod\u001b[0m\u001b[0;34m=\u001b[0m\u001b[0mmethod\u001b[0m\u001b[0;34m,\u001b[0m \u001b[0mtolerance\u001b[0m\u001b[0;34m=\u001b[0m\u001b[0mtolerance\u001b[0m\u001b[0;34m)\u001b[0m\u001b[0;34m\u001b[0m\u001b[0m\n",
      "\u001b[0;32mpandas/index.pyx\u001b[0m in \u001b[0;36mpandas.index.IndexEngine.get_loc (pandas/index.c:4154)\u001b[0;34m()\u001b[0m\n",
      "\u001b[0;32mpandas/index.pyx\u001b[0m in \u001b[0;36mpandas.index.IndexEngine.get_loc (pandas/index.c:4018)\u001b[0;34m()\u001b[0m\n",
      "\u001b[0;32mpandas/hashtable.pyx\u001b[0m in \u001b[0;36mpandas.hashtable.PyObjectHashTable.get_item (pandas/hashtable.c:12368)\u001b[0;34m()\u001b[0m\n",
      "\u001b[0;32mpandas/hashtable.pyx\u001b[0m in \u001b[0;36mpandas.hashtable.PyObjectHashTable.get_item (pandas/hashtable.c:12322)\u001b[0;34m()\u001b[0m\n",
      "\u001b[0;31mKeyError\u001b[0m: 'Page content'"
     ]
    }
   ],
   "source": [
    "from sklearn.feature_extraction.text import HashingVectorizer\n",
    "\n",
    "t0 = time()\n",
    "hashvec = HashingVectorizer(ngram_range=(3,4),\n",
    "                           tokenizer=tokenizer_stem_nostop,\n",
    "                           n_features=2**9)\n",
    "X_train = hashvec.transform(df['Page content'])\n",
    "duration = time() - t0\n",
    "print('Finishing fitting HASH : %f s' %(duration))\n",
    "print('dimension: %d' %(X_train.shape[1]))"
   ]
  },
  {
   "cell_type": "code",
   "execution_count": 28,
   "metadata": {
    "collapsed": false
   },
   "outputs": [
    {
     "name": "stdout",
     "output_type": "stream",
     "text": [
      "(27643,)\n",
      "(27643, 7)\n"
     ]
    }
   ],
   "source": [
    "from scipy.sparse import hstack\n",
    "from sklearn.preprocessing import PolynomialFeatures\n",
    "train_weekday = pd.read_csv('train_weekday.csv').values\n",
    "train_time = pd.read_csv('train_time.csv').values\n",
    "#poly = PolynomialFeatures(degree=3)\n",
    "#train_weekday = poly.fit_transform(train_weekday)\n",
    "#train_time = poly.fit_transform(train_time)\n",
    "print(df['n_words'].shape)\n",
    "#X_train_aug = hstack([train_time.reshape(-1,1), df['n_fig'].reshape(-1,1)])\n",
    "X_train_aug = train_weekday\n",
    "#X_train_aug = np.concatenate((X_train.reshape(-1, 1),train_weekday, train_time), axis=1)\n",
    "#X_train_aug = train_weekday * train_time\n",
    "#sc_x = StandardScaler(with_mean=False)\n",
    "#X_train_aug = sc_x.fit_transform(X_train_aug)\n",
    "print(X_train_aug.shape)"
   ]
  },
  {
   "cell_type": "code",
   "execution_count": 21,
   "metadata": {
    "collapsed": false
   },
   "outputs": [
    {
     "name": "stdout",
     "output_type": "stream",
     "text": [
      "['i', 'me', 'my', 'myself', 'we', 'our', 'ours', 'ourselves', 'you', 'your', 'yours', 'yourself', 'yourselves', 'he', 'him', 'his', 'himself', 'she', 'her', 'hers', 'herself', 'it', 'its', 'itself', 'they', 'them', 'their', 'theirs', 'themselves', 'what', 'which', 'who', 'whom', 'this', 'that', 'these', 'those', 'am', 'is', 'are', 'was', 'were', 'be', 'been', 'being', 'have', 'has', 'had', 'having', 'do', 'does', 'did', 'doing', 'a', 'an', 'the', 'and', 'but', 'if', 'or', 'because', 'as', 'until', 'while', 'of', 'at', 'by', 'for', 'with', 'about', 'against', 'between', 'into', 'through', 'during', 'before', 'after', 'above', 'below', 'to', 'from', 'up', 'down', 'in', 'out', 'on', 'off', 'over', 'under', 'again', 'further', 'then', 'once', 'here', 'there', 'when', 'where', 'why', 'how', 'all', 'any', 'both', 'each', 'few', 'more', 'most', 'other', 'some', 'such', 'no', 'nor', 'not', 'only', 'own', 'same', 'so', 'than', 'too', 'very', 's', 't', 'can', 'will', 'just', 'don', 'should', 'now', 'd', 'll', 'm', 'o', 're', 've', 'y', 'ain', 'aren', 'couldn', 'didn', 'doesn', 'hadn', 'hasn', 'haven', 'isn', 'ma', 'mightn', 'mustn', 'needn', 'shan', 'shouldn', 'wasn', 'weren', 'won', 'wouldn']\n"
     ]
    }
   ],
   "source": [
    "def get_stream(path, size):\n",
    "    for chunk in pd.read_csv(path, chunksize=size):\n",
    "        yield chunk\n",
    "print(stop)"
   ]
  },
  {
   "cell_type": "code",
   "execution_count": 29,
   "metadata": {
    "collapsed": false
   },
   "outputs": [],
   "source": [
    "from sklearn.model_selection import train_test_split\n",
    "# hold out testing set\n",
    "y_train = df['Popularity']\n",
    "X_htrain, X_htest, y_htrain, y_htest = train_test_split(X_train_aug, y_train, test_size=0.3, random_state=0)\n"
   ]
  },
  {
   "cell_type": "code",
   "execution_count": 30,
   "metadata": {
    "collapsed": false
   },
   "outputs": [
    {
     "name": "stdout",
     "output_type": "stream",
     "text": [
      "SGD score (train): 0.544548, (test): 0.551791\n"
     ]
    }
   ],
   "source": [
    "from sklearn.model_selection import cross_val_score\n",
    "from sklearn.ensemble import AdaBoostClassifier\n",
    "from sklearn.linear_model import SGDClassifier\n",
    "from sklearn import metrics\n",
    "from sklearn.svm import LinearSVC\n",
    "from sklearn.linear_model import LogisticRegression\n",
    "from sklearn.ensemble import BaggingClassifier\n",
    "\n",
    "SGD = SGDClassifier(alpha=0.001, average=False, class_weight=None, epsilon=0.1,\n",
    "       eta0=0.0, fit_intercept=True, l1_ratio=0.15,\n",
    "       learning_rate='optimal', loss='hinge', n_iter=50, n_jobs=1,\n",
    "       penalty='elasticnet', power_t=0.5, random_state=0, shuffle=True,\n",
    "       verbose=0, warm_start=False)\n",
    "\"\"\"\n",
    "SGD.fit(X_htrain, y_htrain)\n",
    "pred = SGD.predict(X_htrain)\n",
    "pred_t = SGD.predict(X_htest)\n",
    "\n",
    "score_train = metrics.accuracy_score(y_htrain, pred)\n",
    "score_test = metrics.accuracy_score(y_htest, pred_t)\n",
    "\n",
    "print(\"SGD score (train): %f, (test): %f\"%(score_train, score_test))\n",
    "ada = AdaBoostClassifier(base_estimator=SGD, algorithm='SAMME', n_estimators=20)\n",
    "ada = ada.fit(X_htrain, y_htrain)\n",
    "pred = ada.predict(X_htrain)\n",
    "pred_t = ada.predict(X_htest)\n",
    "\n",
    "score_train = metrics.accuracy_score(y_htrain, pred)\n",
    "score_test = metrics.accuracy_score(y_htest, pred_t)\n",
    "\n",
    "print(\"SGD score (train): %f, (test): %f\"%(score_train, score_test))\n",
    "\n",
    "\"\"\"\n",
    "\n",
    "bag = BaggingClassifier(base_estimator=SGD, n_estimators=100, \n",
    "                        max_samples=0.7, bootstrap=True,\n",
    "                        max_features=1.0, bootstrap_features=False, \n",
    "                        n_jobs=-1, random_state=1)\n",
    "bag.fit(X_htrain, y_htrain)\n",
    "\n",
    "pred = bag.predict(X_htrain)\n",
    "score_train = metrics.accuracy_score(y_htrain, pred)\n",
    "pred = bag.predict(X_htest)\n",
    "score_test = metrics.accuracy_score(y_htest, pred)\n",
    "\n",
    "print(\"SGD score (train): %f, (test): %f\"%(score_train, score_test))\n",
    "candidates = []\n",
    "candidates.append({'clf':SGD, 'C':1, 'score':1.0})\n"
   ]
  },
  {
   "cell_type": "code",
   "execution_count": null,
   "metadata": {
    "collapsed": true
   },
   "outputs": [],
   "source": [
    "# from sklearn.svm import SVC\n",
    "from sklearn.linear_model import SGDClassifier\n",
    "from sklearn.svm import LinearSVC\n",
    "from sklearn.feature_selection import SelectFromModel\n",
    "from sklearn.preprocessing import PolynomialFeatures\n",
    "from sklearn.pipeline import Pipeline\n",
    "from sklearn.naive_bayes import BernoulliNB, MultinomialNB\n",
    "from sklearn.linear_model import LogisticRegression\n",
    "\n",
    "y_train = df['Popularity']\n",
    "batch_size = 2000\n",
    "\n",
    "classes = np.array([-1, 1])\n",
    "iters = int((27643+batch_size-1)/(batch_size))\n",
    "Cs = [0.0001, 0.001, 0.01, 0.1, 0.5, 1.0, 2.0, 3.0, 5.0, 7.0, 10.0]\n",
    "\n",
    "best_score = 0\n",
    "candidates = []\n",
    "\"\"\"\n",
    "t0 = time()\n",
    "clf = SVC(max_iter=15000, random_state=0)\n",
    "clf.fit(X_train, df['Popularity'])\n",
    "candidates.append({'clf':clf, 'C':C, 'score':score})\n",
    "score = clf.score(X_train, df['Popularity'])\n",
    "print(score)\n",
    "candidates.append({'clf':clf, 'C':0.001, 'score':score})\n",
    "print('training duration : %f' %(time()-t0))\n",
    "\"\"\"\n",
    "\n",
    "selector = SelectFromModel(estimator=LinearSVC(dual=False, tol=1e-1))\n",
    "X_train_sel = selector.fit_transform(X_train, y_train)\n",
    "#X_train_sel = X_train\n",
    "#poly = PolynomialFeatures(degree=3)\n",
    "#X_train_poly = poly.fit_transform(X_train_sel.toarray())\n",
    "X_train_poly = X_train_sel\n",
    "#sc_x = StandardScaler(with_mean=False)\n",
    "#X_train_sel = sc_x.fit_transform(X_train_sel)\n",
    "print(X_train_sel.shape)\n",
    "clf = MultinomialNB(alpha=0.01)\n",
    "clf.fit(abs(X_train_sel), y_train)\n",
    "pred = clf.predict(X_train_sel)\n",
    "score = metrics.accuracy_score(y_train, pred)\n",
    "print(\"MNB score : %f\" %(score))\n",
    "candidates.append({'clf':clf, 'C':0, 'score':score})\n",
    "\n",
    "SGD = SGDClassifier(alpha=0.001, loss='hinge', penalty='l2')\n",
    "SGD.fit(X_train_sel, y_train)\n",
    "pred = SGD.predict(X_train_sel)\n",
    "score = metrics.accuracy_score(y_train, pred)\n",
    "print(\"SGD score : %f\" %(score))\n",
    "candidates.append({'clf':SGD, 'C':1, 'score':score})\n",
    "\n",
    "\n",
    "ELA = SGDClassifier(alpha=0.001, average=False, class_weight=None, epsilon=0.1,\n",
    "       eta0=0.0, fit_intercept=True, l1_ratio=0.15,\n",
    "       learning_rate='optimal', loss='hinge', n_iter=50, n_jobs=1,\n",
    "       penalty='elasticnet', power_t=0.5, random_state=None, shuffle=True,\n",
    "       verbose=0, warm_start=False)\n",
    "ELA.fit(X_train_sel, y_train)\n",
    "pred = ELA.predict(X_train_sel)\n",
    "score = metrics.accuracy_score(y_train, pred)\n",
    "print(\"SGD score : %f\" %(score))\n",
    "candidates.append({'clf':ELA, 'C':2, 'score':score})\n",
    "\n",
    "sv = LinearSVC(C=3.0, tol=0.00001, max_iter=10000)\n",
    "sv.fit(X_train_sel, y_train)\n",
    "pred = sv.predict(X_train_sel)\n",
    "\n",
    "score = metrics.accuracy_score(y_train, pred)\n",
    "print(\"svc score : %f\" %(score))\n",
    "candidates.append({'clf':sv, 'C':3, 'score':score})\n",
    "\n",
    "lr = LogisticRegression(C=0.1)\n",
    "lr.fit(X_train_sel, y_train)\n",
    "pred = lr.predict(X_train_sel)\n",
    "score = metrics.accuracy_score(y_train, pred)\n",
    "print(\"lr score : %f\" %(score))\n",
    "candidates.append({'clf':sv, 'C':4, 'score':score})\n",
    "\n",
    "\"\"\"\n",
    "for C in Cs:\n",
    "    clf = Pipeline([\n",
    "            ('feature_selection', SelectFromModel(estimator=LinearSVC(penalty='l1', dual=False, tol=1e-3))),\n",
    "            ('classification', LinearSVC(C=C))\n",
    "        ])\n",
    "    #clf = LinearSVC(C=C, dual=False, tol=0.00001, max_iter=2000)\n",
    "    clf.fit(X_train_sel, y_train)\n",
    "    pred = clf.predict(X_train_sel)\n",
    "\n",
    "    score = metrics.accuracy_score(y_train, pred)\n",
    "    print(\"C(%f):%f\"%(C,score))\n",
    "    candidates.append({'clf':clf, 'C':C, 'score':score})\n",
    "\"\"\"\n",
    "\"\"\"\n",
    "for C in Cs:\n",
    "    alpha = C / 1000.0\n",
    "    clf = SGDClassifier(loss='hinge', alpha=alpha)\n",
    "    #stream = get_stream(path='train.csv', size=batch_size)\n",
    "    for i in range(iters):\n",
    "        #batch = next(stream)\n",
    "        #X_train, y_train = batch['Page content'], batch['Popularity']\n",
    "        start = (i)*batch_size\n",
    "        end = start + batch_size\n",
    "        if end >= X_train.shape[0] : end = X_train.shape[0]\n",
    "        \n",
    "        batch_X = X_train[start:end]\n",
    "        batch_y = y_train[start:end]\n",
    "        if X_train is None:\n",
    "            break\n",
    "        #X_train = sc_x.transform(tfidf.transform(X_train))\n",
    "        clf.partial_fit(batch_X, batch_y, classes=classes)\n",
    "    \n",
    "        score = clf.score(batch_X, batch_y)\n",
    "        print('[{}/{}] {}'.format((i+1)*(batch_size), 27643, score))\n",
    "    \n",
    "    if score > best_score:\n",
    "        print('bestscore(C=%f): %f' %(C, score))\n",
    "        best_score = score\n",
    "        candidates.append({'clf' : clf, 'C' : C, 'score' : score})\n",
    "\"\"\""
   ]
  },
  {
   "cell_type": "code",
   "execution_count": 77,
   "metadata": {
    "collapsed": false
   },
   "outputs": [
    {
     "name": "stdout",
     "output_type": "stream",
     "text": [
      "[False False False ...,  True  True  True]\n",
      "439\n"
     ]
    }
   ],
   "source": [
    "print(selector.get_support())\n",
    "c = 0\n",
    "for i in selector.get_support():\n",
    "    if i == True: c += 1\n",
    "print(c)"
   ]
  },
  {
   "cell_type": "code",
   "execution_count": 73,
   "metadata": {
    "collapsed": false
   },
   "outputs": [
    {
     "name": "stdout",
     "output_type": "stream",
     "text": [
      "Finishing fitting test TFIDF : 0.524463 s\n"
     ]
    }
   ],
   "source": [
    "t0 = time()\n",
    "X_test = tfidf.transform(df_test['author'])\n",
    "duration = time() - t0\n",
    "\n",
    "print('Finishing fitting test TFIDF : %f s' %(duration))\n",
    "#X_test = sc_x.transform(X_test)"
   ]
  },
  {
   "cell_type": "code",
   "execution_count": 65,
   "metadata": {
    "collapsed": false
   },
   "outputs": [
    {
     "ename": "NameError",
     "evalue": "name 'hashvec' is not defined",
     "output_type": "error",
     "traceback": [
      "\u001b[0;31m---------------------------------------------------------------------------\u001b[0m",
      "\u001b[0;31mNameError\u001b[0m                                 Traceback (most recent call last)",
      "\u001b[0;32m<ipython-input-65-7b15314471db>\u001b[0m in \u001b[0;36m<module>\u001b[0;34m()\u001b[0m\n\u001b[1;32m      1\u001b[0m \u001b[0mt0\u001b[0m \u001b[0;34m=\u001b[0m \u001b[0mtime\u001b[0m\u001b[0;34m(\u001b[0m\u001b[0;34m)\u001b[0m\u001b[0;34m\u001b[0m\u001b[0m\n\u001b[0;32m----> 2\u001b[0;31m \u001b[0mX_test\u001b[0m \u001b[0;34m=\u001b[0m \u001b[0mhashvec\u001b[0m\u001b[0;34m.\u001b[0m\u001b[0mtransform\u001b[0m\u001b[0;34m(\u001b[0m\u001b[0mdf_test\u001b[0m\u001b[0;34m[\u001b[0m\u001b[0;34m'Page content'\u001b[0m\u001b[0;34m]\u001b[0m\u001b[0;34m)\u001b[0m\u001b[0;34m\u001b[0m\u001b[0m\n\u001b[0m\u001b[1;32m      3\u001b[0m \u001b[0mduration\u001b[0m \u001b[0;34m=\u001b[0m \u001b[0mtime\u001b[0m\u001b[0;34m(\u001b[0m\u001b[0;34m)\u001b[0m \u001b[0;34m-\u001b[0m \u001b[0mt0\u001b[0m\u001b[0;34m\u001b[0m\u001b[0m\n\u001b[1;32m      4\u001b[0m \u001b[0mprint\u001b[0m\u001b[0;34m(\u001b[0m\u001b[0;34m'Finishing fitting test Hashvec : %f s'\u001b[0m \u001b[0;34m%\u001b[0m\u001b[0;34m(\u001b[0m\u001b[0mduration\u001b[0m\u001b[0;34m)\u001b[0m\u001b[0;34m)\u001b[0m\u001b[0;34m\u001b[0m\u001b[0m\n",
      "\u001b[0;31mNameError\u001b[0m: name 'hashvec' is not defined"
     ]
    }
   ],
   "source": [
    "t0 = time()\n",
    "X_test = hashvec.transform(df_test['Page content'])\n",
    "duration = time() - t0\n",
    "print('Finishing fitting test Hashvec : %f s' %(duration))\n"
   ]
  },
  {
   "cell_type": "code",
   "execution_count": 74,
   "metadata": {
    "collapsed": false
   },
   "outputs": [],
   "source": [
    "test_weekday = pd.read_csv('test_weekday.csv').values\n",
    "test_time = pd.read_csv('test_time.csv').values\n",
    "\n",
    "X_test_con = hstack([X_test, test_weekday, test_time, df_test['n_fig'].reshape(-1,1)])\n",
    "#X_test_con = np.concatenate((test_weekday, test_time), axis=1)\n",
    "#X_test_con = test_weekday * test_time\n",
    "#print(X_test_con.shape)\n",
    "#X_test_std = sc_x.fit_transform(X_test_con)"
   ]
  },
  {
   "cell_type": "code",
   "execution_count": 78,
   "metadata": {
    "collapsed": false
   },
   "outputs": [],
   "source": [
    "\n",
    "for cand in candidates:\n",
    "    predict = cand['clf'].predict(X_test_con)\n",
    "    output = np.zeros((X_test_con.shape[0], 2), dtype=int)\n",
    "    output[:, 0] = df_test['Id']\n",
    "    output[:, 1] = predict\n",
    "    df_output = pd.DataFrame(data=output, columns=['Id', 'Popularity'])\n",
    "    df_output.to_csv('test___%f.csv' % (cand['C']), index=False)"
   ]
  },
  {
   "cell_type": "code",
   "execution_count": null,
   "metadata": {
    "collapsed": true
   },
   "outputs": [],
   "source": []
  }
 ],
 "metadata": {
  "anaconda-cloud": {},
  "kernelspec": {
   "display_name": "Python [conda env:ML_ENV]",
   "language": "python",
   "name": "conda-env-ML_ENV-py"
  },
  "language_info": {
   "codemirror_mode": {
    "name": "ipython",
    "version": 3
   },
   "file_extension": ".py",
   "mimetype": "text/x-python",
   "name": "python",
   "nbconvert_exporter": "python",
   "pygments_lexer": "ipython3",
   "version": "3.4.5"
  }
 },
 "nbformat": 4,
 "nbformat_minor": 1
}
