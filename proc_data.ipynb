{
 "cells": [
  {
   "cell_type": "code",
   "execution_count": 1,
   "metadata": {
    "collapsed": false
   },
   "outputs": [],
   "source": [
    "import pandas as pd\n",
    "\n",
    "df = pd.read_csv('train.csv')\n",
    "df_test = pd.read_csv('test.csv')\n",
    "\n",
    "not_fit = True\n",
    "\n"
   ]
  },
  {
   "cell_type": "code",
   "execution_count": 2,
   "metadata": {
    "collapsed": false
   },
   "outputs": [
    {
     "data": {
      "text/plain": [
       "\"\\ntrain_nlow = np.zeros((df['Page content'].values.shape[0], 4), dtype=object)\\ntest_nlow = np.zeros((df_test['Page content'].values.shape[0], 4), dtype=object)\\n\\nfor i in range(df['Page content'].values.shape[0]):\\n    title, text, author, nf = procd.parse_html(df['Page content'][i], tolower=False)\\n    train_nlow[i, 0] = df['Id'][i]\\n    train_nlow[i, 1] = df['Popularity'][i]\\n    train_nlow[i, 2] = title\\n    train_nlow[i, 3] = text\\n\\nfor i in range(df_test['Page content'].values.shape[0]):\\n    title, text, author, nf = procd.parse_html(df_test['Page content'][i], tolower=False)\\n    test_nlow[i, 0] = df['Id'][i]\\n    test_nlow[i, 1] = df['Popularity'][i]\\n    test_nlow[i, 2] = title\\n    test_nlow[i, 3] = text\\n\\npd.DataFrame(data=train_nlow, columns=['Id', 'Popularity', 'title', 'content']).to_csv('train_parse_ncase.csv', index=False)\\npd.DataFrame(data=test_nlow, columns=['Id', 'Popularity', 'title', 'content']).to_csv('test_parse_ncase.csv', index=False)\\n\""
      ]
     },
     "execution_count": 2,
     "metadata": {},
     "output_type": "execute_result"
    }
   ],
   "source": [
    "\"\"\"\n",
    "train_nlow = np.zeros((df['Page content'].values.shape[0], 4), dtype=object)\n",
    "test_nlow = np.zeros((df_test['Page content'].values.shape[0], 4), dtype=object)\n",
    "\n",
    "for i in range(df['Page content'].values.shape[0]):\n",
    "    title, text, author, nf = procd.parse_html(df['Page content'][i], tolower=False)\n",
    "    train_nlow[i, 0] = df['Id'][i]\n",
    "    train_nlow[i, 1] = df['Popularity'][i]\n",
    "    train_nlow[i, 2] = title\n",
    "    train_nlow[i, 3] = text\n",
    "\n",
    "for i in range(df_test['Page content'].values.shape[0]):\n",
    "    title, text, author, nf = procd.parse_html(df_test['Page content'][i], tolower=False)\n",
    "    test_nlow[i, 0] = df['Id'][i]\n",
    "    test_nlow[i, 1] = df['Popularity'][i]\n",
    "    test_nlow[i, 2] = title\n",
    "    test_nlow[i, 3] = text\n",
    "\n",
    "pd.DataFrame(data=train_nlow, columns=['Id', 'Popularity', 'title', 'content']).to_csv('train_parse_ncase.csv', index=False)\n",
    "pd.DataFrame(data=test_nlow, columns=['Id', 'Popularity', 'title', 'content']).to_csv('test_parse_ncase.csv', index=False)\n",
    "\"\"\""
   ]
  },
  {
   "cell_type": "code",
   "execution_count": 2,
   "metadata": {
    "collapsed": false
   },
   "outputs": [
    {
     "name": "stdout",
     "output_type": "stream",
     "text": [
      "[nltk_data] Downloading package stopwords to /home/atsu/nltk_data...\n",
      "[nltk_data]   Package stopwords is already up-to-date!\n"
     ]
    }
   ],
   "source": [
    "import numpy as np\n",
    "import nltk\n",
    "from nltk.corpus import stopwords\n",
    "from nltk.stem.porter import PorterStemmer\n",
    "import re\n",
    "nltk.download('stopwords')\n",
    "stop = stopwords.words('english')\n",
    "\n",
    "def tokenizer_stem_nostop(text):\n",
    "    porter = PorterStemmer()\n",
    "    return [porter.stem(w) for w in re.split('\\s+', text.strip()) \\\n",
    "            if w not in stop and re.match('[a-zA-Z]+', w)]"
   ]
  },
  {
   "cell_type": "code",
   "execution_count": 5,
   "metadata": {
    "collapsed": false
   },
   "outputs": [
    {
     "data": {
      "text/plain": [
       "\"\\ntrain_parse = np.zeros((df.values.shape[0], 5),dtype=object)\\n\\nfor i in range(df['Page content'].values.shape[0]):\\n#for i in range(5):\\n\\n    train_parse[i, 0], train_parse[i, 1], train_parse[i, 2],  train_parse[i, 3]            = procd.parse_html(df['Page content'][i])\\n    train_parse[i, 4] = len(tokenizer_stem_nostop(train_parse[i, 1]))\\n\\npd.DataFrame(data=train_parse, columns=['title', 'content', 'author', 'n_fig', 'n_words']).to_csv('train_b_parsed.csv')\\n\\ntrain_parse = np.zeros((df_test.values.shape[0], 5),dtype=object)\\n\\n#for i in range(5):\\n\\nfor i in range(df_test['Page content'].values.shape[0]):\\n    train_parse[i, 0], train_parse[i, 1], train_parse[i, 2],  train_parse[i, 3]             = procd.parse_html(df_test['Page content'][i])\\n    train_parse[i, 4] = len(tokenizer_stem_nostop(train_parse[i, 1]))\\n\\npd.DataFrame(data=train_parse, columns=['title', 'content', 'author','n_fig', 'n_words']).to_csv('test_b_parsed.csv')\\n\""
      ]
     },
     "execution_count": 5,
     "metadata": {},
     "output_type": "execute_result"
    }
   ],
   "source": [
    "import numpy as np\n",
    "from bs4 import BeautifulSoup\n",
    "from collections import defaultdict\n",
    "import src.proc_data as procd\n",
    "from sklearn.preprocessing import OneHotEncoder\n",
    "from sklearn.preprocessing import LabelEncoder\n",
    "\n",
    "\"\"\"\n",
    "train_channel = np.zeros((df.values.shape[0], 4), dtype=object)\n",
    "test_channel = np.zeros((df_test.values.shape[0], 4), dtype=object)\n",
    "columns = ['entertainment', 'world', 'social-media', 'tech']\n",
    "\n",
    "\n",
    "for i in range(df['Page content'].values.shape[0]):\n",
    "    channel = procd.parse_channel(df['Page content'][i])\n",
    "    if channel in columns:\n",
    "        train_channel[i, columns.index(channel)] = 1\n",
    "\n",
    "pd.DataFrame(data=train_channel, columns=columns).to_csv('train_channel.csv', index=False)\n",
    "        \n",
    "for i in range(df_test['Page content'].values.shape[0]):\n",
    "    channel = procd.parse_channel(df_test['Page content'][i])\n",
    "    if channel in columns:\n",
    "        test_channel[i, columns.index(channel)] = 1\n",
    "        \n",
    "pd.DataFrame(data=test_channel, columns=columns).to_csv('test_channel.csv', index=False)\n",
    "\"\"\"\n",
    "\"\"\"\n",
    "train_parse = np.zeros((df.values.shape[0], 5),dtype=object)\n",
    "\n",
    "for i in range(df['Page content'].values.shape[0]):\n",
    "#for i in range(5):\n",
    "\n",
    "    train_parse[i, 0], train_parse[i, 1], train_parse[i, 2],  train_parse[i, 3]\\\n",
    "            = procd.parse_html(df['Page content'][i])\n",
    "    train_parse[i, 4] = len(tokenizer_stem_nostop(train_parse[i, 1]))\n",
    "\n",
    "pd.DataFrame(data=train_parse, columns=['title', 'content', 'author', 'n_fig', 'n_words']).to_csv('train_b_parsed.csv')\n",
    "\n",
    "train_parse = np.zeros((df_test.values.shape[0], 5),dtype=object)\n",
    "\n",
    "#for i in range(5):\n",
    "\n",
    "for i in range(df_test['Page content'].values.shape[0]):\n",
    "    train_parse[i, 0], train_parse[i, 1], train_parse[i, 2],  train_parse[i, 3] \\\n",
    "            = procd.parse_html(df_test['Page content'][i])\n",
    "    train_parse[i, 4] = len(tokenizer_stem_nostop(train_parse[i, 1]))\n",
    "\n",
    "pd.DataFrame(data=train_parse, columns=['title', 'content', 'author','n_fig', 'n_words']).to_csv('test_b_parsed.csv')\n",
    "\"\"\""
   ]
  },
  {
   "cell_type": "code",
   "execution_count": null,
   "metadata": {
    "collapsed": false
   },
   "outputs": [],
   "source": []
  },
  {
   "cell_type": "code",
   "execution_count": 6,
   "metadata": {
    "collapsed": false
   },
   "outputs": [],
   "source": [
    "df = pd.read_csv('train_parsed.csv')\n",
    "df_test = pd.read_csv('test_parsed.csv')\n",
    "y_train = df['Popularity']"
   ]
  },
  {
   "cell_type": "code",
   "execution_count": null,
   "metadata": {
    "collapsed": false
   },
   "outputs": [
    {
     "name": "stdout",
     "output_type": "stream",
     "text": [
      "Topic #0:\n",
      "new facebook get game one ad onlin tv million microsoft app twitter phone user show\n",
      "Topic #1:\n",
      "world social new launch take media video best tech job make twitter day youtub instagram\n",
      "Topic #2:\n",
      "appl iphon app like use year help come new look samsung first thing android ipad\n",
      "Topic #3:\n",
      "googl photo music may week tweet top glass video movi twitter power kill celebr live\n",
      "Topic #4:\n",
      "u know need report way news life say mobil smartphon peopl reveal real market compani\n",
      "\n"
     ]
    }
   ],
   "source": [
    "from sklearn.feature_extraction.text import CountVectorizer\n",
    "from sklearn.decomposition import LatentDirichletAllocation\n",
    "\n",
    "def print_top_words(model, feature_names, n_top_words):\n",
    "    for topic_idx, topic in enumerate(model.components_):\n",
    "        print(\"Topic #%d:\" % topic_idx)\n",
    "        print(\" \".join([feature_names[i]\n",
    "                        for i in topic.argsort()[:-n_top_words - 1:-1]]))\n",
    "    print()\n",
    "    \n",
    "n_topics = 5\n",
    "n_top_words = 15\n",
    "n_features = 2**20\n",
    "tf_vectorizer = CountVectorizer(max_df=0.95, min_df=2,\n",
    "                                max_features=n_features,\n",
    "                                tokenizer=tokenizer_stem_nostop)\n",
    "tf = tf_vectorizer.fit_transform(df['title'])\n",
    "\n",
    "lda = LatentDirichletAllocation(n_topics=n_topics, max_iter=5,\n",
    "                                learning_method='online',\n",
    "                                learning_offset=50.,\n",
    "                                random_state=0)\n",
    "topic_tf = lda.fit_transform(tf)\n",
    "tf_feature_names = tf_vectorizer.get_feature_names()\n",
    "print_top_words(lda, tf_feature_names, n_top_words)\n"
   ]
  },
  {
   "cell_type": "code",
   "execution_count": null,
   "metadata": {
    "collapsed": true
   },
   "outputs": [],
   "source": [
    "from sklearn.feature_extraction.text import TfidfVectorizer\n",
    "\n",
    "tfdoc = TfidfVectorizer(max_features=2**20, tokenizer=tokenizer_stem_nostop)\n",
    "tfdoc.fit(df['content'])\n",
    "doc = tfdoc.transform(df['content'])\n",
    "\n",
    "tfaut = TfidfVectorizer(max_features=2**10)\n",
    "author = tfaut.fit_transform(df['author'])\n"
   ]
  },
  {
   "cell_type": "code",
   "execution_count": null,
   "metadata": {
    "collapsed": false
   },
   "outputs": [],
   "source": [
    "from nltk.tree import Tree\n",
    "nltk.download('averaged_perceptron_tagger')\n",
    "nltk.download('maxent_ne_chunker')\n",
    "nltk.download('words')\n",
    "nltk.download('punkt')\n",
    "\"\"\"\n",
    "tag_types = ['FACILITY', 'GPE', 'GSP', 'LOCATION', 'ORGANIZATION', 'PERSON']\n",
    "\n",
    "df_ncase = pd.read_csv('train_parse_ncase.csv')['content'].values\n",
    "dt_ncase = pd.read_csv('test_parse_ncase.csv')['content'].values\n",
    "\n",
    "train_ner = np.zeros((df_ncase.shape[0], 6 * 2), dtype=int)\n",
    "test_ner  = np.zeros((dt_ncase.shape[0], 6 * 2), dtype=int)\n",
    "\n",
    "for i in range(df_ncase.shape[0]):\n",
    "    tokens = nltk.word_tokenize(df_ncase[i])\n",
    "    tags = nltk.pos_tag(tokens)\n",
    "    chunks = nltk.ne_chunk(tags)\n",
    "    if i % 500 == 0:\n",
    "        print('analyzing %d' %(i))\n",
    "    for x in chunks:\n",
    "        if isinstance(x, Tree):\n",
    "            label = x.label()\n",
    "            idx = tag_types.index(label)\n",
    "            train_ner[i, idx] = 1\n",
    "            train_ner[i, idx+6] += 1\n",
    "\n",
    "pd.DataFrame(data=train_ner, columns=['has_FACILITY', 'has_GPE', 'has_GSP', 'has_LOCATION', \n",
    "                                      'has_ORGANIZATION', 'has_PERSON','FACILITY', 'GPE', \n",
    "                                      'GSP', 'LOCATION', 'ORGANIZATION', 'PERSON']).to_csv('train_ner.csv',index=False)\n",
    "            \n",
    "for i in range(dt_ncase.shape[0]):\n",
    "    tokens = nltk.word_tokenize(dt_ncase[i])\n",
    "    tags = nltk.pos_tag(tokens)\n",
    "    chunks = nltk.ne_chunk(tags)\n",
    "    for x in chunks:\n",
    "        if isinstance(x, Tree):\n",
    "            label = x.label()\n",
    "            idx = tag_types.index(label)\n",
    "            test_ner[i, idx] = 1\n",
    "            test_ner[i, idx+6] += 1\n",
    "pd.DataFrame(data=test_ner, columns=['has_FACILITY', 'has_GPE', 'has_GSP', 'has_LOCATION', \n",
    "                                      'has_ORGANIZATION', 'has_PERSON','FACILITY', 'GPE', \n",
    "                                      'GSP', 'LOCATION', 'ORGANIZATION', 'PERSON']).to_csv('test_ner.csv',index=False)\n",
    "\"\"\""
   ]
  },
  {
   "cell_type": "code",
   "execution_count": null,
   "metadata": {
    "collapsed": false
   },
   "outputs": [],
   "source": [
    "from sklearn.feature_selection import SelectKBest, chi2\n",
    "\n",
    "ch2 = SelectKBest(chi2, k=150)\n",
    "doc_x = ch2.fit_transform(doc, y_train)\n",
    "\n",
    "cha2 = SelectKBest(chi2, k=10)\n",
    "aut_x = cha2.fit_transform(author, y_train)"
   ]
  },
  {
   "cell_type": "code",
   "execution_count": 328,
   "metadata": {
    "collapsed": true
   },
   "outputs": [],
   "source": [
    "p_data = df['Popularity'] > 0\n",
    "n_data = df['Popularity'] < 0"
   ]
  },
  {
   "cell_type": "code",
   "execution_count": null,
   "metadata": {
    "collapsed": false
   },
   "outputs": [],
   "source": [
    "n_twords = np.zeros((df['title'].shape[0], 1), dtype=int)\n",
    "n_twords_test = np.zeros((df_test['title'].shape[0], 1), dtype=int)\n",
    "for i in range(n_twords.shape[0]):\n",
    "    n_twords[i] = len(tokenizer_stem_nostop(df['title'][i]))\n",
    "for i in range(n_twords_test.shape[0]):\n",
    "    n_twords_test[i] = len(tokenizer_stem_nostop(df_test['title'][i]))"
   ]
  },
  {
   "cell_type": "code",
   "execution_count": null,
   "metadata": {
    "collapsed": true
   },
   "outputs": [],
   "source": [
    "def mix(a, b):\n",
    "    r = a.shape[1]\n",
    "    k = b.shape[1]\n",
    "    temp = None\n",
    "    for i in range(r):\n",
    "        for j in range(k):\n",
    "            if temp: temp = a[:, i].reshape(-1,1) * b[:,j].reshape(-1,1)\n",
    "            else: temp = np.concatenate((temp, a[:, i].reshape(-1,1) * b[:,j].reshape(-1,1)), axis=1)\n",
    "    \n",
    "    return temp"
   ]
  },
  {
   "cell_type": "code",
   "execution_count": null,
   "metadata": {
    "collapsed": false
   },
   "outputs": [],
   "source": [
    "from scipy.sparse import hstack\n",
    "from sklearn.preprocessing import PolynomialFeatures\n",
    "from sklearn.preprocessing import StandardScaler\n",
    "sc = StandardScaler()\n",
    "stdchi = SelectKBest(chi2, k=150)\n",
    "poly_stdn = PolynomialFeatures(degree=2)\n",
    "poly_cont = PolynomialFeatures(degree=2)\n",
    "poly_mixd = PolynomialFeatures(degree=2)\n",
    "train_weekday = pd.read_csv('train_weekday.csv').values\n",
    "train_time = pd.read_csv('train_time.csv').values\n",
    "train_channel = pd.read_csv('train_channel_34.csv').values\n",
    "train_polarity = pd.read_csv('train_polarity.csv').values\n",
    "train_links = pd.read_csv('train_links.csv').values\n",
    "train_keypop = pd.read_csv('train_keypop.csv').values\n",
    "train_ner = pd.read_csv('train_ner.csv').values\n",
    "#train_ner = train_ner[:, 6:]\n",
    "train_nwords = df['n_words'].values.reshape(-1,1)\n",
    "train_nfig = df['n_fig'].values.reshape(-1,1)\n",
    "\n",
    "time_feats = np.concatenate((train_time, train_weekday, train_channel), axis=1)\n",
    "cont_feats = np.concatenate((train_polarity, topic_tf), axis=1)\n",
    "stdn_feats = np.concatenate((n_twords, train_nwords, train_ner), axis=1)\n",
    "mixd_feats = np.concatenate((train_time, train_polarity, train_ner), axis=1)\n",
    "stdn_feats = sc.fit_transform(stdn_feats)\n",
    "#stdn_feats = poly_stdn.fit_transform(stdn_feats)[:,1:]\n",
    "#cont_feats = poly_cont.fit_transform(cont_feats)[:,1:]\n",
    "\"\"\"\n",
    "ohot_feats = np.concatenate((train_weekday, train_channel, topic_tf), axis=1)\n",
    "stdn_feats = np.concatenate((n_twords, train_nwords, train_ner[:,6:], train_polarity, train_time), axis=1)\n",
    "stdn_feats = sc.fit_transform(stdn_feats)\n",
    "stdn_feats = poly_stdn.fit_transform(stdn_feats)[:,1:]\n",
    "\"\"\"\n",
    "\n",
    "\"\"\"\n",
    "ohot_feats = np.concatenate((train_weekday, train_channel), axis=1)\n",
    "stdn_feats = np.concatenate((train_time, train_polarity, topic_tf, n_twords, train_nwords, train_ner[:,6:]), axis=1)\n",
    "mixd_feats = np.concatenate((train_channel, train_polarity, train_time, train_ner[:,6:]), axis=1)\n",
    "stdn_feats = sc.fit_transform(stdn_feats)\n",
    "stdn_feats = poly_stdn.fit_transform(stdn_feats)[:,1:]\n",
    "mixd_feats = poly_mixd.fit_transform(mixd_feats)[:,1:]\n",
    "\"\"\"\n",
    "\n",
    "X_train_aug = np.concatenate((time_feats, cont_feats, stdn_feats, doc_x.todense()), axis=1)\n",
    "#X_train_aug = np.concatenate((ohot_feats, stdn_feats, doc_x.todense()), axis=1)\n",
    "#X_train_aug = stdchi.fit_transform(np.fabs(X_train_aug), y_train)\n",
    "\n",
    "#X_train_aug = sc.fit_transform(X_train_aug)"
   ]
  },
  {
   "cell_type": "code",
   "execution_count": null,
   "metadata": {
    "collapsed": false
   },
   "outputs": [],
   "source": [
    "from sklearn.model_selection import train_test_split\n",
    "# hold out testing set\n",
    "y_train = df['Popularity']\n",
    "X_htrain, X_htest, y_htrain, y_htest = train_test_split(X_train_aug, y_train, test_size=0.3, random_state=0)\n",
    "\n",
    "print(X_train_aug.shape)"
   ]
  },
  {
   "cell_type": "code",
   "execution_count": null,
   "metadata": {
    "collapsed": false
   },
   "outputs": [],
   "source": [
    "def report(results, n_top=3):\n",
    "    for i in range(1, n_top + 1):\n",
    "        candidates = np.flatnonzero(results['rank_test_score'] == i)\n",
    "        for candidate in candidates:\n",
    "            print(\"Model with rank: {0}\".format(i))\n",
    "            print(\"Mean validation score: {0:.3f} (std: {1:.3f})\".format(\n",
    "                  results['mean_test_score'][candidate],\n",
    "                  results['std_test_score'][candidate]))\n",
    "            print(\"Parameters: {0}\".format(results['params'][candidate]))\n",
    "            print(\"\")\n"
   ]
  },
  {
   "cell_type": "code",
   "execution_count": 339,
   "metadata": {
    "collapsed": false
   },
   "outputs": [
    {
     "name": "stdout",
     "output_type": "stream",
     "text": [
      "LR score (train):0.788663 , (test):0.789823 , (CV):0.560793 \n",
      "[[13196   815]\n",
      " [ 5027  8605]]\n",
      "0.786533373405\n"
     ]
    },
    {
     "data": {
      "text/plain": [
       "'\\nLR score (train):0.760120 , (test):0.763294 , (CV):0.560467 \\n[[12986  1025]\\n [ 5606  8026]]\\n0.757802465861\\n\\n\\n'"
      ]
     },
     "execution_count": 339,
     "metadata": {},
     "output_type": "execute_result"
    }
   ],
   "source": [
    "from sklearn.model_selection import cross_val_score\n",
    "from sklearn.ensemble import AdaBoostClassifier\n",
    "from sklearn.linear_model import SGDClassifier\n",
    "from sklearn import metrics\n",
    "from sklearn.svm import LinearSVC\n",
    "from sklearn.linear_model import LogisticRegression\n",
    "from sklearn.ensemble import BaggingClassifier\n",
    "from sklearn.ensemble import RandomForestClassifier\n",
    "from sklearn.naive_bayes import GaussianNB\n",
    "from sklearn.model_selection import GridSearchCV\n",
    "from time import time\n",
    "from sklearn.neural_network import MLPClassifier\n",
    "from sklearn.metrics import confusion_matrix\n",
    "from sklearn.metrics import roc_curve\n",
    "from sklearn.metrics import auc\n",
    "#param_c = { 'C': [0.001, 0.005, 0.01, 0.03, 0.05, 0.07, 0.1, 0.25, 0.5, 0.7, 1.0, 3.0, 10.0, 100.0, 200.0, 1000, 1000.0]}\n",
    "#grid_search = GridSearchCV(LogisticRegression(random_state=0), param_grid=param_c)\n",
    "#start = time()\n",
    "#grid_search.fit(X_train_aug, y_train)\n",
    "\n",
    "#print(\"GridSearchCV took %.2f seconds for %d candidate parameter settings.\"\n",
    "#      % (time() - start, len(grid_search.cv_results_['params'])))\n",
    "#report(grid_search.cv_results_)\n",
    "candidates = []\n",
    "\n",
    "\n",
    "\n",
    "# former best 0.06\n",
    "#lr = LogisticRegression(C=.1, random_state=0)\n",
    "lr = RandomForestClassifier(n_estimators=500, max_depth=17, criterion='entropy', random_state=0)\n",
    "\n",
    "score = cross_val_score(lr, X_train_aug, y_train, cv=5)\n",
    "\n",
    "lr.fit(X_train_aug, y_train)\n",
    "pred = lr.predict(X_train_aug)\n",
    "pred_t = lr.predict(X_htest)\n",
    "score_train = metrics.accuracy_score(y_train, pred)\n",
    "score_test = metrics.accuracy_score(y_htest, pred_t)\n",
    "\n",
    "confmat = confusion_matrix(y_true=y_train, y_pred=pred)\n",
    "fpr, tpr, thresholds = metrics.roc_curve(y_train, pred, pos_label=1)\n",
    "com = auc(fpr, tpr)\n",
    "print(\"LR score (train):%f , (test):%f , (CV):%f \" %(score_train, score_test, score.mean()))\n",
    "candidates.append({'clf':lr, 'C':0.5, 'score':score.mean})\n",
    "print(confmat)\n",
    "print(com)\n",
    "\"\"\"\n",
    "LR score (train):0.760120 , (test):0.763294 , (CV):0.560467 \n",
    "[[12986  1025]\n",
    " [ 5606  8026]]\n",
    "0.757802465861\n",
    "\n",
    "\n",
    "\"\"\""
   ]
  },
  {
   "cell_type": "code",
   "execution_count": 167,
   "metadata": {
    "collapsed": false
   },
   "outputs": [],
   "source": [
    "topic_test = tf_vectorizer.transform(df_test['title'])\n",
    "topic_test = lda.transform(topic_test)\n"
   ]
  },
  {
   "cell_type": "code",
   "execution_count": 336,
   "metadata": {
    "collapsed": true
   },
   "outputs": [],
   "source": [
    "doc_test = tfdoc.transform(df_test['content'])\n",
    "test_doc_x = ch2.transform(doc_test)\n",
    "aut_test = tfaut.transform(df_test['author'])\n",
    "test_aut_x = cha2.transform(aut_test)"
   ]
  },
  {
   "cell_type": "code",
   "execution_count": 337,
   "metadata": {
    "collapsed": false
   },
   "outputs": [
    {
     "name": "stderr",
     "output_type": "stream",
     "text": [
      "/home/atsu/anaconda3/envs/ML_ENV/lib/python3.4/site-packages/ipykernel/__main__.py:9: FutureWarning: reshape is deprecated and will raise in a subsequent release. Please use .values.reshape(...) instead\n",
      "/home/atsu/anaconda3/envs/ML_ENV/lib/python3.4/site-packages/sklearn/utils/validation.py:429: DataConversionWarning: Data with input dtype int64 was converted to float64 by StandardScaler.\n",
      "  warnings.warn(msg, _DataConversionWarning)\n"
     ]
    },
    {
     "data": {
      "text/plain": [
       "'\\nohot_feats = np.concatenate((test_weekday, test_channel, topic_test), axis=1)\\nstdn_feats = np.concatenate((n_twords_test, test_nwords, test_ner[:,6:], test_polarity, test_time), axis=1)\\nstdn_feats = sc.fit_transform(stdn_feats)\\n#stdn_feats = stdchi.transform(np.fabs(stdn_feats))\\nstdn_feats = poly_stdn.transform(stdn_feats)[:,1:]\\n\\nX_test_con = np.concatenate((ohot_feats, stdn_feats, test_doc_x.todense()), axis=1)\\n#X_test_con = sc.transform(X_test_con)\\n'"
      ]
     },
     "execution_count": 337,
     "metadata": {},
     "output_type": "execute_result"
    }
   ],
   "source": [
    "test_weekday = pd.read_csv('test_weekday.csv').values\n",
    "test_time = pd.read_csv('test_time.csv').values\n",
    "test_channel = pd.read_csv('test_channel_34.csv').values\n",
    "test_polarity = pd.read_csv('test_polarity.csv').values\n",
    "test_links = pd.read_csv('test_links.csv').values\n",
    "test_keypop = pd.read_csv('test_keypop.csv').values\n",
    "test_nwords = df_test['n_words'].values.reshape(-1,1)\n",
    "test_nfig = df_test['n_fig'].values.reshape(-1,1)\n",
    "test_nword = df_test['n_words'].reshape(-1,1)\n",
    "test_ner = pd.read_csv('test_ner.csv').values\n",
    "\n",
    "\n",
    "time_feats = np.concatenate((test_time, test_weekday, test_channel), axis=1)\n",
    "cont_feats = np.concatenate((test_polarity, topic_test), axis=1)\n",
    "stdn_feats = np.concatenate((n_twords_test, test_nwords, test_ner), axis=1)\n",
    "mixd_feats = np.concatenate((test_time, test_polarity,test_ner), axis=1)\n",
    "stdn_feats = sc.transform(stdn_feats)\n",
    "\n",
    "#cont_feats = poly_cont.transform(cont_feats)[:,1:]\n",
    "#stdn_feats = poly_stdn.transform(stdn_feats)[:,1:]\n",
    "\n",
    "X_test_con = np.concatenate((time_feats, cont_feats, stdn_feats, test_doc_x.todense()), axis=1)\n",
    "\n",
    "\"\"\"\n",
    "ohot_feats = np.concatenate((test_weekday, test_channel, topic_test), axis=1)\n",
    "stdn_feats = np.concatenate((n_twords_test, test_nwords, test_ner[:,6:], test_polarity, test_time), axis=1)\n",
    "stdn_feats = sc.fit_transform(stdn_feats)\n",
    "#stdn_feats = stdchi.transform(np.fabs(stdn_feats))\n",
    "stdn_feats = poly_stdn.transform(stdn_feats)[:,1:]\n",
    "\n",
    "X_test_con = np.concatenate((ohot_feats, stdn_feats, test_doc_x.todense()), axis=1)\n",
    "#X_test_con = sc.transform(X_test_con)\n",
    "\"\"\""
   ]
  },
  {
   "cell_type": "code",
   "execution_count": 340,
   "metadata": {
    "collapsed": false
   },
   "outputs": [],
   "source": [
    "\n",
    "for cand in candidates:\n",
    "    predict = cand['clf'].predict(X_test_con)\n",
    "    output = np.zeros((X_test_con.shape[0], 2), dtype=int)\n",
    "    output[:, 0] = df_test['Id']\n",
    "    output[:, 1] = predict\n",
    "    df_output = pd.DataFrame(data=output, columns=['Id', 'Popularity'])\n",
    "    df_output.to_csv('test___%f.csv' % (cand['C']), index=False)"
   ]
  },
  {
   "cell_type": "code",
   "execution_count": null,
   "metadata": {
    "collapsed": true
   },
   "outputs": [],
   "source": []
  },
  {
   "cell_type": "code",
   "execution_count": null,
   "metadata": {
    "collapsed": true
   },
   "outputs": [],
   "source": []
  }
 ],
 "metadata": {
  "anaconda-cloud": {},
  "kernelspec": {
   "display_name": "Python [conda env:ML_ENV]",
   "language": "python",
   "name": "conda-env-ML_ENV-py"
  },
  "language_info": {
   "codemirror_mode": {
    "name": "ipython",
    "version": 3
   },
   "file_extension": ".py",
   "mimetype": "text/x-python",
   "name": "python",
   "nbconvert_exporter": "python",
   "pygments_lexer": "ipython3",
   "version": "3.4.5"
  }
 },
 "nbformat": 4,
 "nbformat_minor": 1
}
