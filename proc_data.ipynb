{
 "cells": [
  {
   "cell_type": "code",
   "execution_count": 1,
   "metadata": {
    "collapsed": false
   },
   "outputs": [],
   "source": [
    "import pandas as pd\n",
    "\n",
    "df = pd.read_csv('train.csv')\n",
    "df_test = pd.read_csv('test.csv')\n",
    "\n",
    "not_fit = True\n"
   ]
  },
  {
   "cell_type": "code",
   "execution_count": 2,
   "metadata": {
    "collapsed": false
   },
   "outputs": [
    {
     "name": "stdout",
     "output_type": "stream",
     "text": [
      "[nltk_data] Downloading package stopwords to /Users/AtSu/nltk_data...\n",
      "[nltk_data]   Package stopwords is already up-to-date!\n"
     ]
    }
   ],
   "source": [
    "import numpy as np\n",
    "import nltk\n",
    "from nltk.corpus import stopwords\n",
    "from nltk.stem.porter import PorterStemmer\n",
    "import re\n",
    "nltk.download('stopwords')\n",
    "stop = stopwords.words('english')\n",
    "\n",
    "def tokenizer_stem_nostop(text):\n",
    "    porter = PorterStemmer()\n",
    "    return [porter.stem(w) for w in re.split('\\s+', text.strip()) \\\n",
    "            if w not in stop and re.match('[a-zA-Z]+', w)]"
   ]
  },
  {
   "cell_type": "code",
   "execution_count": 3,
   "metadata": {
    "collapsed": false
   },
   "outputs": [
    {
     "data": {
      "text/plain": [
       "\"\\ntrain_parse = np.zeros((df.values.shape[0], 5),dtype=object)\\n\\nfor i in range(df['Page content'].values.shape[0]):\\n#for i in range(5):\\n\\n    train_parse[i, 0], train_parse[i, 1], train_parse[i, 2],  train_parse[i, 3]            = procd.parse_html(df['Page content'][i])\\n    train_parse[i, 4] = len(tokenizer_stem_nostop(train_parse[i, 1]))\\n\\npd.DataFrame(data=train_parse, columns=['title', 'content', 'author', 'n_fig', 'n_words']).to_csv('train_b_parsed.csv')\\n\\ntrain_parse = np.zeros((df_test.values.shape[0], 5),dtype=object)\\n\\n#for i in range(5):\\n\\nfor i in range(df_test['Page content'].values.shape[0]):\\n    train_parse[i, 0], train_parse[i, 1], train_parse[i, 2],  train_parse[i, 3]             = procd.parse_html(df_test['Page content'][i])\\n    train_parse[i, 4] = len(tokenizer_stem_nostop(train_parse[i, 1]))\\n\\npd.DataFrame(data=train_parse, columns=['title', 'content', 'author','n_fig', 'n_words']).to_csv('test_b_parsed.csv')\\n\""
      ]
     },
     "execution_count": 3,
     "metadata": {},
     "output_type": "execute_result"
    }
   ],
   "source": [
    "import numpy as np\n",
    "from bs4 import BeautifulSoup\n",
    "from collections import defaultdict\n",
    "import src.proc_data as procd\n",
    "from sklearn.preprocessing import OneHotEncoder\n",
    "from sklearn.preprocessing import LabelEncoder\n",
    "\"\"\"\n",
    "train_channel = np.zeros((df.values.shape[0], 4), dtype=object)\n",
    "test_channel = np.zeros((df_test.values.shape[0], 4), dtype=object)\n",
    "columns = ['entertainment', 'world', 'social-media', 'tech']\n",
    "\n",
    "\n",
    "for i in range(df['Page content'].values.shape[0]):\n",
    "    channel = procd.parse_channel(df['Page content'][i])\n",
    "    if channel in columns:\n",
    "        train_channel[i, columns.index(channel)] = 1\n",
    "\n",
    "pd.DataFrame(data=train_channel, columns=columns).to_csv('train_channel.csv', index=False)\n",
    "        \n",
    "for i in range(df_test['Page content'].values.shape[0]):\n",
    "    channel = procd.parse_channel(df_test['Page content'][i])\n",
    "    if channel in columns:\n",
    "        test_channel[i, columns.index(channel)] = 1\n",
    "        \n",
    "pd.DataFrame(data=test_channel, columns=columns).to_csv('test_channel.csv', index=False)\n",
    "\"\"\"\n",
    "\"\"\"\n",
    "train_parse = np.zeros((df.values.shape[0], 5),dtype=object)\n",
    "\n",
    "for i in range(df['Page content'].values.shape[0]):\n",
    "#for i in range(5):\n",
    "\n",
    "    train_parse[i, 0], train_parse[i, 1], train_parse[i, 2],  train_parse[i, 3]\\\n",
    "            = procd.parse_html(df['Page content'][i])\n",
    "    train_parse[i, 4] = len(tokenizer_stem_nostop(train_parse[i, 1]))\n",
    "\n",
    "pd.DataFrame(data=train_parse, columns=['title', 'content', 'author', 'n_fig', 'n_words']).to_csv('train_b_parsed.csv')\n",
    "\n",
    "train_parse = np.zeros((df_test.values.shape[0], 5),dtype=object)\n",
    "\n",
    "#for i in range(5):\n",
    "\n",
    "for i in range(df_test['Page content'].values.shape[0]):\n",
    "    train_parse[i, 0], train_parse[i, 1], train_parse[i, 2],  train_parse[i, 3] \\\n",
    "            = procd.parse_html(df_test['Page content'][i])\n",
    "    train_parse[i, 4] = len(tokenizer_stem_nostop(train_parse[i, 1]))\n",
    "\n",
    "pd.DataFrame(data=train_parse, columns=['title', 'content', 'author','n_fig', 'n_words']).to_csv('test_b_parsed.csv')\n",
    "\"\"\""
   ]
  },
  {
   "cell_type": "code",
   "execution_count": 4,
   "metadata": {
    "collapsed": false
   },
   "outputs": [],
   "source": [
    "df = pd.read_csv('train_parsed.csv')\n",
    "df_test = pd.read_csv('test_parsed.csv')\n"
   ]
  },
  {
   "cell_type": "code",
   "execution_count": 7,
   "metadata": {
    "collapsed": false
   },
   "outputs": [
    {
     "name": "stdout",
     "output_type": "stream",
     "text": [
      "finish fitting 151.16\n",
      "Topic #0:\n",
      "app appl use devic phone new imag also googl iphon one user featur design like android screen smartphon make tablet\n",
      "Topic #1:\n",
      "compani user facebook new market social year busi servic million ad media googl product use data content site custom mobil\n",
      "Topic #2:\n",
      "twitter video imag game show com new year one fan youtub photo time world first tweet play music star also\n",
      "Topic #3:\n",
      "like one say get peopl time make work go way want thing think take even would know use look see\n",
      "Topic #4:\n",
      "said report state year u accord govern also new citi would one countri peopl time two nation polic imag told\n",
      "\n"
     ]
    }
   ],
   "source": [
    "from sklearn.decomposition import NMF, LatentDirichletAllocation\n",
    "from sklearn.feature_extraction.text import CountVectorizer\n",
    "from time import time\n",
    "\n",
    "def print_top_words(model, feature_names, n_top_words):\n",
    "    for topic_idx, topic in enumerate(model.components_):\n",
    "        print(\"Topic #%d:\" % topic_idx)\n",
    "        print(\" \".join([feature_names[i]\n",
    "                        for i in topic.argsort()[:-n_top_words - 1:-1]]))\n",
    "    print()\n",
    "    \n",
    "\n",
    "n_topics = 5\n",
    "n_features = 2**10\n",
    "n_top_words = 20\n",
    "\n",
    "\n",
    "t0 = time()\n",
    "tf = CountVectorizer(max_df=0.95, min_df=2,\n",
    "                        max_features=n_features,\n",
    "                        tokenizer=tokenizer_stem_nostop)\n",
    "bow = tf.fit_transform(df['content'])\n",
    "print('finish fitting %.2f' %(time()-t0))\n",
    "\n",
    "lda = LatentDirichletAllocation(n_topics=n_topics, max_iter=5,\n",
    "                                learning_method='online',\n",
    "                                learning_offset=50.,\n",
    "                                random_state=0)\n",
    "bow = lda.fit_transform(bow)\n",
    "\n",
    "tf_feature_names = tf.get_feature_names()\n",
    "print_top_words(lda, tf_feature_names, n_top_words)"
   ]
  },
  {
   "cell_type": "code",
   "execution_count": 9,
   "metadata": {
    "collapsed": false
   },
   "outputs": [
    {
     "name": "stdout",
     "output_type": "stream",
     "text": [
      "(27643, 5)\n",
      "[[  9.19352344e-04   9.22218877e-04   9.17085490e-04   3.16070447e-01\n",
      "    6.81170897e-01]\n",
      " [  5.94651522e-01   2.97804894e-01   1.62914643e-03   8.58386614e-02\n",
      "    2.00757765e-02]\n",
      " [  2.18923243e-03   2.18372099e-03   4.39880860e-01   5.53553906e-01\n",
      "    2.19228086e-03]\n",
      " ..., \n",
      " [  8.78441796e-03   8.76005921e-03   8.88997683e-03   9.64736896e-01\n",
      "    8.82864982e-03]\n",
      " [  1.07128165e-03   9.95685035e-01   1.08406483e-03   1.07999799e-03\n",
      "    1.07962024e-03]\n",
      " [  1.21990842e-03   3.10373031e-01   3.80111541e-01   1.05355057e-01\n",
      "    2.02940463e-01]]\n"
     ]
    }
   ],
   "source": [
    "print(bow.shape)\n",
    "print(bow)"
   ]
  },
  {
   "cell_type": "code",
   "execution_count": 46,
   "metadata": {
    "collapsed": false
   },
   "outputs": [
    {
     "name": "stdout",
     "output_type": "stream",
     "text": [
      "(27643, 170)\n"
     ]
    }
   ],
   "source": [
    "from scipy.sparse import hstack\n",
    "from sklearn.preprocessing import PolynomialFeatures\n",
    "train_weekday = pd.read_csv('train_weekday.csv').values\n",
    "train_time = pd.read_csv('train_time.csv').values\n",
    "train_channel = pd.read_csv('train_channel.csv').values\n",
    "poly = PolynomialFeatures(degree=2)\n",
    "#train_weekday = poly.fit_transform(train_weekday)\n",
    "#train_time = poly.fit_transform(train_time)\n",
    "#print(df['n_words'].shape)\n",
    "#X_train_aug = hstack([train_time.reshape(-1,1), df['n_fig'].reshape(-1,1)])\n",
    "#X_train_aug = train_weekday\n",
    "X_train_aug = np.concatenate((train_channel, train_weekday, train_time, bow), axis=1)\n",
    "X_train_aug = poly.fit_transform(X_train_aug)[:, 1:]\n",
    "#X_train_aug = train_weekday * train_time\n",
    "#sc_x = StandardScaler(with_mean=False)\n",
    "#X_train_aug = sc_x.fit_transform(X_train_aug)\n",
    "print(X_train_aug.shape)"
   ]
  },
  {
   "cell_type": "code",
   "execution_count": 47,
   "metadata": {
    "collapsed": false
   },
   "outputs": [],
   "source": [
    "from sklearn.model_selection import train_test_split\n",
    "# hold out testing set\n",
    "y_train = df['Popularity']\n",
    "X_htrain, X_htest, y_htrain, y_htest = train_test_split(X_train_aug, y_train, test_size=0.3, random_state=0)\n"
   ]
  },
  {
   "cell_type": "code",
   "execution_count": 48,
   "metadata": {
    "collapsed": false
   },
   "outputs": [
    {
     "name": "stdout",
     "output_type": "stream",
     "text": [
      "SGD score (train): 0.554470, (test): 0.547450\n",
      "SGD score (train): 0.549147, (test): 0.546003\n",
      "SGD score (train): 0.555039, (test): 0.559629\n",
      "SGD score (train): 0.547855, (test): 0.561920\n"
     ]
    }
   ],
   "source": [
    "from sklearn.model_selection import cross_val_score\n",
    "from sklearn.ensemble import AdaBoostClassifier\n",
    "from sklearn.linear_model import SGDClassifier\n",
    "from sklearn import metrics\n",
    "from sklearn.svm import LinearSVC\n",
    "from sklearn.linear_model import LogisticRegression\n",
    "from sklearn.ensemble import BaggingClassifier\n",
    "from sklearn.ensemble import RandomForestClassifier\n",
    "\n",
    "SGD = LogisticRegression(C=0.5, random_state=0)\n",
    "SGD.fit(X_htrain, y_htrain)\n",
    "\n",
    "pred = SGD.predict(X_htrain)\n",
    "pred_t = SGD.predict(X_htest)\n",
    "\n",
    "score_train = metrics.accuracy_score(y_htrain, pred)\n",
    "score_test = metrics.accuracy_score(y_htest, pred_t)\n",
    "\n",
    "print(\"SGD score (train): %f, (test): %f\"%(score_train, score_test))\n",
    "ada = AdaBoostClassifier(base_estimator=SGD, algorithm='SAMME', n_estimators=50)\n",
    "ada = ada.fit(X_htrain, y_htrain)\n",
    "pred = ada.predict(X_htrain)\n",
    "pred_t = ada.predict(X_htest)\n",
    "\n",
    "score_train = metrics.accuracy_score(y_htrain, pred)\n",
    "score_test = metrics.accuracy_score(y_htest, pred_t)\n",
    "\n",
    "print(\"SGD score (train): %f, (test): %f\"%(score_train, score_test))\n",
    "SGD.fit(X_train_aug, y_train)\n",
    "\n",
    "pred = SGD.predict(X_htrain)\n",
    "pred_t = SGD.predict(X_htest)\n",
    "score_train = metrics.accuracy_score(y_htrain, pred)\n",
    "score_test = metrics.accuracy_score(y_htest, pred_t)\n",
    "\n",
    "print(\"SGD score (train): %f, (test): %f\"%(score_train, score_test))\n",
    "candidates = []\n",
    "candidates.append({'clf':SGD, 'C':1, 'score':1.0})\n",
    "\n",
    "ada = AdaBoostClassifier(base_estimator=SGD, algorithm='SAMME', n_estimators=50)\n",
    "ada = ada.fit(X_train_aug, y_train)\n",
    "pred = ada.predict(X_htrain)\n",
    "pred_t = ada.predict(X_htest)\n",
    "\n",
    "score_train = metrics.accuracy_score(y_htrain, pred)\n",
    "score_test = metrics.accuracy_score(y_htest, pred_t)\n",
    "\n",
    "print(\"SGD score (train): %f, (test): %f\"%(score_train, score_test))\n",
    "\n",
    "candidates.append({'clf' : ada, 'C' : 0.5, 'score':0.55679})"
   ]
  },
  {
   "cell_type": "code",
   "execution_count": 49,
   "metadata": {
    "collapsed": false
   },
   "outputs": [],
   "source": [
    "test_weekday = pd.read_csv('test_weekday.csv').values\n",
    "test_time = pd.read_csv('test_time.csv').values\n",
    "test_channel = pd.read_csv('test_channel.csv').values\n",
    "\n",
    "bow = tf.transform(df_test['content'])\n",
    "bow = lda.transform(bow)\n",
    "\n",
    "X_test_con = np.concatenate((test_channel, test_weekday, test_time, bow), axis=1)\n",
    "X_test_con = poly.transform(X_test_con)[:,1:]\n",
    "#X_test_con = np.concatenate((test_weekday, test_time), axis=1)\n",
    "#X_test_con = test_weekday * test_time\n",
    "#print(X_test_con.shape)\n",
    "#X_test_std = sc_x.fit_transform(X_test_con)"
   ]
  },
  {
   "cell_type": "code",
   "execution_count": 50,
   "metadata": {
    "collapsed": false
   },
   "outputs": [],
   "source": [
    "\n",
    "for cand in candidates:\n",
    "    predict = cand['clf'].predict(X_test_con)\n",
    "    output = np.zeros((X_test_con.shape[0], 2), dtype=int)\n",
    "    output[:, 0] = df_test['Id']\n",
    "    output[:, 1] = predict\n",
    "    df_output = pd.DataFrame(data=output, columns=['Id', 'Popularity'])\n",
    "    df_output.to_csv('test___%f.csv' % (cand['C']), index=False)"
   ]
  },
  {
   "cell_type": "code",
   "execution_count": null,
   "metadata": {
    "collapsed": true
   },
   "outputs": [],
   "source": []
  }
 ],
 "metadata": {
  "anaconda-cloud": {},
  "kernelspec": {
   "display_name": "Python [conda env:ML_ENV]",
   "language": "python",
   "name": "conda-env-ML_ENV-py"
  },
  "language_info": {
   "codemirror_mode": {
    "name": "ipython",
    "version": 3
   },
   "file_extension": ".py",
   "mimetype": "text/x-python",
   "name": "python",
   "nbconvert_exporter": "python",
   "pygments_lexer": "ipython3",
   "version": "3.4.5"
  }
 },
 "nbformat": 4,
 "nbformat_minor": 1
}
