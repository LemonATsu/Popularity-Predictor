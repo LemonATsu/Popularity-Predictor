{
 "cells": [
  {
   "cell_type": "code",
   "execution_count": 209,
   "metadata": {
    "collapsed": false
   },
   "outputs": [],
   "source": [
    "import pandas as pd\n",
    "\n",
    "df = pd.read_csv('train.csv')\n",
    "df_test = pd.read_csv('test.csv')\n",
    "\n",
    "not_fit = True\n",
    "\n"
   ]
  },
  {
   "cell_type": "code",
   "execution_count": 210,
   "metadata": {
    "collapsed": false
   },
   "outputs": [
    {
     "name": "stdout",
     "output_type": "stream",
     "text": [
      "[nltk_data] Downloading package stopwords to /Users/AtSu/nltk_data...\n",
      "[nltk_data]   Package stopwords is already up-to-date!\n"
     ]
    }
   ],
   "source": [
    "import numpy as np\n",
    "import nltk\n",
    "from nltk.corpus import stopwords\n",
    "from nltk.stem.porter import PorterStemmer\n",
    "import re\n",
    "nltk.download('stopwords')\n",
    "stop = stopwords.words('english')\n",
    "\n",
    "def tokenizer_stem_nostop(text):\n",
    "    porter = PorterStemmer()\n",
    "    return [porter.stem(w) for w in re.split('\\s+', text.strip()) \\\n",
    "            if w not in stop and re.match('[a-zA-Z]+', w)]"
   ]
  },
  {
   "cell_type": "code",
   "execution_count": 211,
   "metadata": {
    "collapsed": false
   },
   "outputs": [
    {
     "data": {
      "text/plain": [
       "\"\\ntrain_parse = np.zeros((df.values.shape[0], 5),dtype=object)\\n\\nfor i in range(df['Page content'].values.shape[0]):\\n#for i in range(5):\\n\\n    train_parse[i, 0], train_parse[i, 1], train_parse[i, 2],  train_parse[i, 3]            = procd.parse_html(df['Page content'][i])\\n    train_parse[i, 4] = len(tokenizer_stem_nostop(train_parse[i, 1]))\\n\\npd.DataFrame(data=train_parse, columns=['title', 'content', 'author', 'n_fig', 'n_words']).to_csv('train_b_parsed.csv')\\n\\ntrain_parse = np.zeros((df_test.values.shape[0], 5),dtype=object)\\n\\n#for i in range(5):\\n\\nfor i in range(df_test['Page content'].values.shape[0]):\\n    train_parse[i, 0], train_parse[i, 1], train_parse[i, 2],  train_parse[i, 3]             = procd.parse_html(df_test['Page content'][i])\\n    train_parse[i, 4] = len(tokenizer_stem_nostop(train_parse[i, 1]))\\n\\npd.DataFrame(data=train_parse, columns=['title', 'content', 'author','n_fig', 'n_words']).to_csv('test_b_parsed.csv')\\n\""
      ]
     },
     "execution_count": 211,
     "metadata": {},
     "output_type": "execute_result"
    }
   ],
   "source": [
    "import numpy as np\n",
    "from bs4 import BeautifulSoup\n",
    "from collections import defaultdict\n",
    "import src.proc_data as procd\n",
    "from sklearn.preprocessing import OneHotEncoder\n",
    "from sklearn.preprocessing import LabelEncoder\n",
    "\"\"\"\n",
    "train_channel = np.zeros((df.values.shape[0], 4), dtype=object)\n",
    "test_channel = np.zeros((df_test.values.shape[0], 4), dtype=object)\n",
    "columns = ['entertainment', 'world', 'social-media', 'tech']\n",
    "\n",
    "\n",
    "for i in range(df['Page content'].values.shape[0]):\n",
    "    channel = procd.parse_channel(df['Page content'][i])\n",
    "    if channel in columns:\n",
    "        train_channel[i, columns.index(channel)] = 1\n",
    "\n",
    "pd.DataFrame(data=train_channel, columns=columns).to_csv('train_channel.csv', index=False)\n",
    "        \n",
    "for i in range(df_test['Page content'].values.shape[0]):\n",
    "    channel = procd.parse_channel(df_test['Page content'][i])\n",
    "    if channel in columns:\n",
    "        test_channel[i, columns.index(channel)] = 1\n",
    "        \n",
    "pd.DataFrame(data=test_channel, columns=columns).to_csv('test_channel.csv', index=False)\n",
    "\"\"\"\n",
    "\"\"\"\n",
    "train_parse = np.zeros((df.values.shape[0], 5),dtype=object)\n",
    "\n",
    "for i in range(df['Page content'].values.shape[0]):\n",
    "#for i in range(5):\n",
    "\n",
    "    train_parse[i, 0], train_parse[i, 1], train_parse[i, 2],  train_parse[i, 3]\\\n",
    "            = procd.parse_html(df['Page content'][i])\n",
    "    train_parse[i, 4] = len(tokenizer_stem_nostop(train_parse[i, 1]))\n",
    "\n",
    "pd.DataFrame(data=train_parse, columns=['title', 'content', 'author', 'n_fig', 'n_words']).to_csv('train_b_parsed.csv')\n",
    "\n",
    "train_parse = np.zeros((df_test.values.shape[0], 5),dtype=object)\n",
    "\n",
    "#for i in range(5):\n",
    "\n",
    "for i in range(df_test['Page content'].values.shape[0]):\n",
    "    train_parse[i, 0], train_parse[i, 1], train_parse[i, 2],  train_parse[i, 3] \\\n",
    "            = procd.parse_html(df_test['Page content'][i])\n",
    "    train_parse[i, 4] = len(tokenizer_stem_nostop(train_parse[i, 1]))\n",
    "\n",
    "pd.DataFrame(data=train_parse, columns=['title', 'content', 'author','n_fig', 'n_words']).to_csv('test_b_parsed.csv')\n",
    "\"\"\""
   ]
  },
  {
   "cell_type": "code",
   "execution_count": 212,
   "metadata": {
    "collapsed": false
   },
   "outputs": [],
   "source": [
    "df = pd.read_csv('train_parsed.csv')\n",
    "df_test = pd.read_csv('test_parsed.csv')\n"
   ]
  },
  {
   "cell_type": "code",
   "execution_count": null,
   "metadata": {
    "collapsed": false
   },
   "outputs": [
    {
     "name": "stdout",
     "output_type": "stream",
     "text": [
      "Topic #0:\n",
      "year photo twitter star use way could new instagram smartphon ipad war trailer old next\n",
      "Topic #1:\n",
      "world game like take show new look first tv thing help cup reveal movi song\n",
      "Topic #2:\n",
      "new time launch come samsung life u onlin video phone amazon internet man york big\n",
      "Topic #3:\n",
      "facebook appl app video iphon ad watch million one say make want top twitter report\n",
      "Topic #4:\n",
      "googl get know need social media news job day mobil may peopl digit glass microsoft\n",
      "\n"
     ]
    }
   ],
   "source": [
    "from sklearn.feature_extraction.text import CountVectorizer\n",
    "from sklearn.decomposition import LatentDirichletAllocation\n",
    "\n",
    "def print_top_words(model, feature_names, n_top_words):\n",
    "    for topic_idx, topic in enumerate(model.components_):\n",
    "        print(\"Topic #%d:\" % topic_idx)\n",
    "        print(\" \".join([feature_names[i]\n",
    "                        for i in topic.argsort()[:-n_top_words - 1:-1]]))\n",
    "    print()\n",
    "    \n",
    "n_topics = 5\n",
    "n_top_words = 15\n",
    "n_features = 2**10\n",
    "tf_vectorizer = CountVectorizer(max_df=0.95, min_df=2,\n",
    "                                max_features=n_features,\n",
    "                                tokenizer=tokenizer_stem_nostop)\n",
    "tf = tf_vectorizer.fit_transform(df['title'])\n",
    "\n",
    "lda = LatentDirichletAllocation(n_topics=n_topics, max_iter=5,\n",
    "                                learning_method='online',\n",
    "                                learning_offset=50.,\n",
    "                                random_state=0)\n",
    "topic_tf = lda.fit_transform(tf)\n",
    "tf_feature_names = tf_vectorizer.get_feature_names()\n",
    "print_top_words(lda, tf_feature_names, n_top_words)\n"
   ]
  },
  {
   "cell_type": "code",
   "execution_count": null,
   "metadata": {
    "collapsed": false
   },
   "outputs": [],
   "source": [
    "n_twords = np.zeros((df['title'].shape[0], 1), dtype=int)\n",
    "n_twords_test = np.zeros((df_test['title'].shape[0], 1), dtype=int)\n",
    "for i in range(n_twords.shape[0]):\n",
    "    n_twords[i] = len(tokenizer_stem_nostop(df['title'][i]))\n",
    "for i in range(n_twords_test.shape[0]):\n",
    "    n_twords_test[i] = len(tokenizer_stem_nostop(df_test['title'][i]))"
   ]
  },
  {
   "cell_type": "code",
   "execution_count": null,
   "metadata": {
    "collapsed": false
   },
   "outputs": [],
   "source": [
    "from scipy.sparse import hstack\n",
    "from sklearn.preprocessing import PolynomialFeatures\n",
    "\n",
    "train_weekday = pd.read_csv('train_weekday.csv').values\n",
    "train_time = pd.read_csv('train_time.csv').values\n",
    "train_channel = pd.read_csv('train_channel.csv').values\n",
    "\n",
    "poly_time = PolynomialFeatures(degree=2)\n",
    "\n",
    "X_train_aug = np.concatenate((train_channel, train_weekday, train_time), axis=1)\n",
    "X_train_aug = poly_time.fit_transform(X_train_aug)[:, 1:]\n",
    "X_train_aug = np.concatenate((X_train_aug, topic_tf), axis=1)\n"
   ]
  },
  {
   "cell_type": "code",
   "execution_count": null,
   "metadata": {
    "collapsed": false
   },
   "outputs": [],
   "source": [
    "from sklearn.model_selection import train_test_split\n",
    "# hold out testing set\n",
    "y_train = df['Popularity']\n",
    "X_htrain, X_htest, y_htrain, y_htest = train_test_split(X_train_aug, y_train, test_size=0.3, random_state=0)\n"
   ]
  },
  {
   "cell_type": "code",
   "execution_count": null,
   "metadata": {
    "collapsed": false
   },
   "outputs": [],
   "source": [
    "from sklearn.model_selection import cross_val_score\n",
    "from sklearn.ensemble import AdaBoostClassifier\n",
    "from sklearn.linear_model import SGDClassifier\n",
    "from sklearn import metrics\n",
    "from sklearn.svm import LinearSVC\n",
    "from sklearn.linear_model import LogisticRegression\n",
    "from sklearn.ensemble import BaggingClassifier\n",
    "from sklearn.ensemble import RandomForestClassifier\n",
    "from sklearn.naive_bayes import GaussianNB\n",
    "\n",
    "lr = LogisticRegression(C=1.0, random_state=0)\n",
    "\n",
    "\n",
    "gnb  = GaussianNB() \n",
    "\n",
    "lr.fit(X_htrain, y_htrain)\n",
    "\n",
    "pred = lr.predict(X_htrain)\n",
    "pred_t = lr.predict(X_htest)\n",
    "score_train = metrics.accuracy_score(y_htrain, pred)\n",
    "score_test = metrics.accuracy_score(y_htest, pred_t)\n",
    "\n",
    "# best case here\n",
    "print(\"LR score (train): %f, (test): %f\"%(score_train, score_test))\n",
    "candidates = []\n",
    "candidates.append({'clf':lr, 'C':3.0, 'score':0.557699})\n",
    "\n",
    "gnb.fit(X_train_aug, y_train)\n",
    "pred = gnb.predict(X_train_aug)\n",
    "pred_t = gnb.predict(X_htest)\n",
    "score_train = metrics.accuracy_score(y_train, pred)\n",
    "score_test = metrics.accuracy_score(y_htest, pred_t)\n",
    "\n",
    "# best case here\n",
    "print(\"GNB score (train): %f, (test): %f\"%(score_train, score_test))\n",
    "\n",
    "\n",
    "lr.fit(X_train_aug, y_train)\n",
    "\n",
    "pred = lr.predict(X_train_aug)\n",
    "pred_t = lr.predict(X_htest)\n",
    "score_train = metrics.accuracy_score(y_train, pred)\n",
    "score_test = metrics.accuracy_score(y_htest, pred_t)\n",
    "\n",
    "# best case here\n",
    "print(\"LR score (train): %f, (test): %f\"%(score_train, score_test))\n",
    "candidates = []\n",
    "candidates.append({'clf':lr, 'C':1.0, 'score':0.557699})\n",
    "\"\"\"\n",
    "bag = BaggingClassifier(base_estimator=lr, n_estimators=15, max_samples=0.7, max_features=0.8, oob_score=True)\n",
    "\n",
    "bag.fit(X_train_aug, y_train)\n",
    "\n",
    "pred = bag.predict(X_train_aug)\n",
    "pred_t = bag.predict(X_htest)\n",
    "score_train = metrics.accuracy_score(y_train, pred)\n",
    "score_test = metrics.accuracy_score(y_htest, pred_t)\n",
    "\n",
    "# best case here\n",
    "print(\"voter score (train): %f, (test): %f\"%(score_train, score_test))\n",
    "candidates.append({'clf': bag, 'C':1.0, 'score':0.561196})\n",
    "\"\"\""
   ]
  },
  {
   "cell_type": "markdown",
   "metadata": {
    "collapsed": true
   },
   "source": [
    " "
   ]
  },
  {
   "cell_type": "code",
   "execution_count": null,
   "metadata": {
    "collapsed": false
   },
   "outputs": [],
   "source": [
    "test_weekday = pd.read_csv('test_weekday.csv').values\n",
    "test_time = pd.read_csv('test_time.csv').values\n",
    "test_channel = pd.read_csv('test_channel.csv').values\n",
    "\n",
    "X_test_con = np.concatenate((test_channel, test_weekday, test_time), axis=1)\n",
    "\n",
    "X_test_con = poly_time.transform(X_test_con)[:,1:]\n",
    "X_test_con = np.concatenate((X_test_con, topic_test), axis=1)\n"
   ]
  },
  {
   "cell_type": "code",
   "execution_count": null,
   "metadata": {
    "collapsed": false
   },
   "outputs": [],
   "source": [
    "\n",
    "for cand in candidates:\n",
    "    predict = cand['clf'].predict(X_test_con)\n",
    "    output = np.zeros((X_test_con.shape[0], 2), dtype=int)\n",
    "    output[:, 0] = df_test['Id']\n",
    "    output[:, 1] = predict\n",
    "    df_output = pd.DataFrame(data=output, columns=['Id', 'Popularity'])\n",
    "    df_output.to_csv('test___%f.csv' % (cand['C']), index=False)"
   ]
  },
  {
   "cell_type": "code",
   "execution_count": null,
   "metadata": {
    "collapsed": true
   },
   "outputs": [],
   "source": []
  }
 ],
 "metadata": {
  "anaconda-cloud": {},
  "kernelspec": {
   "display_name": "Python [conda env:ML_ENV]",
   "language": "python",
   "name": "conda-env-ML_ENV-py"
  },
  "language_info": {
   "codemirror_mode": {
    "name": "ipython",
    "version": 3
   },
   "file_extension": ".py",
   "mimetype": "text/x-python",
   "name": "python",
   "nbconvert_exporter": "python",
   "pygments_lexer": "ipython3",
   "version": "3.4.5"
  }
 },
 "nbformat": 4,
 "nbformat_minor": 1
}
