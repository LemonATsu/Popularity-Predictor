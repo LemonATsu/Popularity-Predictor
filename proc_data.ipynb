{
 "cells": [
  {
   "cell_type": "code",
   "execution_count": 1,
   "metadata": {
    "collapsed": false
   },
   "outputs": [],
   "source": [
    "import pandas as pd\n",
    "\n",
    "#df = pd.read_csv('train.csv')\n",
    "#df_test = pd.read_csv('test.csv')\n",
    "\n",
    "not_fit = True\n",
    "\n"
   ]
  },
  {
   "cell_type": "code",
   "execution_count": 2,
   "metadata": {
    "collapsed": false
   },
   "outputs": [
    {
     "data": {
      "text/plain": [
       "\"\\ntrain_nlow = np.zeros((df['Page content'].values.shape[0], 4), dtype=object)\\ntest_nlow = np.zeros((df_test['Page content'].values.shape[0], 4), dtype=object)\\n\\nfor i in range(df['Page content'].values.shape[0]):\\n    title, text, author, nf = procd.parse_html(df['Page content'][i], tolower=False)\\n    train_nlow[i, 0] = df['Id'][i]\\n    train_nlow[i, 1] = df['Popularity'][i]\\n    train_nlow[i, 2] = title\\n    train_nlow[i, 3] = text\\n\\nfor i in range(df_test['Page content'].values.shape[0]):\\n    title, text, author, nf = procd.parse_html(df_test['Page content'][i], tolower=False)\\n    test_nlow[i, 0] = df['Id'][i]\\n    test_nlow[i, 1] = df['Popularity'][i]\\n    test_nlow[i, 2] = title\\n    test_nlow[i, 3] = text\\n\\npd.DataFrame(data=train_nlow, columns=['Id', 'Popularity', 'title', 'content']).to_csv('train_parse_ncase.csv', index=False)\\npd.DataFrame(data=test_nlow, columns=['Id', 'Popularity', 'title', 'content']).to_csv('test_parse_ncase.csv', index=False)\\n\""
      ]
     },
     "execution_count": 2,
     "metadata": {},
     "output_type": "execute_result"
    }
   ],
   "source": [
    "\"\"\"\n",
    "train_nlow = np.zeros((df['Page content'].values.shape[0], 4), dtype=object)\n",
    "test_nlow = np.zeros((df_test['Page content'].values.shape[0], 4), dtype=object)\n",
    "\n",
    "for i in range(df['Page content'].values.shape[0]):\n",
    "    title, text, author, nf = procd.parse_html(df['Page content'][i], tolower=False)\n",
    "    train_nlow[i, 0] = df['Id'][i]\n",
    "    train_nlow[i, 1] = df['Popularity'][i]\n",
    "    train_nlow[i, 2] = title\n",
    "    train_nlow[i, 3] = text\n",
    "\n",
    "for i in range(df_test['Page content'].values.shape[0]):\n",
    "    title, text, author, nf = procd.parse_html(df_test['Page content'][i], tolower=False)\n",
    "    test_nlow[i, 0] = df['Id'][i]\n",
    "    test_nlow[i, 1] = df['Popularity'][i]\n",
    "    test_nlow[i, 2] = title\n",
    "    test_nlow[i, 3] = text\n",
    "\n",
    "pd.DataFrame(data=train_nlow, columns=['Id', 'Popularity', 'title', 'content']).to_csv('train_parse_ncase.csv', index=False)\n",
    "pd.DataFrame(data=test_nlow, columns=['Id', 'Popularity', 'title', 'content']).to_csv('test_parse_ncase.csv', index=False)\n",
    "\"\"\""
   ]
  },
  {
   "cell_type": "code",
   "execution_count": 3,
   "metadata": {
    "collapsed": false
   },
   "outputs": [
    {
     "name": "stdout",
     "output_type": "stream",
     "text": [
      "[nltk_data] Downloading package stopwords to /home/cgv03/nltk_data...\n",
      "[nltk_data]   Package stopwords is already up-to-date!\n"
     ]
    }
   ],
   "source": [
    "import numpy as np\n",
    "import nltk\n",
    "from nltk.corpus import stopwords\n",
    "from nltk.stem.porter import PorterStemmer\n",
    "import re\n",
    "nltk.download('stopwords')\n",
    "stop = stopwords.words('english')\n",
    "\n",
    "def tokenizer_stem_nostop(text):\n",
    "    porter = PorterStemmer()\n",
    "    return [porter.stem(w) for w in re.split('\\s+', text.strip()) \\\n",
    "            if w not in stop and re.match('[a-zA-Z]+', w)]"
   ]
  },
  {
   "cell_type": "code",
   "execution_count": 4,
   "metadata": {
    "collapsed": false,
    "scrolled": true
   },
   "outputs": [
    {
     "data": {
      "text/plain": [
       "\"\\ntrain_parse = np.zeros((df.values.shape[0], 5),dtype=object)\\n\\nfor i in range(df['Page content'].values.shape[0]):\\n#for i in range(5):\\n\\n    train_parse[i, 0], train_parse[i, 1], train_parse[i, 2],  train_parse[i, 3]            = procd.parse_html(df['Page content'][i])\\n    train_parse[i, 4] = len(tokenizer_stem_nostop(train_parse[i, 1]))\\n\\npd.DataFrame(data=train_parse, columns=['title', 'content', 'author', 'n_fig', 'n_words']).to_csv('train_b_parsed.csv')\\n\\ntrain_parse = np.zeros((df_test.values.shape[0], 5),dtype=object)\\n\\n#for i in range(5):\\n\\nfor i in range(df_test['Page content'].values.shape[0]):\\n    train_parse[i, 0], train_parse[i, 1], train_parse[i, 2],  train_parse[i, 3]             = procd.parse_html(df_test['Page content'][i])\\n    train_parse[i, 4] = len(tokenizer_stem_nostop(train_parse[i, 1]))\\n\\npd.DataFrame(data=train_parse, columns=['title', 'content', 'author','n_fig', 'n_words']).to_csv('test_b_parsed.csv')\\n\""
      ]
     },
     "execution_count": 4,
     "metadata": {},
     "output_type": "execute_result"
    }
   ],
   "source": [
    "import numpy as np\n",
    "from bs4 import BeautifulSoup\n",
    "from collections import defaultdict\n",
    "import src.proc_data as procd\n",
    "from sklearn.preprocessing import OneHotEncoder\n",
    "from sklearn.preprocessing import LabelEncoder\n",
    "\n",
    "\"\"\"\n",
    "train_channel = np.zeros((df.values.shape[0], 4), dtype=object)\n",
    "test_channel = np.zeros((df_test.values.shape[0], 4), dtype=object)\n",
    "columns = ['entertainment', 'world', 'social-media', 'tech']\n",
    "\n",
    "\n",
    "for i in range(df['Page content'].values.shape[0]):\n",
    "    channel = procd.parse_channel(df['Page content'][i])\n",
    "    if channel in columns:\n",
    "        train_channel[i, columns.index(channel)] = 1\n",
    "\n",
    "pd.DataFrame(data=train_channel, columns=columns).to_csv('train_channel.csv', index=False)\n",
    "        \n",
    "for i in range(df_test['Page content'].values.shape[0]):\n",
    "    channel = procd.parse_channel(df_test['Page content'][i])\n",
    "    if channel in columns:\n",
    "        test_channel[i, columns.index(channel)] = 1\n",
    "        \n",
    "pd.DataFrame(data=test_channel, columns=columns).to_csv('test_channel.csv', index=False)\n",
    "\"\"\"\n",
    "\"\"\"\n",
    "train_parse = np.zeros((df.values.shape[0], 5),dtype=object)\n",
    "\n",
    "for i in range(df['Page content'].values.shape[0]):\n",
    "#for i in range(5):\n",
    "\n",
    "    train_parse[i, 0], train_parse[i, 1], train_parse[i, 2],  train_parse[i, 3]\\\n",
    "            = procd.parse_html(df['Page content'][i])\n",
    "    train_parse[i, 4] = len(tokenizer_stem_nostop(train_parse[i, 1]))\n",
    "\n",
    "pd.DataFrame(data=train_parse, columns=['title', 'content', 'author', 'n_fig', 'n_words']).to_csv('train_b_parsed.csv')\n",
    "\n",
    "train_parse = np.zeros((df_test.values.shape[0], 5),dtype=object)\n",
    "\n",
    "#for i in range(5):\n",
    "\n",
    "for i in range(df_test['Page content'].values.shape[0]):\n",
    "    train_parse[i, 0], train_parse[i, 1], train_parse[i, 2],  train_parse[i, 3] \\\n",
    "            = procd.parse_html(df_test['Page content'][i])\n",
    "    train_parse[i, 4] = len(tokenizer_stem_nostop(train_parse[i, 1]))\n",
    "\n",
    "pd.DataFrame(data=train_parse, columns=['title', 'content', 'author','n_fig', 'n_words']).to_csv('test_b_parsed.csv')\n",
    "\"\"\""
   ]
  },
  {
   "cell_type": "code",
   "execution_count": 5,
   "metadata": {
    "collapsed": false
   },
   "outputs": [],
   "source": [
    "df = pd.read_csv('train_parsed.csv')\n",
    "df_test = pd.read_csv('test_parsed.csv')\n",
    "y_train = df['Popularity']"
   ]
  },
  {
   "cell_type": "code",
   "execution_count": 323,
   "metadata": {
    "collapsed": false
   },
   "outputs": [
    {
     "name": "stdout",
     "output_type": "stream",
     "text": [
      "Topic #0:\n",
      "live phone bring song fire hack find see hous event camera white stream two imag\n",
      "Topic #1:\n",
      "new make world want instagram york launch kid citi break develop add drone share travel\n",
      "Topic #2:\n",
      "video star show top may thing week youtub buy war miss go help season dead\n",
      "Topic #3:\n",
      "game know need news moment dog throne offer good right yahoo realli creat cover captur\n",
      "Topic #4:\n",
      "one time life peopl reveal real super market busi amazon announc updat twitter xp put\n",
      "Topic #5:\n",
      "facebook tech home kill win us fight christma secur light heart million snowden epic pinterest\n",
      "Topic #6:\n",
      "googl twitter way best glass user cat offic made soni pay rais free street beauti\n",
      "Topic #7:\n",
      "ad take tv world work cup vine play ebola show test team time film challeng\n",
      "Topic #8:\n",
      "like social media look job trailer chang love ever open print save girl friend bad\n",
      "Topic #9:\n",
      "u come samsung turn smartphon obama big give galaxi data movi call brand nsa bill\n",
      "Topic #10:\n",
      "use internet ipad power plan car new robot ceo still site learn person card mar\n",
      "Topic #11:\n",
      "year first million mobil could digit let music next old hit new build billion tip\n",
      "Topic #12:\n",
      "photo man fan protest ukrain polic attack name russia account food leav teen rule snapchat\n",
      "Topic #13:\n",
      "iphon report say get day onlin tweet space back celebr stop hand nasa school first\n",
      "Topic #14:\n",
      "appl watch app new googl android microsoft io final launch compani futur book deal servic\n",
      "\n"
     ]
    }
   ],
   "source": [
    "from sklearn.feature_extraction.text import CountVectorizer\n",
    "from sklearn.decomposition import LatentDirichletAllocation\n",
    "\n",
    "def print_top_words(model, feature_names, n_top_words):\n",
    "    for topic_idx, topic in enumerate(model.components_):\n",
    "        print(\"Topic #%d:\" % topic_idx)\n",
    "        print(\" \".join([feature_names[i]\n",
    "                        for i in topic.argsort()[:-n_top_words - 1:-1]]))\n",
    "    print()\n",
    "    \n",
    "n_topics = 15\n",
    "n_top_words = 15\n",
    "n_features = 2**20\n",
    "tf_vectorizer = CountVectorizer(max_df=0.95, min_df=2,\n",
    "                                max_features=n_features,\n",
    "                                tokenizer=tokenizer_stem_nostop)\n",
    "tf = tf_vectorizer.fit_transform(df['title'])\n",
    "\n",
    "lda = LatentDirichletAllocation(n_topics=n_topics, max_iter=100,\n",
    "                                learning_method='online',\n",
    "                                learning_offset=50.,\n",
    "                                random_state=0)\n",
    "topic_tf = lda.fit_transform(tf)\n",
    "tf_feature_names = tf_vectorizer.get_feature_names()\n",
    "print_top_words(lda, tf_feature_names, n_top_words)\n"
   ]
  },
  {
   "cell_type": "code",
   "execution_count": 281,
   "metadata": {
    "collapsed": false
   },
   "outputs": [],
   "source": [
    "from sklearn.feature_extraction.text import TfidfVectorizer\n",
    "\n",
    "tfdoc = TfidfVectorizer(max_features=2**20, tokenizer=tokenizer_stem_nostop)\n",
    "\"\"\"\n",
    "tfdoc.fit(df['content'])\n",
    "doc = tfdoc.transform(df['content'])\n",
    "\"\"\"\n",
    "\n",
    "train_content = pd.read_csv('train_noun.csv')\n",
    "tfdoc.fit(train_content['NN'])\n",
    "doc = tfdoc.transform(train_content['NN'])\n",
    "\n",
    "tfaut = TfidfVectorizer(max_features=2**10)\n",
    "author = tfaut.fit_transform(df['author'])\n"
   ]
  },
  {
   "cell_type": "code",
   "execution_count": 282,
   "metadata": {
    "collapsed": false
   },
   "outputs": [
    {
     "name": "stdout",
     "output_type": "stream",
     "text": [
      "[nltk_data] Downloading package averaged_perceptron_tagger to\n",
      "[nltk_data]     /home/cgv03/nltk_data...\n",
      "[nltk_data]   Package averaged_perceptron_tagger is already up-to-\n",
      "[nltk_data]       date!\n",
      "[nltk_data] Downloading package maxent_ne_chunker to\n",
      "[nltk_data]     /home/cgv03/nltk_data...\n",
      "[nltk_data]   Package maxent_ne_chunker is already up-to-date!\n",
      "[nltk_data] Downloading package words to /home/cgv03/nltk_data...\n",
      "[nltk_data]   Package words is already up-to-date!\n",
      "[nltk_data] Downloading package punkt to /home/cgv03/nltk_data...\n",
      "[nltk_data]   Package punkt is already up-to-date!\n"
     ]
    },
    {
     "data": {
      "text/plain": [
       "\"\\ntag_types = ['FACILITY', 'GPE', 'GSP', 'LOCATION', 'ORGANIZATION', 'PERSON']\\n\\ndf_ncase = pd.read_csv('train_parse_ncase.csv')['content'].values\\ndt_ncase = pd.read_csv('test_parse_ncase.csv')['content'].values\\n\\ntrain_ner = np.zeros((df_ncase.shape[0], 6 * 2), dtype=int)\\ntest_ner  = np.zeros((dt_ncase.shape[0], 6 * 2), dtype=int)\\n\\nfor i in range(df_ncase.shape[0]):\\n    tokens = nltk.word_tokenize(df_ncase[i])\\n    tags = nltk.pos_tag(tokens)\\n    chunks = nltk.ne_chunk(tags)\\n    if i % 500 == 0:\\n        print('analyzing %d' %(i))\\n    for x in chunks:\\n        if isinstance(x, Tree):\\n            label = x.label()\\n            idx = tag_types.index(label)\\n            train_ner[i, idx] = 1\\n            train_ner[i, idx+6] += 1\\n\\npd.DataFrame(data=train_ner, columns=['has_FACILITY', 'has_GPE', 'has_GSP', 'has_LOCATION', \\n                                      'has_ORGANIZATION', 'has_PERSON','FACILITY', 'GPE', \\n                                      'GSP', 'LOCATION', 'ORGANIZATION', 'PERSON']).to_csv('train_ner.csv',index=False)\\n            \\nfor i in range(dt_ncase.shape[0]):\\n    tokens = nltk.word_tokenize(dt_ncase[i])\\n    tags = nltk.pos_tag(tokens)\\n    chunks = nltk.ne_chunk(tags)\\n    for x in chunks:\\n        if isinstance(x, Tree):\\n            label = x.label()\\n            idx = tag_types.index(label)\\n            test_ner[i, idx] = 1\\n            test_ner[i, idx+6] += 1\\npd.DataFrame(data=test_ner, columns=['has_FACILITY', 'has_GPE', 'has_GSP', 'has_LOCATION', \\n                                      'has_ORGANIZATION', 'has_PERSON','FACILITY', 'GPE', \\n                                      'GSP', 'LOCATION', 'ORGANIZATION', 'PERSON']).to_csv('test_ner.csv',index=False)\\n\""
      ]
     },
     "execution_count": 282,
     "metadata": {},
     "output_type": "execute_result"
    }
   ],
   "source": [
    "from nltk.tree import Tree\n",
    "nltk.download('averaged_perceptron_tagger')\n",
    "nltk.download('maxent_ne_chunker')\n",
    "nltk.download('words')\n",
    "nltk.download('punkt')\n",
    "\"\"\"\n",
    "tag_types = ['FACILITY', 'GPE', 'GSP', 'LOCATION', 'ORGANIZATION', 'PERSON']\n",
    "\n",
    "df_ncase = pd.read_csv('train_parse_ncase.csv')['content'].values\n",
    "dt_ncase = pd.read_csv('test_parse_ncase.csv')['content'].values\n",
    "\n",
    "train_ner = np.zeros((df_ncase.shape[0], 6 * 2), dtype=int)\n",
    "test_ner  = np.zeros((dt_ncase.shape[0], 6 * 2), dtype=int)\n",
    "\n",
    "for i in range(df_ncase.shape[0]):\n",
    "    tokens = nltk.word_tokenize(df_ncase[i])\n",
    "    tags = nltk.pos_tag(tokens)\n",
    "    chunks = nltk.ne_chunk(tags)\n",
    "    if i % 500 == 0:\n",
    "        print('analyzing %d' %(i))\n",
    "    for x in chunks:\n",
    "        if isinstance(x, Tree):\n",
    "            label = x.label()\n",
    "            idx = tag_types.index(label)\n",
    "            train_ner[i, idx] = 1\n",
    "            train_ner[i, idx+6] += 1\n",
    "\n",
    "pd.DataFrame(data=train_ner, columns=['has_FACILITY', 'has_GPE', 'has_GSP', 'has_LOCATION', \n",
    "                                      'has_ORGANIZATION', 'has_PERSON','FACILITY', 'GPE', \n",
    "                                      'GSP', 'LOCATION', 'ORGANIZATION', 'PERSON']).to_csv('train_ner.csv',index=False)\n",
    "            \n",
    "for i in range(dt_ncase.shape[0]):\n",
    "    tokens = nltk.word_tokenize(dt_ncase[i])\n",
    "    tags = nltk.pos_tag(tokens)\n",
    "    chunks = nltk.ne_chunk(tags)\n",
    "    for x in chunks:\n",
    "        if isinstance(x, Tree):\n",
    "            label = x.label()\n",
    "            idx = tag_types.index(label)\n",
    "            test_ner[i, idx] = 1\n",
    "            test_ner[i, idx+6] += 1\n",
    "pd.DataFrame(data=test_ner, columns=['has_FACILITY', 'has_GPE', 'has_GSP', 'has_LOCATION', \n",
    "                                      'has_ORGANIZATION', 'has_PERSON','FACILITY', 'GPE', \n",
    "                                      'GSP', 'LOCATION', 'ORGANIZATION', 'PERSON']).to_csv('test_ner.csv',index=False)\n",
    "\"\"\""
   ]
  },
  {
   "cell_type": "code",
   "execution_count": 373,
   "metadata": {
    "collapsed": false
   },
   "outputs": [],
   "source": [
    "from sklearn.feature_selection import SelectKBest, chi2\n",
    "\n",
    "ch2 = SelectKBest(chi2, k=200)\n",
    "doc_x = ch2.fit_transform(doc, y_train)\n",
    "\n",
    "cha2 = SelectKBest(chi2, k=10)\n",
    "aut_x = cha2.fit_transform(author, y_train)\n"
   ]
  },
  {
   "cell_type": "code",
   "execution_count": 359,
   "metadata": {
    "collapsed": true
   },
   "outputs": [],
   "source": [
    "pkl.dump(lda, open('lda_title15', 'wb'))"
   ]
  },
  {
   "cell_type": "code",
   "execution_count": 361,
   "metadata": {
    "collapsed": false
   },
   "outputs": [
    {
     "name": "stderr",
     "output_type": "stream",
     "text": [
      "/home/cgv03/anaconda3/envs/ml_mid_env/lib/python3.5/site-packages/sklearn/base.py:315: UserWarning: Trying to unpickle estimator LatentDirichletAllocation from version 0.18.1 when using version 0.18. This might lead to breaking code or invalid results. Use at your own risk.\n",
      "  UserWarning)\n"
     ]
    }
   ],
   "source": [
    "import pickle as pkl\n",
    "\n",
    "lda_title = pkl.load(open('lda_title15', 'rb'))\n",
    "lda_content = pkl.load(open('lda_content.pkl', 'rb'))"
   ]
  },
  {
   "cell_type": "code",
   "execution_count": 362,
   "metadata": {
    "collapsed": false
   },
   "outputs": [],
   "source": [
    "train_content = pd.read_csv('train_noun.csv')\n",
    "\n",
    "tfc_vectorizer = CountVectorizer(max_df=0.95, min_df=2,\n",
    "                                max_features=n_features,\n",
    "                                tokenizer=tokenizer_stem_nostop)\n",
    "tfc = tfc_vectorizer.fit_transform(df['content'])\n",
    "\n",
    "tft_vectorizer = CountVectorizer(max_df=0.95, min_df=2,\n",
    "                                max_features=n_features,\n",
    "                                tokenizer=tokenizer_stem_nostop)\n",
    "tft = tft_vectorizer.fit_transform(df['title'])\n"
   ]
  },
  {
   "cell_type": "code",
   "execution_count": 363,
   "metadata": {
    "collapsed": false
   },
   "outputs": [],
   "source": [
    "topic_tc = lda_content.transform(tfc)\n",
    "topic_tt = lda_title.transform(tft)"
   ]
  },
  {
   "cell_type": "code",
   "execution_count": 285,
   "metadata": {
    "collapsed": false
   },
   "outputs": [],
   "source": [
    "n_twords = np.zeros((df['title'].shape[0], 1), dtype=int)\n",
    "n_twords_test = np.zeros((df_test['title'].shape[0], 1), dtype=int)\n",
    "for i in range(n_twords.shape[0]):\n",
    "    n_twords[i] = len(tokenizer_stem_nostop(df['title'][i]))\n",
    "for i in range(n_twords_test.shape[0]):\n",
    "    n_twords_test[i] = len(tokenizer_stem_nostop(df_test['title'][i]))"
   ]
  },
  {
   "cell_type": "code",
   "execution_count": 286,
   "metadata": {
    "collapsed": true
   },
   "outputs": [],
   "source": [
    "def mix(a, b):\n",
    "    r = a.shape[1]\n",
    "    k = b.shape[1]\n",
    "    temp = None\n",
    "    for i in range(r):\n",
    "        for j in range(k):\n",
    "            if temp: temp = a[:, i].reshape(-1,1) * b[:,j].reshape(-1,1)\n",
    "            else: temp = np.concatenate((temp, a[:, i].reshape(-1,1) * b[:,j].reshape(-1,1)), axis=1)\n",
    "    \n",
    "    return temp"
   ]
  },
  {
   "cell_type": "code",
   "execution_count": 374,
   "metadata": {
    "collapsed": false
   },
   "outputs": [],
   "source": [
    "from scipy.sparse import hstack\n",
    "from sklearn.preprocessing import PolynomialFeatures\n",
    "from sklearn.preprocessing import StandardScaler\n",
    "sc = StandardScaler()\n",
    "stdchi = SelectKBest(chi2, k=150)\n",
    "poly_stdn = PolynomialFeatures(degree=2)\n",
    "poly_cont = PolynomialFeatures(degree=2)\n",
    "poly_mixd = PolynomialFeatures(degree=2)\n",
    "train_weekday = pd.read_csv('train_weekday.csv').values\n",
    "train_time = pd.read_csv('train_time.csv').values\n",
    "train_channel = pd.read_csv('train_channel_34.csv').values\n",
    "train_polarity = pd.read_csv('train_polarity.csv').values\n",
    "train_t_polarity = pd.read_csv('train_t_polarity.csv').values\n",
    "train_links = pd.read_csv('train_links.csv').values\n",
    "train_keypop = pd.read_csv('train_keypop.csv').values\n",
    "train_ner = pd.read_csv('train_ner.csv').values\n",
    "train_hnum = pd.read_csv('train_hnum.csv').values\n",
    "train_extra = pd.read_csv('train_extra.csv').values\n",
    "train_extra2 = pd.read_csv('train_extra2.csv').values\n",
    "train_tweet = pd.read_csv('train_tweet.csv').values\n",
    "train_tweet[train_tweet>0] = 1\n",
    "#train_ner = train_ner[:, 6:]\n",
    "train_nwords = df['n_words'].values.reshape(-1,1)\n",
    "train_nfig = df['n_fig'].values.reshape(-1,1)\n",
    "\n",
    "time_feats = np.concatenate((train_time, train_weekday, train_channel), axis=1)\n",
    "cont_feats = np.concatenate((train_polarity, train_t_polarity,  topic_tt), axis=1)\n",
    "stdn_feats = np.concatenate((n_twords, train_nwords, train_extra), axis=1)\n",
    "mixd_feats = np.concatenate((train_time, train_polarity), axis=1)\n",
    "stdn_feats = sc.fit_transform(stdn_feats)\n",
    "#stdn_feats = poly_stdn.fit_transform(stdn_feats)[:,1:]\n",
    "#cont_feats = poly_cont.fit_transform(cont_feats)[:,1:]\n",
    "\"\"\"\n",
    "ohot_feats = np.concatenate((train_weekday, train_channel, topic_tf), axis=1)\n",
    "stdn_feats = np.concatenate((n_twords, train_nwords, train_ner[:,6:], train_polarity, train_time), axis=1)\n",
    "stdn_feats = sc.fit_transform(stdn_feats)\n",
    "stdn_feats = poly_stdn.fit_transform(stdn_feats)[:,1:]\n",
    "\"\"\"\n",
    "\n",
    "\"\"\"\n",
    "ohot_feats = np.concatenate((train_weekday, train_channel), axis=1)\n",
    "stdn_feats = np.concatenate((train_time, train_polarity, topic_tf, n_twords, train_nwords, train_ner[:,6:]), axis=1)\n",
    "mixd_feats = np.concatenate((train_channel, train_polarity, train_time, train_ner[:,6:]), axis=1)\n",
    "stdn_feats = sc.fit_transform(stdn_feats)\n",
    "stdn_feats = poly_stdn.fit_transform(stdn_feats)[:,1:]\n",
    "mixd_feats = poly_mixd.fit_transform(mixd_feats)[:,1:]\n",
    "\"\"\"\n",
    "\n",
    "X_train_aug = np.concatenate((time_feats, cont_feats, stdn_feats,doc_x.todense()), axis=1)\n",
    "#X_train_aug = np.concatenate((ohot_feats, stdn_feats, doc_x.todense()), axis=1)\n",
    "#X_train_aug = stdchi.fit_transform(np.fabs(X_train_aug), y_train)\n",
    "\n",
    "#X_train_aug = sc.fit_transform(X_train_aug)"
   ]
  },
  {
   "cell_type": "code",
   "execution_count": 376,
   "metadata": {
    "collapsed": false
   },
   "outputs": [
    {
     "name": "stdout",
     "output_type": "stream",
     "text": [
      "(27643, 270)\n"
     ]
    }
   ],
   "source": [
    "from sklearn.model_selection import train_test_split\n",
    "# hold out testing set\n",
    "y_train = df['Popularity']\n",
    "X_htrain, X_htest, y_htrain, y_htest = train_test_split(X_train_aug, y_train, test_size=0.3, random_state=0)\n",
    "\n",
    "print(X_train_aug.shape)"
   ]
  },
  {
   "cell_type": "code",
   "execution_count": 366,
   "metadata": {
    "collapsed": false
   },
   "outputs": [],
   "source": [
    "def report(results, n_top=3):\n",
    "    for i in range(1, n_top + 1):\n",
    "        candidates = np.flatnonzero(results['rank_test_score'] == i)\n",
    "        for candidate in candidates:\n",
    "            print(\"Model with rank: {0}\".format(i))\n",
    "            print(\"Mean validation score: {0:.3f} (std: {1:.3f})\".format(\n",
    "                  results['mean_test_score'][candidate],\n",
    "                  results['std_test_score'][candidate]))\n",
    "            print(\"Parameters: {0}\".format(results['params'][candidate]))\n",
    "            print(\"\")\n"
   ]
  },
  {
   "cell_type": "code",
   "execution_count": 378,
   "metadata": {
    "collapsed": false
   },
   "outputs": [
    {
     "name": "stdout",
     "output_type": "stream",
     "text": [
      "LR score (train):0.888652 , (test):0.892801 , (CV):0.574142 \n",
      "[[13759   252]\n",
      " [ 2826 10806]]\n",
      "0.887353896863\n"
     ]
    },
    {
     "data": {
      "text/plain": [
       "'\\nLR score (train):0.880295 , (test):0.881707 , (CV):0.572912 \\n[[13749   262]\\n [ 3047 10585]]\\n0.878891107167\\n\\n\\n'"
      ]
     },
     "execution_count": 378,
     "metadata": {},
     "output_type": "execute_result"
    }
   ],
   "source": [
    "from sklearn.model_selection import cross_val_score\n",
    "from sklearn.ensemble import AdaBoostClassifier\n",
    "from sklearn.linear_model import SGDClassifier\n",
    "from sklearn import metrics\n",
    "from sklearn.linear_model import LogisticRegression\n",
    "from sklearn.ensemble import BaggingClassifier\n",
    "from sklearn.ensemble import RandomForestClassifier\n",
    "from sklearn.naive_bayes import GaussianNB\n",
    "from sklearn.model_selection import GridSearchCV\n",
    "from time import time\n",
    "from sklearn.neural_network import MLPClassifier\n",
    "from sklearn.metrics import confusion_matrix\n",
    "from sklearn.metrics import roc_curve\n",
    "from sklearn.metrics import auc\n",
    "#param_c = { 'C': [0.001, 0.005, 0.01, 0.03, 0.05, 0.07, 0.1, 0.25, 0.5, 0.7, 1.0, 3.0, 10.0, 100.0, 200.0, 1000, 1000.0]}\n",
    "#grid_search = GridSearchCV(LogisticRegression(random_state=0), param_grid=param_c)\n",
    "#start = time()\n",
    "#grid_search.fit(X_train_aug, y_train)\n",
    "\n",
    "#print(\"GridSearchCV took %.2f seconds for %d candidate parameter settings.\"\n",
    "#      % (time() - start, len(grid_search.cv_results_['params'])))\n",
    "#report(grid_search.cv_results_)\n",
    "candidates = []\n",
    "\n",
    "\n",
    "\n",
    "# former best 0.06\n",
    "# 700,21\n",
    "lr = RandomForestClassifier(n_estimators=700, max_depth=21, criterion='entropy', random_state=0, n_jobs=8)\n",
    "#lr = SGDClassifier(loss='log', penalty='elasticnet', alpha=0.000009, l1_ratio=0.35, \n",
    "#                   fit_intercept=True, n_iter=3000, shuffle=True, verbose=0, epsilon=0.1, \n",
    "#                   n_jobs=8, random_state=0)\n",
    "score = cross_val_score(lr, X_train_aug, y_train, cv=5, n_jobs=8)\n",
    "\n",
    "lr.fit(X_train_aug, y_train)\n",
    "pred = lr.predict(X_train_aug)\n",
    "pred_t = lr.predict(X_htest)\n",
    "score_train = metrics.accuracy_score(y_train, pred)\n",
    "score_test = metrics.accuracy_score(y_htest, pred_t)\n",
    "\n",
    "confmat = confusion_matrix(y_true=y_train, y_pred=pred)\n",
    "fpr, tpr, thresholds = metrics.roc_curve(y_train, pred, pos_label=1)\n",
    "com = auc(fpr, tpr)\n",
    "print(\"LR score (train):%f , (test):%f , (CV):%f \" %(score_train, score_test, score.mean()))\n",
    "candidates.append({'clf':lr, 'C':0.5, 'score':score.mean})\n",
    "print(confmat)\n",
    "print(com)\n",
    "\"\"\"\n",
    "LR score (train):0.880295 , (test):0.881707 , (CV):0.572912 \n",
    "[[13749   262]\n",
    " [ 3047 10585]]\n",
    "0.878891107167\n",
    "\n",
    "\n",
    "\"\"\""
   ]
  },
  {
   "cell_type": "code",
   "execution_count": 259,
   "metadata": {
    "collapsed": false
   },
   "outputs": [
    {
     "name": "stderr",
     "output_type": "stream",
     "text": [
      "/home/cgv03/anaconda3/envs/ml_mid_env/lib/python3.5/site-packages/sklearn/externals/joblib/parallel.py:540: UserWarning: Multiprocessing-backed parallel loops cannot be nested, setting n_jobs=1\n",
      "  **self._backend_args)\n",
      "/home/cgv03/anaconda3/envs/ml_mid_env/lib/python3.5/site-packages/sklearn/externals/joblib/parallel.py:540: UserWarning: Multiprocessing-backed parallel loops cannot be nested, setting n_jobs=1\n",
      "  **self._backend_args)\n",
      "/home/cgv03/anaconda3/envs/ml_mid_env/lib/python3.5/site-packages/sklearn/externals/joblib/parallel.py:540: UserWarning: Multiprocessing-backed parallel loops cannot be nested, setting n_jobs=1\n",
      "  **self._backend_args)\n",
      "/home/cgv03/anaconda3/envs/ml_mid_env/lib/python3.5/site-packages/sklearn/externals/joblib/parallel.py:540: UserWarning: Multiprocessing-backed parallel loops cannot be nested, setting n_jobs=1\n",
      "  **self._backend_args)\n",
      "/home/cgv03/anaconda3/envs/ml_mid_env/lib/python3.5/site-packages/sklearn/externals/joblib/parallel.py:540: UserWarning: Multiprocessing-backed parallel loops cannot be nested, setting n_jobs=1\n",
      "  **self._backend_args)\n"
     ]
    },
    {
     "name": "stdout",
     "output_type": "stream",
     "text": [
      "VC score (train):0.822451 , (test):0.824913 , (CV):0.570343 \n"
     ]
    }
   ],
   "source": [
    "from sklearn.ensemble import VotingClassifier\n",
    "\n",
    "candidates = []\n",
    "\n",
    "rf1 = RandomForestClassifier(n_estimators=300, max_depth=12, criterion='entropy', random_state=0)\n",
    "rf2 = RandomForestClassifier(n_estimators=400, max_depth=14, criterion='entropy', random_state=0)\n",
    "rf3 = RandomForestClassifier(n_estimators=500, max_depth=19, criterion='entropy', random_state=0)\n",
    "rf4 = RandomForestClassifier(n_estimators=600, max_depth=21, criterion='entropy', random_state=0)\n",
    "rf5 = RandomForestClassifier(n_estimators=700, max_depth=21, criterion='entropy', random_state=0)\n",
    "\n",
    "vc = VotingClassifier(estimators=[('rf1', rf1), ('rf2', rf2), ('rf3', rf3), ('rf4', rf4), ('rf5', rf5)], voting='soft', weights=None, n_jobs=1)\n",
    "\n",
    "score = cross_val_score(vc, X_train_aug, y_train, cv=5, n_jobs=8)\n",
    "\n",
    "vc.fit(X_train_aug, y_train)\n",
    "\n",
    "pred = vc.predict(X_train_aug)\n",
    "pred_t = vc.predict(X_htest)\n",
    "score_train = metrics.accuracy_score(y_train, pred)\n",
    "score_test = metrics.accuracy_score(y_htest, pred_t)\n",
    "\n",
    "print(\"VC score (train):%f , (test):%f , (CV):%f \" %(score_train, score_test, score.mean()))\n",
    "candidates.append({'clf':vc, 'C':0.5, 'score':score.mean})"
   ]
  },
  {
   "cell_type": "code",
   "execution_count": 251,
   "metadata": {
    "collapsed": false
   },
   "outputs": [
    {
     "name": "stdout",
     "output_type": "stream",
     "text": [
      "LR score (train):0.570452 , (test):0.573857 , (CV):0.562204 \n"
     ]
    }
   ],
   "source": [
    "candidates = []\n",
    "\n",
    "lr = LogisticRegression(C=1., random_state=0)\n",
    "\n",
    "score = cross_val_score(lr, X_train_aug, y_train, cv=5)\n",
    "\n",
    "lr.fit(X_train_aug, y_train)\n",
    "pred = lr.predict(X_train_aug)\n",
    "pred_t = lr.predict(X_htest)\n",
    "score_train = metrics.accuracy_score(y_train, pred)\n",
    "score_test = metrics.accuracy_score(y_htest, pred_t)\n",
    "\n",
    "print(\"LR score (train):%f , (test):%f , (CV):%f \" %(score_train, score_test, score.mean()))\n",
    "candidates.append({'clf':lr, 'C':0.5, 'score':score.mean})"
   ]
  },
  {
   "cell_type": "code",
   "execution_count": 369,
   "metadata": {
    "collapsed": false
   },
   "outputs": [],
   "source": [
    "topic_tc_test = tfc_vectorizer.transform(df_test['content'])\n",
    "topic_tc_test = lda_content.transform(topic_tc_test)\n",
    "\n",
    "topic_tt_test = tft_vectorizer.transform(df_test['title'])\n",
    "topic_tt_test = lda_title.transform(topic_tt_test)"
   ]
  },
  {
   "cell_type": "code",
   "execution_count": 380,
   "metadata": {
    "collapsed": false
   },
   "outputs": [],
   "source": [
    "'''\n",
    "doc_test = tfdoc.transform(df_test['content'])\n",
    "test_doc_x = ch2.transform(doc_test)\n",
    "'''\n",
    "#test_content = pd.read_csv('test_noun.csv')\n",
    "#doc_test = tfdoc.transform(test_content['NN'])\n",
    "test_doc_x = ch2.transform(doc_test)\n",
    "\n",
    "\n",
    "\n",
    "#aut_test = tfaut.transform(df_test['author'])\n",
    "#test_aut_x = cha2.transform(aut_test)"
   ]
  },
  {
   "cell_type": "code",
   "execution_count": 381,
   "metadata": {
    "collapsed": false
   },
   "outputs": [
    {
     "name": "stderr",
     "output_type": "stream",
     "text": [
      "/home/cgv03/anaconda3/envs/ml_mid_env/lib/python3.5/site-packages/ipykernel/__main__.py:11: FutureWarning: reshape is deprecated and will raise in a subsequent release. Please use .values.reshape(...) instead\n"
     ]
    },
    {
     "data": {
      "text/plain": [
       "'\\nohot_feats = np.concatenate((test_weekday, test_channel, topic_test), axis=1)\\nstdn_feats = np.concatenate((n_twords_test, test_nwords, test_ner[:,6:], test_polarity, test_time), axis=1)\\nstdn_feats = sc.fit_transform(stdn_feats)\\n#stdn_feats = stdchi.transform(np.fabs(stdn_feats))\\nstdn_feats = poly_stdn.transform(stdn_feats)[:,1:]\\n\\nX_test_con = np.concatenate((ohot_feats, stdn_feats, test_doc_x.todense()), axis=1)\\n#X_test_con = sc.transform(X_test_con)\\n'"
      ]
     },
     "execution_count": 381,
     "metadata": {},
     "output_type": "execute_result"
    }
   ],
   "source": [
    "test_weekday = pd.read_csv('test_weekday.csv').values\n",
    "test_time = pd.read_csv('test_time.csv').values\n",
    "test_channel = pd.read_csv('test_channel_34.csv').values\n",
    "test_polarity = pd.read_csv('test_polarity.csv').values\n",
    "test_t_polarity = pd.read_csv('test_t_polarity.csv').values\n",
    "\n",
    "test_links = pd.read_csv('test_links.csv').values\n",
    "test_keypop = pd.read_csv('test_keypop.csv').values\n",
    "test_nwords = df_test['n_words'].values.reshape(-1,1)\n",
    "test_nfig = df_test['n_fig'].values.reshape(-1,1)\n",
    "test_nword = df_test['n_words'].reshape(-1,1)\n",
    "test_ner = pd.read_csv('test_title_ner.csv').values\n",
    "test_hnum = pd.read_csv('test_hnum.csv').values\n",
    "test_extra = pd.read_csv('test_extra.csv').values\n",
    "test_tweet = pd.read_csv('test_tweet.csv').values\n",
    "test_tweet[test_tweet > 0] = 1\n",
    "time_feats = np.concatenate((test_time, test_weekday, test_channel), axis=1)\n",
    "cont_feats = np.concatenate((test_polarity, test_t_polarity, topic_tt_test), axis=1)\n",
    "stdn_feats = np.concatenate((n_twords_test,test_nwords, test_extra), axis=1)\n",
    "mixd_feats = np.concatenate((test_time, test_polarity), axis=1)\n",
    "stdn_feats = sc.transform(stdn_feats)\n",
    "\n",
    "#cont_feats = poly_cont.transform(cont_feats)[:,1:]\n",
    "#stdn_feats = poly_stdn.transform(stdn_feats)[:,1:]\n",
    "\n",
    "X_test_con = np.concatenate((time_feats, cont_feats, stdn_feats, test_doc_x.todense()), axis=1)\n",
    "\n",
    "\"\"\"\n",
    "ohot_feats = np.concatenate((test_weekday, test_channel, topic_test), axis=1)\n",
    "stdn_feats = np.concatenate((n_twords_test, test_nwords, test_ner[:,6:], test_polarity, test_time), axis=1)\n",
    "stdn_feats = sc.fit_transform(stdn_feats)\n",
    "#stdn_feats = stdchi.transform(np.fabs(stdn_feats))\n",
    "stdn_feats = poly_stdn.transform(stdn_feats)[:,1:]\n",
    "\n",
    "X_test_con = np.concatenate((ohot_feats, stdn_feats, test_doc_x.todense()), axis=1)\n",
    "#X_test_con = sc.transform(X_test_con)\n",
    "\"\"\""
   ]
  },
  {
   "cell_type": "code",
   "execution_count": 382,
   "metadata": {
    "collapsed": false
   },
   "outputs": [],
   "source": [
    "\n",
    "for cand in candidates:\n",
    "    predict = cand['clf'].predict(X_test_con)\n",
    "    output = np.zeros((X_test_con.shape[0], 2), dtype=int)\n",
    "    output[:, 0] = df_test['Id']\n",
    "    output[:, 1] = predict\n",
    "    df_output = pd.DataFrame(data=output, columns=['Id', 'Popularity'])\n",
    "    df_output.to_csv('test___%f.csv' % (cand['C']), index=False)"
   ]
  },
  {
   "cell_type": "code",
   "execution_count": null,
   "metadata": {
    "collapsed": true
   },
   "outputs": [],
   "source": []
  }
 ],
 "metadata": {
  "anaconda-cloud": {},
  "kernelspec": {
   "display_name": "Python [conda env:ml_mid_env]",
   "language": "python",
   "name": "conda-env-ml_mid_env-py"
  },
  "language_info": {
   "codemirror_mode": {
    "name": "ipython",
    "version": 3
   },
   "file_extension": ".py",
   "mimetype": "text/x-python",
   "name": "python",
   "nbconvert_exporter": "python",
   "pygments_lexer": "ipython3",
   "version": "3.5.2"
  }
 },
 "nbformat": 4,
 "nbformat_minor": 1
}
