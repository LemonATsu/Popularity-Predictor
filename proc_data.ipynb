{
 "cells": [
  {
   "cell_type": "code",
   "execution_count": 1,
   "metadata": {
    "collapsed": false
   },
   "outputs": [],
   "source": [
    "import pandas as pd\n",
    "\n",
    "df = pd.read_csv('train.csv')\n",
    "df_test = pd.read_csv('test.csv')\n",
    "\n",
    "not_fit = True\n"
   ]
  },
  {
   "cell_type": "code",
   "execution_count": 8,
   "metadata": {
    "collapsed": false
   },
   "outputs": [
    {
     "name": "stdout",
     "output_type": "stream",
     "text": [
      "<html><head><div class=\"article-info\"><span class=\"byline \"><a href=\"/author/sam-laird/\"><img alt=\"2016%2f09%2f15%2f63%2fhttpsd2mhye01h4nj2n.cloudfront.netmediazgkymde1lza2.9814b\" class=\"author_image\" src=\"http://i.amz.mshcdn.com/-qaMPB8aiQeIaoBhqlU0OLjA07A=/90x90/2016%2F09%2F15%2F63%2Fhttpsd2mhye01h4nj2n.cloudfront.netmediaZgkyMDE1LzA2.9814b.jpg\"/></a><span class=\"author_name\">By <a href=\"/author/sam-laird/\">Sam Laird</a></span><time datetime=\"Wed, 07 May 2014 19:15:20 +0000\">2014-05-07 19:15:20 UTC</time></span></div></head><body><h1 class=\"title\">Ballin': 2014 NFL Draft Picks Get to Choose Their Own Walk-Out Music</h1><figure class=\"article-image\"><img alt=\"This Dec. 8, 2012 file photo shows Texas A&amp;M quarterback Johnny Manziel gesturing as he talks to reporters after winning the Heisman Trophy in New York.\" class=\"microcontent\" data-fragment=\"lead-image\" data-image=\"http://i.amz.mshcdn.com/CADSAjPf_UHvl5Z9OqlkPWABIGU=/950x534/2014%2F05%2F07%2Fff%2FJohnnyOK.cae2a.jpg\" data-micro=\"1\" data-url=\"null\" src=\"http://i.amz.mshcdn.com/CADSAjPf_UHvl5Z9OqlkPWABIGU=/950x534/2014%2F05%2F07%2Fff%2FJohnnyOK.cae2a.jpg\"/><figcaption class=\"image-caption\">This Dec. 8, 2012 file photo shows Texas A&amp;M quarterback Johnny Manziel gesturing as he talks to reporters after winning the Heisman Trophy in New York.</figcaption><div class=\"image-credit\">Image: Henny Ray Abrams/Associated Press</div></figure><article data-channel=\"entertainment\"><section class=\"article-content\"> <p>You've spend countless hours training to be an American football machine and all the blood, sweat and tears are about to pay off with a top selection in the <a href=\"http://mashable.com/category/nfl/\">NFL</a> Draft — and its accompanying hefty contract. All you need now is the perfect soundtrack for the prefect moment.</p> <p>This year, for the first time ever, 30 picks in the NFL Draft will get to choose their own walk-out music to blare at Radio City Music Hall while they take the stage, don the hat of their new team and shake hands with NFL Commissioner Roger Goodell.</p> <div class=\"see-also\"><p>See also: <a href=\"http://mashable.com/2014/05/07/kevin-durant-mvp-speech/\">Emotional MVP Speech Will Make Kevin Durant Your Favorite NBA Player</a></p></div> <p>NFL Network and <a href=\"http://mashable.com/category/espn/\">ESPN</a> will play natural sounds as picks take the stage, but in the background you should be able to hear the player-selected tracks (radio-versions only, of course) that Jadeveon Clowney, Johnny Manziel and others hand select. Thirty players the NFL invited to New York City for the draft will get to play DJ and pick their tracks. The 2014 NFL Draft's first round is on Thursday.</p> <p>Brian McCarthy, the NFL's vice president of communications, says the new move came about after soliciting feedback from players at previous drafts on how to make the the big day more fun.</p> <p>\"We’ve always had music for each player selected but it’s been more city-oriented,\" McCarthy told <em>Mashable</em> in an email. \"We ask the prospects we have in NYC each year for ways to improve their overall experience.\"</p> <p>So the question becomes: Do you go with \"C.R.E.A.M.\" from the Wu-Tang Clan? Or what about \"All I Do Is Win\" from DJ Khaled? Then again, maybe BG's \"Bling Bling\" is the most appropriate choice.</p> <p>Decisions, decisions. The life of an NFL prospect just got that much more complicated.</p> <div class=\"bonus-content\"><p>BONUS: <a href=\"http://mashable.com/2012/08/26/youtube-sports-fails/\">25 of YouTube's Funniest Sports Fails</a></p></div> <section class=\"gallery\" data-display-mode=\"gallery\" data-id=\"7157\" data-slide-title-pos=\"\" data-slug=\"sports-fails\"> <header> <h1>Sports Fails</h1> </header> <ol class=\"slides\"> <li class=\"slide\" data-content-source=\"Gallery - Default\" data-id=\"5787da3d9111ae74d40037a7\" data-skip-rerender=\"false\" data-thumb=\"http://i.amz.mshcdn.com/be7Vqogmd2lRN65nX6vZH_YBUaQ=/180x140/http%3A%2F%2Fmashable.com%2Fwp-content%2Fgallery%2Fsports-fails%2FQ_3T2HJQWlY.jpg\"> <figure> <div class=\"aspect-16x9\"><iframe allowfullscreen=\"\" class=\"dnr\" frameborder=\"0\" src=\"http://www.youtube.com/embed/Q_3T2HJQWlY\"></iframe></div> </figure> <div class=\"meta\"> <h2 class=\"title\">1. Golf Cart Fail</h2> <div class=\"caption\"> <p>This runaway vehicle wreaked minor on-field havoc following a high school football championship in Texas last December. But a heroic bystander hopped aboard and put on the brakes.</p> <p>No casualties occurred, and the clip immediately became Internet legend.</p> </div> <div class=\"credit\"> </div> </div> </li> <li class=\"slide\" data-content-source=\"Gallery - Default\" data-id=\"5787da3d9111ae74d40037a8\" data-skip-rerender=\"false\" data-thumb=\"http://i.amz.mshcdn.com/2u9sfwWAyCzD0sz0fw_V8vArm_U=/180x140/http%3A%2F%2Fmashable.com%2Fwp-content%2Fgallery%2Fsports-fails%2F1aT06bbh47A.jpg\"> <figure> <div class=\"aspect-16x9\"><iframe allowfullscreen=\"\" class=\"dnr\" frameborder=\"0\" src=\"http://www.youtube.com/embed/1aT06bbh47A\"></iframe></div> </figure> <div class=\"meta\"> <h2 class=\"title\">2. Penalty Kick Fail</h2> <div class=\"caption\"><p>Watch out for the ricochet, goalie! This kid gets it in the right in the chops.</p></div> <div class=\"credit\"> </div> </div> </li> <li class=\"slide\" data-content-source=\"Gallery - Default\" data-id=\"5787da3d9111ae74d40037a9\" data-skip-rerender=\"false\" data-thumb=\"http://i.amz.mshcdn.com/vGGhrbNFPAN_5FG1108ubx4T4BA=/180x140/http%3A%2F%2Fmashable.com%2Fwp-content%2Fgallery%2Fsports-fails%2FS6IYyvypJ4o.jpg\"> <figure> <div class=\"aspect-16x9\"><iframe allowfullscreen=\"\" class=\"dnr\" frameborder=\"0\" src=\"http://www.youtube.com/embed/S6IYyvypJ4o\"></iframe></div> </figure> <div class=\"meta\"> <h2 class=\"title\">3. Mascot on Rollerblades Fail</h2> <div class=\"caption\"><p>What happens when you put an inflatable dinosaur on rollerblades and ask it to skate down a flight of stairs? Amazingness, that's what.</p></div> <div class=\"credit\"> </div> </div> </li> <li class=\"slide\" data-content-source=\"Gallery - Default\" data-id=\"5787da3d9111ae74d40037aa\" data-skip-rerender=\"false\" data-thumb=\"http://i.amz.mshcdn.com/oUKkVA2G15swxedMPt6_RYPRBI0=/180x140/http%3A%2F%2Fmashable.com%2Fwp-content%2Fgallery%2Fsports-fails%2FZuOG09PGYFc.jpg\"> <figure> <div class=\"aspect-16x9\"><iframe allowfullscreen=\"\" class=\"dnr\" frameborder=\"0\" src=\"http://www.youtube.com/embed/ZuOG09PGYFc\"></iframe></div> </figure> <div class=\"meta\"> <h2 class=\"title\">4. Flopping Fail</h2> <div class=\"caption\"><p>In sports, to \"flop\" is to exaggerate the force of contact in hopes of drawing a favorable call from officials. But you've got to time it much, much better than this guy does.</p></div> <div class=\"credit\"> </div> </div> </li> <li class=\"slide\" data-content-source=\"Gallery - Default\" data-id=\"5787da3d9111ae74d40037ab\" data-skip-rerender=\"false\" data-thumb=\"http://i.amz.mshcdn.com/2KEhZJA6-h34A9p8GASTM60OR1U=/180x140/http%3A%2F%2Fmashable.com%2Fwp-content%2Fgallery%2Fsports-fails%2FyneRfVCy3Lo.jpg\"> <figure> <div class=\"aspect-16x9\"><iframe allowfullscreen=\"\" class=\"dnr\" frameborder=\"0\" src=\"http://www.youtube.com/embed/yneRfVCy3Lo\"></iframe></div> </figure> <div class=\"meta\"> <h2 class=\"title\">5. Hockey Celebration Fail</h2> <div class=\"caption\"><p>Apparently, if you hug a member of the opposite team after scoring a goal in hockey, you will get punched in the face.</p></div> <div class=\"credit\"> </div> </div> </li> <li class=\"slide\" data-content-source=\"Gallery - Default\" data-id=\"5787da3d9111ae74d40037ac\" data-skip-rerender=\"false\" data-thumb=\"http://i.amz.mshcdn.com/cG5KKvh8hrEXJW-my-o2nM9Ftf4=/180x140/http%3A%2F%2Fmashable.com%2Fwp-content%2Fgallery%2Fsports-fails%2Fu0mItqwOvIs.jpg\"> <figure> <div class=\"aspect-16x9\"><iframe allowfullscreen=\"\" class=\"dnr\" frameborder=\"0\" src=\"http://www.youtube.com/embed/u0mItqwOvIs\"></iframe></div> </figure> <div class=\"meta\"> <h2 class=\"title\">6. Innocent Bystander Fail</h2> <div class=\"caption\"><p>This kid is just in the wrong place at the wrong time...to the benefit of the rest of us.</p></div> <div class=\"credit\"> </div> </div> </li> <li class=\"slide\" data-content-source=\"Gallery - Default\" data-id=\"5787da3d9111ae74d40037ad\" data-skip-rerender=\"false\" data-thumb=\"http://i.amz.mshcdn.com/tIVt4wkQ6J8qaL8_8vHiElAfBCk=/180x140/http%3A%2F%2Fmashable.com%2Fwp-content%2Fgallery%2Fsports-fails%2FnkbKjtuNJhQ.jpg\"> <figure> <div class=\"aspect-16x9\"><iframe allowfullscreen=\"\" class=\"dnr\" frameborder=\"0\" src=\"http://www.youtube.com/embed/nkbKjtuNJhQ\"></iframe></div> </figure> <div class=\"meta\"> <h2 class=\"title\">7. Representing Your School Fail</h2> <div class=\"caption\"> <p>College football mascots are supposed to represent their schools in a fun, positive light — which doesn't typically include picking fights. Here, the University of Oregon's duck slams the University of Houston's cougar.</p> <p>Bonus points for the sick elbow drop, though.</p> </div> <div class=\"credit\"> </div> </div> </li> <li class=\"slide\" data-content-source=\"Gallery - Default\" data-id=\"5787da3d9111ae74d40037ae\" data-skip-rerender=\"false\" data-thumb=\"http://i.amz.mshcdn.com/E6lU02B54NXEga21umlqAcvqoLA=/180x140/http%3A%2F%2Fmashable.com%2Fwp-content%2Fgallery%2Fsports-fails%2FqY0pqlvjGFQ.jpg\"> <figure> <div class=\"aspect-16x9\"><iframe allowfullscreen=\"\" class=\"dnr\" frameborder=\"0\" src=\"http://www.youtube.com/embed/qY0pqlvjGFQ\"></iframe></div> </figure> <div class=\"meta\"> <h2 class=\"title\">8. Weightlifting Fail</h2> <div class=\"caption\"> <p>Not saying we could successfully lift 432 pounds above our heads, but dang, that looks painful.</p> <p>German weightlifter Matthias Steiner dropped this massive barbell on his neck during the London Olympics this summer, but escaped serious injury.</p> </div> <div class=\"credit\"> </div> </div> </li> <li class=\"slide\" data-content-source=\"Gallery - Default\" data-id=\"5787da3d9111ae74d40037af\" data-skip-rerender=\"false\" data-thumb=\"http://i.amz.mshcdn.com/XaFbwsy3xlJlsaIEFcoZbxMGEng=/180x140/http%3A%2F%2Fmashable.com%2Fwp-content%2Fgallery%2Fsports-fails%2Fs5HB_3KkdyI.jpg\"> <figure> <div class=\"aspect-16x9\"><iframe allowfullscreen=\"\" class=\"dnr\" frameborder=\"0\" src=\"http://www.youtube.com/embed/s5HB_3KkdyI\"></iframe></div> </figure> <div class=\"meta\"> <h2 class=\"title\">9. Trampoline Dunk Fail</h2> <div class=\"caption\"><p>Sometimes, when you fail, you actually win.</p></div> <div class=\"credit\"> </div> </div> </li> <li class=\"slide\" data-content-source=\"Gallery - Default\" data-id=\"5787da3d9111ae74d40037b0\" data-skip-rerender=\"false\" data-thumb=\"http://i.amz.mshcdn.com/3zJ-NEhkMkjL1e8NgI_xpeBiqq8=/180x140/http%3A%2F%2Fmashable.com%2Fwp-content%2Fgallery%2Fsports-fails%2FVmU6BChuiBs.jpg\"> <figure> <div class=\"aspect-16x9\"><iframe allowfullscreen=\"\" class=\"dnr\" frameborder=\"0\" src=\"http://www.youtube.com/embed/VmU6BChuiBs\"></iframe></div> </figure> <div class=\"meta\"> <h2 class=\"title\">10. Hurdling Fail</h2> <div class=\"caption\"> <p>Why jump over hurdles when you could just RUN STRAIGHT THROUGH THEM?</p> <p>File under: Never, Ever Gets Old.</p> </div> <div class=\"credit\"> </div> </div> </li> <li class=\"slide\" data-content-source=\"Gallery - Default\" data-id=\"5787da3d9111ae74d40037b1\" data-skip-rerender=\"false\" data-thumb=\"http://i.amz.mshcdn.com/v_kZK1i9NtPqvo7qh68rLIoYf0s=/180x140/http%3A%2F%2Fmashable.com%2Fwp-content%2Fgallery%2Fsports-fails%2FGkKJvqMTbrA.jpg\"> <figure> <div class=\"aspect-16x9\"><iframe allowfullscreen=\"\" class=\"dnr\" frameborder=\"0\" src=\"http://www.youtube.com/embed/GkKJvqMTbrA\"></iframe></div> </figure> <div class=\"meta\"> <h2 class=\"title\">11. Paying Attention Fail</h2> <div class=\"caption\"><p>After what could best be described as an \"optimistic\" shot attempt in a game last season, NBA center JaVale McGee showed some nice hustle getting back on defense. Only problem? His team still had the ball.</p></div> <div class=\"credit\"> </div> </div> </li> <li class=\"slide\" data-content-source=\"Gallery - Default\" data-id=\"5787da3d9111ae74d40037b2\" data-skip-rerender=\"false\" data-thumb=\"http://i.amz.mshcdn.com/WRTT59TBPlSx7B4hZVYzW7R8mo0=/180x140/http%3A%2F%2Fmashable.com%2Fwp-content%2Fgallery%2Fsports-fails%2FhpfdzK_YWC8.jpg\"> <figure> <div class=\"aspect-16x9\"><iframe allowfullscreen=\"\" class=\"dnr\" frameborder=\"0\" src=\"http://www.youtube.com/embed/hpfdzK_YWC8\"></iframe></div> </figure> <div class=\"meta\"> <h2 class=\"title\">12. Judgment Fail</h2> <div class=\"caption\"><p>But that wasn't McGee's only legendary moment. Here, he shows why it's not a good idea to try dunking from the free throw line mid-game.</p></div> <div class=\"credit\"> </div> </div> </li> <li class=\"slide\" data-content-source=\"Gallery - Default\" data-id=\"5787da3d9111ae74d40037b3\" data-skip-rerender=\"false\" data-thumb=\"http://i.amz.mshcdn.com/_o568FDtlCckm537AI4dimgWcWg=/180x140/http%3A%2F%2Fmashable.com%2Fwp-content%2Fgallery%2Fsports-fails%2F3hRwnXmdRCo.jpg\"> <figure> <div class=\"aspect-16x9\"><iframe allowfullscreen=\"\" class=\"dnr\" frameborder=\"0\" src=\"http://www.youtube.com/embed/3hRwnXmdRCo\"></iframe></div> </figure> <div class=\"meta\"> <h2 class=\"title\">13. Olympic Promo Fail</h2> <div class=\"caption\"> <p>For some reason, London's Olympic promotions this summer involved hanging Mayor Boris Johnson on a zipline while waving a pair of tiny flags.</p> <p>Then he got stuck halfway through and it was pretty much the best, funniest, awkwardest thing that could have happened.</p> </div> <div class=\"credit\"> </div> </div> </li> <li class=\"slide\" data-content-source=\"Gallery - Default\" data-id=\"5787da3d9111ae74d40037b4\" data-skip-rerender=\"false\" data-thumb=\"http://i.amz.mshcdn.com/4eTUT6eiSiy9nOhElIzbrfXJP7w=/180x140/http%3A%2F%2Fmashable.com%2Fwp-content%2Fgallery%2Fsports-fails%2FzIwmcDe-Ni4.jpg\"> <figure> <div class=\"aspect-16x9\"><iframe allowfullscreen=\"\" class=\"dnr\" frameborder=\"0\" src=\"http://www.youtube.com/embed/zIwmcDe-Ni4\"></iframe></div> </figure> <div class=\"meta\"> <h2 class=\"title\">14. Grand Slam Celebration Fail</h2> <div class=\"caption\"><p>Major Leaguer Kendry Morales broke his lower left leg while celebrating a game-winning grand slam in 2010. This edited video provides the before, during and after rundown.</p></div> <div class=\"credit\"> </div> </div> </li> <li class=\"slide\" data-content-source=\"Gallery - Default\" data-id=\"5787da3d9111ae74d40037b5\" data-skip-rerender=\"false\" data-thumb=\"http://i.amz.mshcdn.com/tVk1brpM5740Azw34ujt5BgxkVw=/180x140/http%3A%2F%2Fmashable.com%2Fwp-content%2Fgallery%2Fsports-fails%2Fc3QYczyk9Ts.jpg\"> <figure> <div class=\"aspect-16x9\"><iframe allowfullscreen=\"\" class=\"dnr\" frameborder=\"0\" src=\"http://www.youtube.com/embed/c3QYczyk9Ts\"></iframe></div> </figure> <div class=\"meta\"> <h2 class=\"title\">15. Slam Dunk Fail</h2> <div class=\"caption\"><p>See? White guys <i>can</i> jump? It's just the landing that's the hard part.</p></div> <div class=\"credit\"> </div> </div> </li> <li class=\"slide\" data-content-source=\"Gallery - Default\" data-id=\"5787da3d9111ae74d40037b6\" data-skip-rerender=\"false\" data-thumb=\"http://i.amz.mshcdn.com/4I7yLaHhilNUwtiuALY5wcTizaQ=/180x140/http%3A%2F%2Fmashable.com%2Fwp-content%2Fgallery%2Fsports-fails%2F7zrDmkQ0l1Q.jpg\"> <figure> <div class=\"aspect-16x9\"><iframe allowfullscreen=\"\" class=\"dnr\" frameborder=\"0\" src=\"http://www.youtube.com/embed/7zrDmkQ0l1Q\"></iframe></div> </figure> <div class=\"meta\"> <h2 class=\"title\">16. High Dive Fail</h2> <div class=\"caption\"><p>The announcer here sums it up perfectly. She calls this attempt from the 1992 Olympics \"an absolute failed dive.\"</p></div> <div class=\"credit\"> </div> </div> </li> <li class=\"slide\" data-content-source=\"Gallery - Default\" data-id=\"5787da3d9111ae74d40037b7\" data-skip-rerender=\"false\" data-thumb=\"http://i.amz.mshcdn.com/LChIOzItqRkRgGSqJ3UfBD5Z8kY=/180x140/http%3A%2F%2Fmashable.com%2Fwp-content%2Fgallery%2Fsports-fails%2F8iyU1eQ4lcQ.jpg\"> <figure> <div class=\"aspect-16x9\"><iframe allowfullscreen=\"\" class=\"dnr\" frameborder=\"0\" src=\"http://www.youtube.com/embed/8iyU1eQ4lcQ\"></iframe></div> </figure> <div class=\"meta\"> <h2 class=\"title\">17. Piggyback Ride Fail</h2> <div class=\"caption\"><p>What begins as an innocent enough piggyback ride atop a fuzzy mascot turns into a pretty epic collision — and YouTube gold.</p></div> <div class=\"credit\"> </div> </div> </li> <li class=\"slide\" data-content-source=\"Gallery - Default\" data-id=\"5787da3d9111ae74d40037b8\" data-skip-rerender=\"false\" data-thumb=\"http://i.amz.mshcdn.com/IPTHCrCaylHRcgJxXIoxyOsxiFc=/180x140/http%3A%2F%2Fmashable.com%2Fwp-content%2Fgallery%2Fsports-fails%2FRLrJUB2mBfc.jpg\"> <figure> <div class=\"aspect-16x9\"><iframe allowfullscreen=\"\" class=\"dnr\" frameborder=\"0\" src=\"http://www.youtube.com/embed/RLrJUB2mBfc\"></iframe></div> </figure> <div class=\"meta\"> <h2 class=\"title\">18. Long Jump Fail</h2> <div class=\"caption\"><p>Dude! If you're gonna pump up the crowd like that, you can't just faceplant into the sand.</p></div> <div class=\"credit\"> </div> </div> </li> <li class=\"slide\" data-content-source=\"Gallery - Default\" data-id=\"5787da3d9111ae74d40037b9\" data-skip-rerender=\"false\" data-thumb=\"http://i.amz.mshcdn.com/vmpRtQHFt8yAVRRI1sz_r5JETIw=/180x140/http%3A%2F%2Fmashable.com%2Fwp-content%2Fgallery%2Fsports-fails%2FNbJHyCkBQ-A.jpg\"> <figure> <div class=\"aspect-16x9\"><iframe allowfullscreen=\"\" class=\"dnr\" frameborder=\"0\" src=\"http://www.youtube.com/embed/NbJHyCkBQ-A\"></iframe></div> </figure> <div class=\"meta\"> <h2 class=\"title\">19. Touchdown Celebration Fail</h2> <div class=\"caption\"><p>When you think about it, is there any better way to celebrate a touchdown than by pegging an unsuspecting spectator in the face? Bonus points for originality, at least.</p></div> <div class=\"credit\"> </div> </div> </li> <li class=\"slide\" data-content-source=\"Gallery - Default\" data-id=\"5787da3d9111ae74d40037ba\" data-skip-rerender=\"false\" data-thumb=\"http://i.amz.mshcdn.com/UjOVlaH2jxLEAeEimXLO-07-sBA=/180x140/http%3A%2F%2Fmashable.com%2Fwp-content%2Fgallery%2Fsports-fails%2FaWTXoNzuk8c.jpg\"> <figure> <div class=\"aspect-16x9\"><iframe allowfullscreen=\"\" class=\"dnr\" frameborder=\"0\" src=\"http://www.youtube.com/embed/aWTXoNzuk8c\"></iframe></div> </figure> <div class=\"meta\"> <h2 class=\"title\">20. Pro Golfer Fail</h2> <div class=\"caption\"><p>You'd think a professional golfer could put the ball in the hole with less than 16 strokes. Kevin Na — and the rest of the world — found out otherwise on this par-four hole at the 2011 Valero Texas Open.</p></div> <div class=\"credit\"> </div> </div> </li> <li class=\"slide\" data-content-source=\"Gallery - Default\" data-id=\"5787da3d9111ae74d40037bb\" data-skip-rerender=\"false\" data-thumb=\"http://i.amz.mshcdn.com/4S0C_TLjgu0XcRGatE3tDO54jsU=/180x140/http%3A%2F%2Fmashable.com%2Fwp-content%2Fgallery%2Fsports-fails%2FO8BNjd9Hhrg.jpg\"> <figure> <div class=\"aspect-16x9\"><iframe allowfullscreen=\"\" class=\"dnr\" frameborder=\"0\" src=\"http://www.youtube.com/embed/O8BNjd9Hhrg\"></iframe></div> </figure> <div class=\"meta\"> <h2 class=\"title\">21. Head-First Slide Fail</h2> <div class=\"caption\"><p>Well, that's one way of doing it...right?</p></div> <div class=\"credit\"> </div> </div> </li> <li class=\"slide\" data-content-source=\"Gallery - Default\" data-id=\"5787da3d9111ae74d40037bc\" data-skip-rerender=\"false\" data-thumb=\"http://i.amz.mshcdn.com/5cT1NRF2R0mrlNFnnM2-PzuqU0c=/180x140/http%3A%2F%2Fmashable.com%2Fwp-content%2Fgallery%2Fsports-fails%2FyabpY-YT46k.jpg\"> <figure> <div class=\"aspect-16x9\"><iframe allowfullscreen=\"\" class=\"dnr\" frameborder=\"0\" src=\"http://www.youtube.com/embed/yabpY-YT46k\"></iframe></div> </figure> <div class=\"meta\"> <h2 class=\"title\">22. Time Management Fail</h2> <div class=\"caption\"> <p>Tie game, clock winding down — it's always better to get one last attempt up than just let the game go into overtime. A full court desperation heave with a 11 seconds to go is never the way to do it, however.</p> <p>This classic gaffe by the University of Connecticut's Roscoe Smith came during a matchup of top teams in 2011.</p> </div> <div class=\"credit\"> </div> </div> </li> <li class=\"slide\" data-content-source=\"Gallery - Default\" data-id=\"5787da3d9111ae74d40037bd\" data-skip-rerender=\"false\" data-thumb=\"http://i.amz.mshcdn.com/OTu06CuHk-G93Zdv0KaeS6sO6d0=/180x140/http%3A%2F%2Fmashable.com%2Fwp-content%2Fgallery%2Fsports-fails%2F6WHRxXY67UA.jpg\"> <figure> <div class=\"aspect-16x9\"><iframe allowfullscreen=\"\" class=\"dnr\" frameborder=\"0\" src=\"http://www.youtube.com/embed/6WHRxXY67UA\"></iframe></div> </figure> <div class=\"meta\"> <h2 class=\"title\">23. Boogie Boarding Fail</h2> <div class=\"caption\"><p>Its veracity may be suspect, but this 2008 YouTube classic has more than 12.7 million views, despite a mind-numbing soundtrack.</p></div> <div class=\"credit\"> </div> </div> </li> <li class=\"slide\" data-content-source=\"Gallery - Default\" data-id=\"5787da3d9111ae74d40037be\" data-skip-rerender=\"false\" data-thumb=\"http://i.amz.mshcdn.com/FEGrpdDY8wDe8C5IpgjMLpyxHnQ=/180x140/http%3A%2F%2Fmashable.com%2Fwp-content%2Fgallery%2Fsports-fails%2Fj3bUb72KzFA.jpg\"> <figure> <div class=\"aspect-16x9\"><iframe allowfullscreen=\"\" class=\"dnr\" frameborder=\"0\" src=\"http://www.youtube.com/embed/j3bUb72KzFA\"></iframe></div> </figure> <div class=\"meta\"> <h2 class=\"title\">24. Sportsmanship Fail</h2> <div class=\"caption\"> <p>The summer of 2011 was a tough time for NBA star LeBron James. It was full of lingering ill-will for his decision to the leave the Cleveland Cavaliers and snarky schadenfreude over his initial failure to win a championship with the Miami Heat.</p> <p>So it makes perfect sense that he'd let off some steam by viciously dunking on a tiny kid at summer camp, right? That's what happens at the 0:43 mark of this video.</p> </div> <div class=\"credit\"> </div> </div> </li> <li class=\"slide\" data-content-source=\"Gallery - Default\" data-id=\"5787da3d9111ae74d40037bf\" data-skip-rerender=\"false\" data-thumb=\"http://i.amz.mshcdn.com/hw0rhe9y9NAfM7R0Gp5q__Kr_Ho=/180x140/http%3A%2F%2Fmashable.com%2Fwp-content%2Fgallery%2Fsports-fails%2Ff_VdySnHsJY.jpg\"> <figure> <div class=\"aspect-16x9\"><iframe allowfullscreen=\"\" class=\"dnr\" frameborder=\"0\" src=\"http://www.youtube.com/embed/f_VdySnHsJY\"></iframe></div> </figure> <div class=\"meta\"> <h2 class=\"title\">25. Standing on a Basketball Hoop Fail</h2> <div class=\"caption\"><p>We're not quite sure why this mascot thought standing on top of a basketball rim was a good idea.</p></div> <div class=\"credit\"> </div> </div> </li> </ol> </section> </section></article><footer class=\"article-topics\"> Topics: <a href=\"/category/entertainment/\">Entertainment</a>, <a href=\"/category/nfl/\">NFL</a>, <a href=\"/category/nfl-draft/\">NFL Draft</a>, <a href=\"/category/sports/\">Sports</a>, <a href=\"/category/television/\">Television</a> </footer></body></html>\n"
     ]
    }
   ],
   "source": [
    "#print(df['Page content'][2])\n",
    "\n",
    "#content = procd.parse_html(df['Page content'][2])\n"
   ]
  },
  {
   "cell_type": "code",
   "execution_count": null,
   "metadata": {
    "collapsed": true
   },
   "outputs": [],
   "source": [
    "text = BeautifulSoup(df['Page content'][2])"
   ]
  },
  {
   "cell_type": "code",
   "execution_count": 8,
   "metadata": {
    "collapsed": false
   },
   "outputs": [],
   "source": [
    "import numpy as np\n",
    "from bs4 import BeautifulSoup\n",
    "from collections import defaultdict\n",
    "import src.proc_data as procd\n",
    "from sklearn.preprocessing import OneHotEncoder\n",
    "from sklearn.preprocessing import LabelEncoder\n",
    "\"\"\"\n",
    "train_parse = np.zeros((df.values.shape[0], 5),dtype=object)\n",
    "\n",
    "for i in range(df['Page content'].values.shape[0]):\n",
    "    train_parse[i, 0], train_parse[i, 1], train_parse[i, 2],  train_parse[i, 3]\\\n",
    "            = procd.parse_html(df['Page content'][i])\n",
    "    train_parse[i, 4] = len(tokenizer_stem_nostop(train_parse[i, 1]))\n",
    "\n",
    "pd.DataFrame(data=train_parse, columns=['title', 'content', 'author', 'n_fig', 'n_words']).to_csv('train_parsed.csv')\n",
    "\n",
    "train_parse = np.zeros((df_test.values.shape[0], 5),dtype=object)\n",
    "\n",
    "for i in range(df_test['Page content'].values.shape[0]):\n",
    "    train_parse[i, 0], train_parse[i, 1], train_parse[i, 2],  train_parse[i, 3] \\\n",
    "            = procd.parse_html(df_test['Page content'][i])\n",
    "    train_parse[i, 4] = len(tokenizer_stem_nostop(train_parse[i, 1]))\n",
    "\n",
    "pd.DataFrame(data=train_parse, columns=['title', 'content', 'author','n_fig', 'n_words']).to_csv('test_parsed.csv')\n",
    "\"\"\""
   ]
  },
  {
   "cell_type": "code",
   "execution_count": 3,
   "metadata": {
    "collapsed": false
   },
   "outputs": [],
   "source": [
    "df = pd.read_csv('train_parsed.csv')\n",
    "df_test = pd.read_csv('test_parsed.csv')\n"
   ]
  },
  {
   "cell_type": "code",
   "execution_count": 3,
   "metadata": {
    "collapsed": false
   },
   "outputs": [
    {
     "name": "stdout",
     "output_type": "stream",
     "text": [
      "[nltk_data] Downloading package stopwords to /Users/AtSu/nltk_data...\n",
      "[nltk_data]   Package stopwords is already up-to-date!\n"
     ]
    }
   ],
   "source": [
    "import numpy as np\n",
    "import nltk\n",
    "from nltk.corpus import stopwords\n",
    "from nltk.stem.porter import PorterStemmer\n",
    "import re\n",
    "nltk.download('stopwords')\n",
    "stop = stopwords.words('english')\n",
    "\n",
    "def tokenizer_stem_nostop(text):\n",
    "    porter = PorterStemmer()\n",
    "    return [porter.stem(w) for w in re.split('\\s+', text.strip()) \\\n",
    "            if w not in stop and re.match('[a-zA-Z]+', w)]"
   ]
  },
  {
   "cell_type": "code",
   "execution_count": 17,
   "metadata": {
    "collapsed": false
   },
   "outputs": [
    {
     "name": "stdout",
     "output_type": "stream",
     "text": [
      "['i', 'me', 'my', 'myself', 'we', 'our', 'ours', 'ourselves', 'you', 'your', 'yours', 'yourself', 'yourselves', 'he', 'him', 'his', 'himself', 'she', 'her', 'hers', 'herself', 'it', 'its', 'itself', 'they', 'them', 'their', 'theirs', 'themselves', 'what', 'which', 'who', 'whom', 'this', 'that', 'these', 'those', 'am', 'is', 'are', 'was', 'were', 'be', 'been', 'being', 'have', 'has', 'had', 'having', 'do', 'does', 'did', 'doing', 'a', 'an', 'the', 'and', 'but', 'if', 'or', 'because', 'as', 'until', 'while', 'of', 'at', 'by', 'for', 'with', 'about', 'against', 'between', 'into', 'through', 'during', 'before', 'after', 'above', 'below', 'to', 'from', 'up', 'down', 'in', 'out', 'on', 'off', 'over', 'under', 'again', 'further', 'then', 'once', 'here', 'there', 'when', 'where', 'why', 'how', 'all', 'any', 'both', 'each', 'few', 'more', 'most', 'other', 'some', 'such', 'no', 'nor', 'not', 'only', 'own', 'same', 'so', 'than', 'too', 'very', 's', 't', 'can', 'will', 'just', 'don', 'should', 'now', 'd', 'll', 'm', 'o', 're', 've', 'y', 'ain', 'aren', 'couldn', 'didn', 'doesn', 'hadn', 'hasn', 'haven', 'isn', 'ma', 'mightn', 'mustn', 'needn', 'shan', 'shouldn', 'wasn', 'weren', 'won', 'wouldn']\n"
     ]
    }
   ],
   "source": [
    "p_data = df[df['Popularity'] > 0] \n",
    "n_data = df[df['Popularity'] < 0]\n",
    "\n",
    "tokenizer_stem_nostop('amazon microsoft women hahahaha')\n",
    "print(stop)"
   ]
  },
  {
   "cell_type": "code",
   "execution_count": 14,
   "metadata": {
    "collapsed": false
   },
   "outputs": [],
   "source": [
    "import itertools, operator\n",
    "\n",
    "def extract_term(top, tfidf):\n",
    "    feat = tfidf.get_feature_names()\n",
    "    idf = tfidf.idf_\n",
    "    idx = idf.argsort()\n",
    "    sorted_score = []\n",
    "    \n",
    "    for i in idx: sorted_score.append(idf[i])\n",
    "    sorted_smallest = list(zip(feat, sorted_score))\n",
    "    sorted_smallest = sorted(sorted_smallest, key=operator.itemgetter(1))\n",
    "    sorted_highest = sorted_smallest[::-1]\n",
    "    term = []\n",
    "    print('[vocabularies with smallest idf scores]')\n",
    "    for i in range(top):\n",
    "        #print('%s : %f' %(sorted_smallest[i][0], sorted_smallest[i][1]))\n",
    "        term.append(sorted_smallest[i][0])\n",
    "        \n",
    "    print('[vocabularies with height idf scores]')\n",
    "    for i in range(top):\n",
    "        #print('%s : %f' %(sorted_highest[i][0], sorted_highest[i][1]))\n",
    "        term.append(sorted_highest[i][0])\n",
    "    return term"
   ]
  },
  {
   "cell_type": "code",
   "execution_count": 15,
   "metadata": {
    "collapsed": false
   },
   "outputs": [
    {
     "name": "stdout",
     "output_type": "stream",
     "text": [
      "[vocabularies with smallest idf scores]\n",
      "[vocabularies with height idf scores]\n",
      "[vocabularies with smallest idf scores]\n",
      "[vocabularies with height idf scores]\n",
      "['i', 'me', 'my', 'myself', 'we', 'our', 'ours', 'ourselves', 'you', 'your', 'yours', 'yourself', 'yourselves', 'he', 'him', 'his', 'himself', 'she', 'her', 'hers', 'herself', 'it', 'its', 'itself', 'they', 'them', 'their', 'theirs', 'themselves', 'what', 'which', 'who', 'whom', 'this', 'that', 'these', 'those', 'am', 'is', 'are', 'was', 'were', 'be', 'been', 'being', 'have', 'has', 'had', 'having', 'do', 'does', 'did', 'doing', 'a', 'an', 'the', 'and', 'but', 'if', 'or', 'because', 'as', 'until', 'while', 'of', 'at', 'by', 'for', 'with', 'about', 'against', 'between', 'into', 'through', 'during', 'before', 'after', 'above', 'below', 'to', 'from', 'up', 'down', 'in', 'out', 'on', 'off', 'over', 'under', 'again', 'further', 'then', 'once', 'here', 'there', 'when', 'where', 'why', 'how', 'all', 'any', 'both', 'each', 'few', 'more', 'most', 'other', 'some', 'such', 'no', 'nor', 'not', 'only', 'own', 'same', 'so', 'than', 'too', 'very', 's', 't', 'can', 'will', 'just', 'don', 'should', 'now', 'd', 'll', 'm', 'o', 're', 've', 'y', 'ain', 'aren', 'couldn', 'didn', 'doesn', 'hadn', 'hasn', 'haven', 'isn', 'ma', 'mightn', 'mustn', 'needn', 'shan', 'shouldn', 'wasn', 'weren', 'won', 'wouldn', 'abil', 'abl', 'access', 'accord', 'account', 'across', 'act', 'action', 'activ', 'actual', 'ad', 'add', 'addit', 'address', 'advanc', 'advertis', 'age', 'agenc', 'ago', 'aim', 'air', 'allow', 'almost', 'along', 'alreadi', 'although', 'alway', 'amaz', 'america', 'american', 'among', 'amount', 'android', 'anim', 'announc', 'anoth', 'answer', 'anyon', 'anyth', 'app', 'youtub', 'young', 'york', 'yet', 'year', 'wrote', 'write', 'would', 'worth', 'world', 'work', 'word', 'wonder', 'women', 'without', 'within', 'window', 'win', 'wide', 'whose', 'whole', 'white', 'whether', 'went', 'well', 'week', 'wednesday', 'websit', 'web', 'wear', 'way', 'water', 'watch', 'war', 'want', 'wall', 'walk', 'wait', 'voic']\n"
     ]
    }
   ],
   "source": [
    "import scipy as sp\n",
    "from sklearn.feature_extraction.text import TfidfVectorizer\n",
    "from sklearn.linear_model import SGDClassifier\n",
    "import _pickle as pkl\n",
    "\n",
    "stop = stopwords.words('english')\n",
    "\n",
    "p = p_data['Page content']\n",
    "n = n_data['Page content']\n",
    "\n",
    "if not_fit:\n",
    "    tfidf = TfidfVectorizer(ngram_range=(1,1),\n",
    "                        #preprocessor=procd.parse_html,\n",
    "                        tokenizer=tokenizer_stem_nostop,\n",
    "                        max_features=2**10,\n",
    "                        max_df=0.6,\n",
    "                        min_df=0.05,\n",
    "                        sublinear_tf=True\n",
    "                        )\n",
    "    not_fit = False\n",
    "    tfidf_p = tfidf.fit(p)\n",
    "    pkl.dump(tfidf_p, open('tfidf_p.pkl', 'wb'))\n",
    "    tfidf_n = tfidf.fit(n)\n",
    "    pkl.dump(tfidf_n, open('tfidf_n.pkl', 'wb'))\n",
    "\n",
    "tfidf_p = pkl.load(open('tfidf_p.pkl', 'rb'))\n",
    "tfidf_n = pkl.load(open('tfidf_n.pkl', 'rb'))\n",
    "\n",
    "t_p = extract_term(40, tfidf_p)\n",
    "t_n = extract_term(40, tfidf_n)\n",
    "   \n",
    "extra_stop = []\n",
    "for t in t_p:\n",
    "    if t in t_n: extra_stop.append(t)\n",
    "stop += extra_stop\n",
    "\n",
    "print(stop)"
   ]
  },
  {
   "cell_type": "code",
   "execution_count": 166,
   "metadata": {
    "collapsed": false
   },
   "outputs": [
    {
     "name": "stdout",
     "output_type": "stream",
     "text": [
      "Finishing fitting TFIDF : 328.600646 s\n",
      "dimension: 512\n"
     ]
    }
   ],
   "source": [
    "from sklearn.preprocessing import StandardScaler\n",
    "from sklearn.preprocessing import MaxAbsScaler\n",
    "from sklearn.feature_extraction.text import TfidfVectorizer\n",
    "from time import time\n",
    "\n",
    "t0 = time()\n",
    "tfidf = TfidfVectorizer(ngram_range=(2,4),\n",
    "                        #preprocessor=procd.parse_html,\n",
    "                        tokenizer=tokenizer_stem_nostop,\n",
    "                        max_features=2**9,\n",
    "                        sublinear_tf=True\n",
    "                        )\n",
    "X_train = tfidf.fit_transform(df['Page content'])\n",
    "duration = time() - t0\n",
    "\n",
    "print('Finishing fitting TFIDF : %f s' %(duration))\n",
    "print('dimension: %d' %(X_train.shape[1]))\n",
    "#sc_x = MaxAbsScaler()\n",
    "#X_train = sc_x.fit_transform(X_train)\n",
    "y_train = df['Popularity']\n"
   ]
  },
  {
   "cell_type": "code",
   "execution_count": 167,
   "metadata": {
    "collapsed": false
   },
   "outputs": [
    {
     "name": "stdout",
     "output_type": "stream",
     "text": [
      "['accord new', 'accord report', 'across countri', 'across u', 'activ user', 'addit report', 'afp getti', 'afp getti imag', 'air forc', 'airlin flight', 'allow user', 'also help', 'also includ', 'also known', 'also offer', 'also publish', 'also said', 'also use', 'also work', 'android app', 'android devic', 'android wear', 'announc new', 'answer question', 'app also', 'app avail', 'app like', 'app store', 'app use', 'appl pay', 'appl tv', 'appl watch', 'around world', 'articl origin', 'articl origin publish', 'articl origin publish space', 'ask question', 'associ press', 'barack obama', 'batteri life', 'behind scene', 'best way', 'big data', 'black friday', 'black white', 'blog post', 'brand new', 'break bad', 'busi owner', 'carbon dioxid', 'career opportun', 'chang way', 'check video', 'chief execut', 'climat chang', 'co founder', 'come back', 'comic book', 'comic con', 'comment homepag', 'comment homepag imag', 'comment imag', 'comment imag courtesi', 'comment imag via', 'compani also', 'compani announc', 'compani like', 'compani said', 'composit imag', 'could also', 'could help', 'could make', 'could use', 'courtesi flickr', 'courtesi imgur', 'courtesi istockphoto', 'courtesi tumblr', 'courtesi youtub', 'creat new', 'credit card', 'custom servic', 'day day', 'declin comment', 'degre fahrenheit', 'digit market', 'digit media', 'digit world', 'e book', 'earlier month', 'earlier week', 'earlier year', 'eastern ukrain', 'editori intern', 'edward snowden', 'email address', 'even though', 'everi day', 'everi singl', 'everi time', 'everi year', 'execut produc', 'facebook home', 'facebook page', 'facebook twitter', 'famili member', 'feel like', 'find way', 'first day', 'first know', 'first place', 'first report', 'first time', 'five year', 'founder ceo', 'four year', 'friend famili', 'full time', 'galaxi note', 'galaxi s4', 'galaxi s5', 'game throne', 'get back', 'get better', 'get start', 'getti imag', 'getti imag articl', 'getti imag articl origin', 'give us', 'global warm', 'go back', 'good news', 'good summit', 'googl glass', 'googl hangout', 'googl map', 'googl play', 'grand juri', 'grumpi cat', 'health care', 'heart rate', 'help get', 'help peopl', 'help us', 'high end', 'high profil', 'high qualiti', 'high school', 'high tech', 'holiday season', 'homepag imag', 'homepag imag courtesi', 'hong kong', 'hous card', 'htc one', 'http co', 'human right', 'hundr thousand', 'hunger game', 'imag articl', 'imag articl origin', 'imag articl origin publish', 'imag courtesi', 'imag courtesi flickr', 'imag courtesi youtub', 'imag flickr', 'imag mashabl', 'imag mashabl christina', 'imag mashabl composit', 'imag via', 'imag via istockphoto', 'imag youtub', 'immedi respond', 'intern space', 'intern space station', 'io android', 'io app', 'io devic', 'ipad air', 'ipad mini', 'iphon app', 'iphon ipad', 'iphon iphon', 'iphon plu', 'islam state', 'jay z', 'jimmi fallon', 'job board', 'job search', 'job seeker', 'keep track', 'kickstart campaign', 'kindl fire', 'know comment', 'know comment imag', 'know happen', 'know think', 'la vega', 'last minut', 'last month', 'last night', 'last week', 'last year', 'late night', 'later year', 'launch new', 'law enforc', 'least one', 'let go', 'let us', 'let us know', 'let us know comment', 'let user', 'like facebook', 'like googl', 'like one', 'like see', 'littl bit', 'live room', 'live stream', 'lo angel', 'local time', 'long term', 'long time', 'look back', 'look forward', 'look like', 'lorenzofranceschi bicchierai', 'lot peopl', 'love one', 'make easi', 'make easier', 'make money', 'make sens', 'make sure', 'malaysia airlin', 'mani peopl', 'mark zuckerberg', 'mashabl christina', 'mashabl composit', 'mashabl composit imag', 'mashabl job', 'mashabl job board', 'messag app', 'michael brown', 'middl east', 'mile per', 'mile per hour', 'miley cyru', 'million dollar', 'million peopl', 'million user', 'million view', 'mobil app', 'mobil devic', 'mobil phone', 'monday night', 'month ago', 'moto x', 'much like', 'music video', 'nation secur', 'need know', 'net neutral', 'new app', 'new featur', 'new iphon', 'new jersey', 'new product', 'new studi', 'new way', 'new year', 'new york', 'new york citi', 'new york n', 'new york time', 'new yorker', 'new zealand', 'news feed', 'news report', 'next day', 'next gener', 'next month', 'next week', 'next year', 'non profit', 'north america', 'north carolina', 'north korea', 'north korean', 'obama said', 'oculu rift', 'offici said', 'one anoth', 'one best', 'one biggest', 'one day', 'one first', 'one one', 'one person', 'one point', 'one thing', 'one time', 'one two', 'one way', 'one year', 'ook ook', 'ook ook ook', 'ook ook ook ook', 'open sourc', 'oper system', 'origin publish', 'origin publish space', 'origin publish space com', 'os x', 'p et', 'past two', 'past year', 'peopl like', 'peopl use', 'peopl want', 'per day', 'per hour', 'per month', 'phone call', 'phone number', 'photo courtesi', 'photo post', 'photo via', 'photo video', 'pic twitter', 'pic twitter com', 'play game', 'polic depart', 'polic offic', 'pop cultur', 'pre order', 'presid barack', 'presid barack obama', 'presid obama', 'press confer', 'press releas', 'pretti much', 'prime minist', 'pro russian', 'publish space', 'publish space com', 'put togeth', 'rais million', 'real estat', 'real life', 'real time', 'real world', 'realli want', 'recent year', 'request comment', 'respond request', 'respond request comment', 'said compani', 'said statement', 'said would', 'samsung galaxi', 'san diego', 'san francisco', 'saturday night', 'sci fi', 'sea level', 'search engin', 'see also', 'seem like', 'servic provid', 'share thought', 'share thought comment', 'sierra leon', 'silicon valley', 'silk road', 'six month', 'small busi', 'smartphon tablet', 'social good', 'social good summit', 'social media', 'social network', 'solar system', 'someon els', 'someth like', 'sound like', 'south korea', 'space agenc', 'space com', 'space station', 'spend time', 'spokesperson told', 'st loui', 'star trek', 'star war', 'steve job', 'stream servic', 'street journal', 'street view', 'sunday night', 'super bowl', 'suprem court', 'surfac pro', 'take advantag', 'take look', 'take photo', 'take place', 'take time', 'taylor swift', 'tech compani', 'tell mashabl', 'tell stori', 'tell us', 'tell us comment', 'tell us comment imag', 'text messag', 'thing like', 'third parti', 'thought comment', 'thought comment imag', 'three day', 'three month', 'three year', 'thumbnail imag', 'thursday night', 'tim cook', 'time warner', 'time write', 'time year', 'told mashabl', 'took place', 'tri get', 'tri make', 'tuesday night', 'tv show', 'twitter account', 'twitter com', 'twitter facebook', 'twitter user', 'two day', 'two hour', 'two month', 'two week', 'two year', 'u govern', 'u n', 'unit nation', 'unit state', 'us comment', 'us comment imag', 'us know', 'us know comment', 'us know comment imag', 'use app', 'use facebook', 'use hashtag', 'use social', 'use social media', 'use twitter', 'user base', 'user experi', 'valentin day', 'via getti', 'via istockphoto', 'vice presid', 'video game', 'video show', 'video youtub', 'vine video', 'viral video', 'virtual realiti', 'vladimir putin', 'wall street', 'wall street journal', 'want get', 'want know', 'want make', 'want see', 'warner bro', 'washington c', 'washington post', 'watch video', 'way get', 'way make', 'wednesday night', 'week ago', 'well known', 'west africa', 'white hous', 'wi fi', 'wide rang', 'window phone', 'winter olymp', 'work togeth', 'work well', 'world cup', 'would like', 'would make', 'wrote blog', 'xbox one', 'year ago', 'year later', 'year old', 'year sinc', 'year year', 'yet anoth', 'york citi', 'york n', 'york time', 'young peopl', 'youtub channel', 'youtub video']\n"
     ]
    }
   ],
   "source": [
    "print(tfidf.get_feature_names())"
   ]
  },
  {
   "cell_type": "code",
   "execution_count": 124,
   "metadata": {
    "collapsed": false
   },
   "outputs": [
    {
     "name": "stdout",
     "output_type": "stream",
     "text": [
      "Finishing fitting HASH : 149.701819 s\n",
      "dimension: 512\n"
     ]
    }
   ],
   "source": [
    "from sklearn.feature_extraction.text import HashingVectorizer\n",
    "\n",
    "t0 = time()\n",
    "hashvec = HashingVectorizer(ngram_range=(3,4),\n",
    "                           tokenizer=tokenizer_stem_nostop,\n",
    "                           n_features=2**9)\n",
    "X_train = hashvec.transform(df['Page content'])\n",
    "duration = time() - t0\n",
    "print('Finishing fitting HASH : %f s' %(duration))\n",
    "print('dimension: %d' %(X_train.shape[1]))"
   ]
  },
  {
   "cell_type": "code",
   "execution_count": 190,
   "metadata": {
    "collapsed": false
   },
   "outputs": [
    {
     "name": "stdout",
     "output_type": "stream",
     "text": [
      "(27643, 1)\n",
      "(27643, 7)\n",
      "(27643, 7)\n"
     ]
    }
   ],
   "source": [
    "from scipy.sparse import hstack\n",
    "from sklearn.preprocessing import PolynomialFeatures\n",
    "train_weekday = pd.read_csv('train_weekday.csv').values\n",
    "train_time = pd.read_csv('train_time.csv').values\n",
    "#poly = PolynomialFeatures(degree=3)\n",
    "#train_weekday = poly.fit_transform(train_weekday)\n",
    "#train_time = poly.fit_transform(train_time)\n",
    "\n",
    "#X_train_aug = hstack([train_weekday, train_time])\n",
    "\n",
    "X_train_aug = np.concatenate((train_weekday, train_time), axis=1)\n",
    "#X_train_aug = train_weekday * train_time\n",
    "print(X_train_aug.shape)"
   ]
  },
  {
   "cell_type": "code",
   "execution_count": 24,
   "metadata": {
    "collapsed": false
   },
   "outputs": [
    {
     "name": "stdout",
     "output_type": "stream",
     "text": [
      "['i', 'me', 'my', 'myself', 'we', 'our', 'ours', 'ourselves', 'you', 'your', 'yours', 'yourself', 'yourselves', 'he', 'him', 'his', 'himself', 'she', 'her', 'hers', 'herself', 'it', 'its', 'itself', 'they', 'them', 'their', 'theirs', 'themselves', 'what', 'which', 'who', 'whom', 'this', 'that', 'these', 'those', 'am', 'is', 'are', 'was', 'were', 'be', 'been', 'being', 'have', 'has', 'had', 'having', 'do', 'does', 'did', 'doing', 'a', 'an', 'the', 'and', 'but', 'if', 'or', 'because', 'as', 'until', 'while', 'of', 'at', 'by', 'for', 'with', 'about', 'against', 'between', 'into', 'through', 'during', 'before', 'after', 'above', 'below', 'to', 'from', 'up', 'down', 'in', 'out', 'on', 'off', 'over', 'under', 'again', 'further', 'then', 'once', 'here', 'there', 'when', 'where', 'why', 'how', 'all', 'any', 'both', 'each', 'few', 'more', 'most', 'other', 'some', 'such', 'no', 'nor', 'not', 'only', 'own', 'same', 'so', 'than', 'too', 'very', 's', 't', 'can', 'will', 'just', 'don', 'should', 'now', 'd', 'll', 'm', 'o', 're', 've', 'y', 'ain', 'aren', 'couldn', 'didn', 'doesn', 'hadn', 'hasn', 'haven', 'isn', 'ma', 'mightn', 'mustn', 'needn', 'shan', 'shouldn', 'wasn', 'weren', 'won', 'wouldn']\n"
     ]
    }
   ],
   "source": [
    "def get_stream(path, size):\n",
    "    for chunk in pd.read_csv(path, chunksize=size):\n",
    "        yield chunk\n",
    "print(stop)"
   ]
  },
  {
   "cell_type": "code",
   "execution_count": 191,
   "metadata": {
    "collapsed": false
   },
   "outputs": [],
   "source": [
    "from sklearn.model_selection import train_test_split\n",
    "# hold out testing set\n",
    "y_train = df['Popularity']\n",
    "X_htrain, X_htest, y_htrain, y_htest = train_test_split(X_train_aug, y_train, test_size=0.3, random_state=0)\n"
   ]
  },
  {
   "cell_type": "code",
   "execution_count": 192,
   "metadata": {
    "collapsed": false
   },
   "outputs": [
    {
     "name": "stdout",
     "output_type": "stream",
     "text": [
      "SGD score (train): 0.542067, (test): 0.547932\n",
      "SGD score (train): 0.505581, (test): 0.509828\n",
      "SGD score (train): 0.540879, (test): 0.546485\n"
     ]
    }
   ],
   "source": [
    "from sklearn.model_selection import cross_val_score\n",
    "from sklearn.ensemble import AdaBoostClassifier\n",
    "from sklearn.linear_model import SGDClassifier\n",
    "from sklearn import metrics\n",
    "from sklearn.svm import LinearSVC\n",
    "\n",
    "\n",
    "\n",
    "SGD = SGDClassifier(alpha=0.001, average=False, class_weight=None, epsilon=0.1,\n",
    "       eta0=0.0, fit_intercept=True, l1_ratio=0.15,\n",
    "       learning_rate='optimal', loss='hinge', n_iter=50, n_jobs=1,\n",
    "       penalty='elasticnet', power_t=0.5, random_state=0, shuffle=True,\n",
    "       verbose=0, warm_start=False)\n",
    "SGD.fit(X_htrain, y_htrain)\n",
    "pred = SGD.predict(X_htrain)\n",
    "pred_t = SGD.predict(X_htest)\n",
    "\n",
    "score_train = metrics.accuracy_score(y_htrain, pred)\n",
    "score_test = metrics.accuracy_score(y_htest, pred_t)\n",
    "\n",
    "print(\"SGD score (train): %f, (test): %f\"%(score_train, score_test))\n",
    "ada = AdaBoostClassifier(base_estimator=SGD, algorithm='SAMME', n_estimators=10)\n",
    "ada = ada.fit(X_htrain, y_htrain)\n",
    "pred = ada.predict(X_htrain)\n",
    "pred_t = ada.predict(X_htest)\n",
    "\n",
    "score_train = metrics.accuracy_score(y_htrain, pred)\n",
    "score_test = metrics.accuracy_score(y_htest, pred_t)\n",
    "\n",
    "print(\"SGD score (train): %f, (test): %f\"%(score_train, score_test))\n",
    "\n",
    "SGD.fit(X_train_aug,y_train)\n",
    "pred = SGD.predict(X_htrain)\n",
    "pred_t = SGD.predict(X_htest)\n",
    "score_train = metrics.accuracy_score(y_htrain, pred)\n",
    "score_test = metrics.accuracy_score(y_htest, pred_t)\n",
    "print(\"SGD score (train): %f, (test): %f\"%(score_train, score_test))\n",
    "candidates = []\n",
    "candidates.append({'clf':SGD, 'C':1, 'score':score})\n"
   ]
  },
  {
   "cell_type": "code",
   "execution_count": 54,
   "metadata": {
    "collapsed": false
   },
   "outputs": [
    {
     "name": "stdout",
     "output_type": "stream",
     "text": [
      "(27643, 439)\n",
      "MNB score : 0.504793\n",
      "SGD score : 0.506855\n",
      "SGD score : 0.506855\n",
      "svc score : 0.571284\n",
      "lr score : 0.571284\n"
     ]
    },
    {
     "data": {
      "text/plain": [
       "\"\\nfor C in Cs:\\n    alpha = C / 1000.0\\n    clf = SGDClassifier(loss='hinge', alpha=alpha)\\n    #stream = get_stream(path='train.csv', size=batch_size)\\n    for i in range(iters):\\n        #batch = next(stream)\\n        #X_train, y_train = batch['Page content'], batch['Popularity']\\n        start = (i)*batch_size\\n        end = start + batch_size\\n        if end >= X_train.shape[0] : end = X_train.shape[0]\\n        \\n        batch_X = X_train[start:end]\\n        batch_y = y_train[start:end]\\n        if X_train is None:\\n            break\\n        #X_train = sc_x.transform(tfidf.transform(X_train))\\n        clf.partial_fit(batch_X, batch_y, classes=classes)\\n    \\n        score = clf.score(batch_X, batch_y)\\n        print('[{}/{}] {}'.format((i+1)*(batch_size), 27643, score))\\n    \\n    if score > best_score:\\n        print('bestscore(C=%f): %f' %(C, score))\\n        best_score = score\\n        candidates.append({'clf' : clf, 'C' : C, 'score' : score})\\n\""
      ]
     },
     "execution_count": 54,
     "metadata": {},
     "output_type": "execute_result"
    }
   ],
   "source": [
    "from sklearn.svm import SVC\n",
    "from sklearn.linear_model import SGDClassifier\n",
    "from sklearn.svm import LinearSVC\n",
    "from sklearn.feature_selection import SelectFromModel\n",
    "from sklearn.preprocessing import PolynomialFeatures\n",
    "from sklearn.pipeline import Pipeline\n",
    "from sklearn.naive_bayes import BernoulliNB, MultinomialNB\n",
    "from sklearn.linear_model import LogisticRegression\n",
    "\n",
    "y_train = df['Popularity']\n",
    "batch_size = 2000\n",
    "\n",
    "classes = np.array([-1, 1])\n",
    "iters = int((27643+batch_size-1)/(batch_size))\n",
    "Cs = [0.0001, 0.001, 0.01, 0.1, 0.5, 1.0, 2.0, 3.0, 5.0, 7.0, 10.0]\n",
    "\n",
    "best_score = 0\n",
    "candidates = []\n",
    "\"\"\"\n",
    "t0 = time()\n",
    "clf = SVC(max_iter=15000, random_state=0)\n",
    "clf.fit(X_train, df['Popularity'])\n",
    "candidates.append({'clf':clf, 'C':C, 'score':score})\n",
    "score = clf.score(X_train, df['Popularity'])\n",
    "print(score)\n",
    "candidates.append({'clf':clf, 'C':0.001, 'score':score})\n",
    "print('training duration : %f' %(time()-t0))\n",
    "\"\"\"\n",
    "\n",
    "selector = SelectFromModel(estimator=LinearSVC(dual=False, tol=1e-1))\n",
    "X_train_sel = selector.fit_transform(X_train, y_train)\n",
    "#X_train_sel = X_train\n",
    "#poly = PolynomialFeatures(degree=3)\n",
    "#X_train_poly = poly.fit_transform(X_train_sel.toarray())\n",
    "X_train_poly = X_train_sel\n",
    "#sc_x = StandardScaler(with_mean=False)\n",
    "#X_train_sel = sc_x.fit_transform(X_train_sel)\n",
    "print(X_train_sel.shape)\n",
    "clf = MultinomialNB(alpha=0.01)\n",
    "clf.fit(abs(X_train_sel), y_train)\n",
    "pred = clf.predict(X_train_sel)\n",
    "score = metrics.accuracy_score(y_train, pred)\n",
    "print(\"MNB score : %f\" %(score))\n",
    "candidates.append({'clf':clf, 'C':0, 'score':score})\n",
    "\n",
    "SGD = SGDClassifier(alpha=0.001, loss='hinge', penalty='l2')\n",
    "SGD.fit(X_train_sel, y_train)\n",
    "pred = SGD.predict(X_train_sel)\n",
    "score = metrics.accuracy_score(y_train, pred)\n",
    "print(\"SGD score : %f\" %(score))\n",
    "candidates.append({'clf':SGD, 'C':1, 'score':score})\n",
    "\n",
    "\n",
    "ELA = SGDClassifier(alpha=0.001, average=False, class_weight=None, epsilon=0.1,\n",
    "       eta0=0.0, fit_intercept=True, l1_ratio=0.15,\n",
    "       learning_rate='optimal', loss='hinge', n_iter=50, n_jobs=1,\n",
    "       penalty='elasticnet', power_t=0.5, random_state=None, shuffle=True,\n",
    "       verbose=0, warm_start=False)\n",
    "ELA.fit(X_train_sel, y_train)\n",
    "pred = ELA.predict(X_train_sel)\n",
    "score = metrics.accuracy_score(y_train, pred)\n",
    "print(\"SGD score : %f\" %(score))\n",
    "candidates.append({'clf':ELA, 'C':2, 'score':score})\n",
    "\n",
    "sv = LinearSVC(C=3.0, tol=0.00001, max_iter=10000)\n",
    "sv.fit(X_train_sel, y_train)\n",
    "pred = sv.predict(X_train_sel)\n",
    "\n",
    "score = metrics.accuracy_score(y_train, pred)\n",
    "print(\"svc score : %f\" %(score))\n",
    "candidates.append({'clf':sv, 'C':3, 'score':score})\n",
    "\n",
    "lr = LogisticRegression(C=0.1)\n",
    "lr.fit(X_train_sel, y_train)\n",
    "pred = lr.predict(X_train_sel)\n",
    "score = metrics.accuracy_score(y_train, pred)\n",
    "print(\"lr score : %f\" %(score))\n",
    "candidates.append({'clf':sv, 'C':4, 'score':score})\n",
    "\n",
    "\"\"\"\n",
    "for C in Cs:\n",
    "    clf = Pipeline([\n",
    "            ('feature_selection', SelectFromModel(estimator=LinearSVC(penalty='l1', dual=False, tol=1e-3))),\n",
    "            ('classification', LinearSVC(C=C))\n",
    "        ])\n",
    "    #clf = LinearSVC(C=C, dual=False, tol=0.00001, max_iter=2000)\n",
    "    clf.fit(X_train_sel, y_train)\n",
    "    pred = clf.predict(X_train_sel)\n",
    "\n",
    "    score = metrics.accuracy_score(y_train, pred)\n",
    "    print(\"C(%f):%f\"%(C,score))\n",
    "    candidates.append({'clf':clf, 'C':C, 'score':score})\n",
    "\"\"\"\n",
    "\"\"\"\n",
    "for C in Cs:\n",
    "    alpha = C / 1000.0\n",
    "    clf = SGDClassifier(loss='hinge', alpha=alpha)\n",
    "    #stream = get_stream(path='train.csv', size=batch_size)\n",
    "    for i in range(iters):\n",
    "        #batch = next(stream)\n",
    "        #X_train, y_train = batch['Page content'], batch['Popularity']\n",
    "        start = (i)*batch_size\n",
    "        end = start + batch_size\n",
    "        if end >= X_train.shape[0] : end = X_train.shape[0]\n",
    "        \n",
    "        batch_X = X_train[start:end]\n",
    "        batch_y = y_train[start:end]\n",
    "        if X_train is None:\n",
    "            break\n",
    "        #X_train = sc_x.transform(tfidf.transform(X_train))\n",
    "        clf.partial_fit(batch_X, batch_y, classes=classes)\n",
    "    \n",
    "        score = clf.score(batch_X, batch_y)\n",
    "        print('[{}/{}] {}'.format((i+1)*(batch_size), 27643, score))\n",
    "    \n",
    "    if score > best_score:\n",
    "        print('bestscore(C=%f): %f' %(C, score))\n",
    "        best_score = score\n",
    "        candidates.append({'clf' : clf, 'C' : C, 'score' : score})\n",
    "\"\"\""
   ]
  },
  {
   "cell_type": "code",
   "execution_count": 77,
   "metadata": {
    "collapsed": false
   },
   "outputs": [
    {
     "name": "stdout",
     "output_type": "stream",
     "text": [
      "[False False False ...,  True  True  True]\n",
      "439\n"
     ]
    }
   ],
   "source": [
    "print(selector.get_support())\n",
    "c = 0\n",
    "for i in selector.get_support():\n",
    "    if i == True: c += 1\n",
    "print(c)"
   ]
  },
  {
   "cell_type": "code",
   "execution_count": 143,
   "metadata": {
    "collapsed": false
   },
   "outputs": [
    {
     "name": "stdout",
     "output_type": "stream",
     "text": [
      "Finishing fitting test TFIDF : 61.200763 s\n"
     ]
    }
   ],
   "source": [
    "t0 = time()\n",
    "X_test = tfidf.transform(df_test['Page content'])\n",
    "duration = time() - t0\n",
    "\n",
    "print('Finishing fitting test TFIDF : %f s' %(duration))\n",
    "#X_test = sc_x.transform(X_test)"
   ]
  },
  {
   "cell_type": "code",
   "execution_count": 129,
   "metadata": {
    "collapsed": false
   },
   "outputs": [
    {
     "name": "stdout",
     "output_type": "stream",
     "text": [
      "Finishing fitting test Hashvec : 64.255826 s\n"
     ]
    }
   ],
   "source": [
    "t0 = time()\n",
    "X_test = hashvec.transform(df_test['Page content'])\n",
    "duration = time() - t0\n",
    "print('Finishing fitting test Hashvec : %f s' %(duration))\n"
   ]
  },
  {
   "cell_type": "code",
   "execution_count": 193,
   "metadata": {
    "collapsed": false
   },
   "outputs": [
    {
     "name": "stdout",
     "output_type": "stream",
     "text": [
      "(11847, 7)\n"
     ]
    }
   ],
   "source": [
    "test_weekday = pd.read_csv('test_weekday.csv').values\n",
    "test_time = pd.read_csv('test_time.csv').values\n",
    "\n",
    "#X_test_con = hstack([X_test, test_weekday, test_time])\n",
    "X_test_con = np.concatenate((test_weekday, test_time), axis=1)\n",
    "#X_test_con = test_weekday * test_time\n",
    "print(X_test_con.shape)\n",
    "#X_test_std = sc_x.fit_transform(X_test_con)"
   ]
  },
  {
   "cell_type": "code",
   "execution_count": 194,
   "metadata": {
    "collapsed": false
   },
   "outputs": [],
   "source": [
    "\n",
    "for cand in candidates:\n",
    "    predict = cand['clf'].predict(X_test_con)\n",
    "    output = np.zeros((X_test_con.shape[0], 2), dtype=int)\n",
    "    output[:, 0] = df_test['Id']\n",
    "    output[:, 1] = predict\n",
    "    df_output = pd.DataFrame(data=output, columns=['Id', 'Popularity'])\n",
    "    df_output.to_csv('test%f.csv' % (cand['C']), index=False)"
   ]
  },
  {
   "cell_type": "code",
   "execution_count": null,
   "metadata": {
    "collapsed": true
   },
   "outputs": [],
   "source": []
  }
 ],
 "metadata": {
  "anaconda-cloud": {},
  "kernelspec": {
   "display_name": "Python [conda env:ML_ENV]",
   "language": "python",
   "name": "conda-env-ML_ENV-py"
  },
  "language_info": {
   "codemirror_mode": {
    "name": "ipython",
    "version": 3
   },
   "file_extension": ".py",
   "mimetype": "text/x-python",
   "name": "python",
   "nbconvert_exporter": "python",
   "pygments_lexer": "ipython3",
   "version": "3.4.5"
  }
 },
 "nbformat": 4,
 "nbformat_minor": 1
}
