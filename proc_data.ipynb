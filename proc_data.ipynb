{
 "cells": [
  {
   "cell_type": "code",
   "execution_count": 4,
   "metadata": {
    "collapsed": false
   },
   "outputs": [],
   "source": [
    "import pandas as pd\n",
    "\n",
    "df = pd.read_csv('train.csv')\n",
    "df_test = pd.read_csv('test.csv')\n",
    "\n",
    "not_fit = True\n",
    "\n"
   ]
  },
  {
   "cell_type": "code",
   "execution_count": 6,
   "metadata": {
    "collapsed": false
   },
   "outputs": [],
   "source": [
    "\"\"\"\n",
    "train_nlow = np.zeros((df['Page content'].values.shape[0], 4), dtype=object)\n",
    "test_nlow = np.zeros((df_test['Page content'].values.shape[0], 4), dtype=object)\n",
    "\n",
    "for i in range(df['Page content'].values.shape[0]):\n",
    "    title, text, author, nf = procd.parse_html(df['Page content'][i], tolower=False)\n",
    "    train_nlow[i, 0] = df['Id'][i]\n",
    "    train_nlow[i, 1] = df['Popularity'][i]\n",
    "    train_nlow[i, 2] = title\n",
    "    train_nlow[i, 3] = text\n",
    "\n",
    "for i in range(df_test['Page content'].values.shape[0]):\n",
    "    title, text, author, nf = procd.parse_html(df_test['Page content'][i], tolower=False)\n",
    "    test_nlow[i, 0] = df['Id'][i]\n",
    "    test_nlow[i, 1] = df['Popularity'][i]\n",
    "    test_nlow[i, 2] = title\n",
    "    test_nlow[i, 3] = text\n",
    "\n",
    "pd.DataFrame(data=train_nlow, columns=['Id', 'Popularity', 'title', 'content']).to_csv('train_parse_ncase.csv', index=False)\n",
    "pd.DataFrame(data=test_nlow, columns=['Id', 'Popularity', 'title', 'content']).to_csv('test_parse_ncase.csv', index=False)\n",
    "\"\"\""
   ]
  },
  {
   "cell_type": "code",
   "execution_count": 1,
   "metadata": {
    "collapsed": false
   },
   "outputs": [
    {
     "name": "stdout",
     "output_type": "stream",
     "text": [
      "[nltk_data] Downloading package stopwords to /home/cgv03/nltk_data...\n",
      "[nltk_data]   Package stopwords is already up-to-date!\n"
     ]
    }
   ],
   "source": [
    "import numpy as np\n",
    "import nltk\n",
    "from nltk.corpus import stopwords\n",
    "from nltk.stem.porter import PorterStemmer\n",
    "import re\n",
    "nltk.download('stopwords')\n",
    "stop = stopwords.words('english')\n",
    "\n",
    "def tokenizer_stem_nostop(text):\n",
    "    porter = PorterStemmer()\n",
    "    return [porter.stem(w) for w in re.split('\\s+', text.strip()) \\\n",
    "            if w not in stop and re.match('[a-zA-Z]+', w)]"
   ]
  },
  {
   "cell_type": "code",
   "execution_count": 2,
   "metadata": {
    "collapsed": false
   },
   "outputs": [
    {
     "data": {
      "text/plain": [
       "\"\\ntrain_parse = np.zeros((df.values.shape[0], 5),dtype=object)\\n\\nfor i in range(df['Page content'].values.shape[0]):\\n#for i in range(5):\\n\\n    train_parse[i, 0], train_parse[i, 1], train_parse[i, 2],  train_parse[i, 3]            = procd.parse_html(df['Page content'][i])\\n    train_parse[i, 4] = len(tokenizer_stem_nostop(train_parse[i, 1]))\\n\\npd.DataFrame(data=train_parse, columns=['title', 'content', 'author', 'n_fig', 'n_words']).to_csv('train_b_parsed.csv')\\n\\ntrain_parse = np.zeros((df_test.values.shape[0], 5),dtype=object)\\n\\n#for i in range(5):\\n\\nfor i in range(df_test['Page content'].values.shape[0]):\\n    train_parse[i, 0], train_parse[i, 1], train_parse[i, 2],  train_parse[i, 3]             = procd.parse_html(df_test['Page content'][i])\\n    train_parse[i, 4] = len(tokenizer_stem_nostop(train_parse[i, 1]))\\n\\npd.DataFrame(data=train_parse, columns=['title', 'content', 'author','n_fig', 'n_words']).to_csv('test_b_parsed.csv')\\n\""
      ]
     },
     "execution_count": 2,
     "metadata": {},
     "output_type": "execute_result"
    }
   ],
   "source": [
    "import numpy as np\n",
    "from bs4 import BeautifulSoup\n",
    "from collections import defaultdict\n",
    "import src.proc_data as procd\n",
    "from sklearn.preprocessing import OneHotEncoder\n",
    "from sklearn.preprocessing import LabelEncoder\n",
    "\"\"\"\n",
    "train_channel = np.zeros((df.values.shape[0], 4), dtype=object)\n",
    "test_channel = np.zeros((df_test.values.shape[0], 4), dtype=object)\n",
    "columns = ['entertainment', 'world', 'social-media', 'tech']\n",
    "\n",
    "\n",
    "for i in range(df['Page content'].values.shape[0]):\n",
    "    channel = procd.parse_channel(df['Page content'][i])\n",
    "    if channel in columns:\n",
    "        train_channel[i, columns.index(channel)] = 1\n",
    "\n",
    "pd.DataFrame(data=train_channel, columns=columns).to_csv('train_channel.csv', index=False)\n",
    "        \n",
    "for i in range(df_test['Page content'].values.shape[0]):\n",
    "    channel = procd.parse_channel(df_test['Page content'][i])\n",
    "    if channel in columns:\n",
    "        test_channel[i, columns.index(channel)] = 1\n",
    "        \n",
    "pd.DataFrame(data=test_channel, columns=columns).to_csv('test_channel.csv', index=False)\n",
    "\"\"\"\n",
    "\"\"\"\n",
    "train_parse = np.zeros((df.values.shape[0], 5),dtype=object)\n",
    "\n",
    "for i in range(df['Page content'].values.shape[0]):\n",
    "#for i in range(5):\n",
    "\n",
    "    train_parse[i, 0], train_parse[i, 1], train_parse[i, 2],  train_parse[i, 3]\\\n",
    "            = procd.parse_html(df['Page content'][i])\n",
    "    train_parse[i, 4] = len(tokenizer_stem_nostop(train_parse[i, 1]))\n",
    "\n",
    "pd.DataFrame(data=train_parse, columns=['title', 'content', 'author', 'n_fig', 'n_words']).to_csv('train_b_parsed.csv')\n",
    "\n",
    "train_parse = np.zeros((df_test.values.shape[0], 5),dtype=object)\n",
    "\n",
    "#for i in range(5):\n",
    "\n",
    "for i in range(df_test['Page content'].values.shape[0]):\n",
    "    train_parse[i, 0], train_parse[i, 1], train_parse[i, 2],  train_parse[i, 3] \\\n",
    "            = procd.parse_html(df_test['Page content'][i])\n",
    "    train_parse[i, 4] = len(tokenizer_stem_nostop(train_parse[i, 1]))\n",
    "\n",
    "pd.DataFrame(data=train_parse, columns=['title', 'content', 'author','n_fig', 'n_words']).to_csv('test_b_parsed.csv')\n",
    "\"\"\""
   ]
  },
  {
   "cell_type": "code",
   "execution_count": 23,
   "metadata": {
    "collapsed": false
   },
   "outputs": [
    {
     "name": "stdout",
     "output_type": "stream",
     "text": [
      "AmandaWills\n"
     ]
    }
   ],
   "source": [
    "df = pd.read_csv('train_parsed.csv')\n",
    "df_test = pd.read_csv('test_parsed.csv')\n",
    "print(df['author'][10])"
   ]
  },
  {
   "cell_type": "code",
   "execution_count": 26,
   "metadata": {
    "collapsed": false
   },
   "outputs": [
    {
     "name": "stdout",
     "output_type": "stream",
     "text": [
      "Topic #0:\n",
      "game video show twitter tv microsoft new user get play song robot deal throne final\n",
      "Topic #1:\n",
      "launch turn take fan vine still cat plan twitter travel record everi hous bill network\n",
      "Topic #2:\n",
      "appl iphon app come watch samsung new thing phone amazon android ipad free io best\n",
      "Topic #3:\n",
      "year top week man old next music dead announc dog video stop made right christma\n",
      "Topic #4:\n",
      "googl know need u one news want mobil glass kid obama give app design data\n",
      "Topic #5:\n",
      "new time life make internet trailer york movi real break bring develop add updat offic\n",
      "Topic #6:\n",
      "media way social tech job chang startup busi protest love open market see american high\n",
      "Topic #7:\n",
      "world facebook ad like report use say get look million may digit cup app appl\n",
      "Topic #8:\n",
      "photo star day onlin tweet could war space power kill celebr season new win ever\n",
      "Topic #9:\n",
      "help smartphon peopl youtub live home hit instagram creat work billion pro watch back put\n",
      "\n"
     ]
    }
   ],
   "source": [
    "from sklearn.feature_extraction.text import CountVectorizer\n",
    "from sklearn.decomposition import LatentDirichletAllocation\n",
    "\n",
    "def print_top_words(model, feature_names, n_top_words):\n",
    "    for topic_idx, topic in enumerate(model.components_):\n",
    "        print(\"Topic #%d:\" % topic_idx)\n",
    "        print(\" \".join([feature_names[i]\n",
    "                        for i in topic.argsort()[:-n_top_words - 1:-1]]))\n",
    "    print()\n",
    "    \n",
    "n_topics = 10\n",
    "n_top_words = 15\n",
    "n_features = 2**20\n",
    "tf_vectorizer = CountVectorizer(max_df=0.95, min_df=2,\n",
    "                                max_features=n_features,\n",
    "                                tokenizer=tokenizer_stem_nostop)\n",
    "tf = tf_vectorizer.fit_transform(df['title'])\n",
    "\n",
    "lda = LatentDirichletAllocation(n_topics=n_topics, max_iter=5,\n",
    "                                learning_method='online',\n",
    "                                learning_offset=50.,\n",
    "                                random_state=0)\n",
    "topic_tf = lda.fit_transform(tf)\n",
    "tf_feature_names = tf_vectorizer.get_feature_names()\n",
    "print_top_words(lda, tf_feature_names, n_top_words)\n"
   ]
  },
  {
   "cell_type": "code",
   "execution_count": 61,
   "metadata": {
    "collapsed": true
   },
   "outputs": [],
   "source": [
    "from sklearn.feature_extraction.text import TfidfVectorizer\n",
    "\n",
    "tfdoc = TfidfVectorizer(max_features=2**20, tokenizer=tokenizer_stem_nostop)\n",
    "tfdoc.fit(df['content'])\n",
    "doc = tfdoc.transform(df['content'])\n",
    "\n",
    "tfaut = TfidfVectorizer(max_features=2**10)\n",
    "author = tfaut.fit_transform(df['author'])\n"
   ]
  },
  {
   "cell_type": "code",
   "execution_count": 24,
   "metadata": {
    "collapsed": false
   },
   "outputs": [
    {
     "name": "stdout",
     "output_type": "stream",
     "text": [
      "[nltk_data] Downloading package averaged_perceptron_tagger to\n",
      "[nltk_data]     /home/cgv03/nltk_data...\n",
      "[nltk_data]   Package averaged_perceptron_tagger is already up-to-\n",
      "[nltk_data]       date!\n",
      "[nltk_data] Downloading package maxent_ne_chunker to\n",
      "[nltk_data]     /home/cgv03/nltk_data...\n",
      "[nltk_data]   Package maxent_ne_chunker is already up-to-date!\n",
      "[nltk_data] Downloading package words to /home/cgv03/nltk_data...\n",
      "[nltk_data]   Package words is already up-to-date!\n",
      "[nltk_data] Downloading package punkt to /home/cgv03/nltk_data...\n",
      "[nltk_data]   Package punkt is already up-to-date!\n"
     ]
    },
    {
     "data": {
      "text/plain": [
       "\"\\ntag_types = ['FACILITY', 'GPE', 'GSP', 'LOCATION', 'ORGANIZATION', 'PERSON']\\n\\ndf_ncase = pd.read_csv('train_parse_ncase.csv')['content'].values\\ndt_ncase = pd.read_csv('test_parse_ncase.csv')['content'].values\\n\\ntrain_ner = np.zeros((df_ncase.shape[0], 6 * 2), dtype=int)\\ntest_ner  = np.zeros((dt_ncase.shape[0], 6 * 2), dtype=int)\\n\\nfor i in range(df_ncase.shape[0]):\\n    tokens = nltk.word_tokenize(df_ncase[i])\\n    tags = nltk.pos_tag(tokens)\\n    chunks = nltk.ne_chunk(tags)\\n    if i % 500 == 0:\\n        print('analyzing %d' %(i))\\n    for x in chunks:\\n        if isinstance(x, Tree):\\n            label = x.label()\\n            idx = tag_types.index(label)\\n            train_ner[i, idx] = 1\\n            train_ner[i, idx+6] += 1\\n\\npd.DataFrame(data=train_ner, columns=['has_FACILITY', 'has_GPE', 'has_GSP', 'has_LOCATION', \\n                                      'has_ORGANIZATION', 'has_PERSON','FACILITY', 'GPE', \\n                                      'GSP', 'LOCATION', 'ORGANIZATION', 'PERSON']).to_csv('train_ner.csv',index=False)\\n            \\nfor i in range(dt_ncase.shape[0]):\\n    tokens = nltk.word_tokenize(dt_ncase[i])\\n    tags = nltk.pos_tag(tokens)\\n    chunks = nltk.ne_chunk(tags)\\n    for x in chunks:\\n        if isinstance(x, Tree):\\n            label = x.label()\\n            idx = tag_types.index(label)\\n            test_ner[i, idx] = 1\\n            test_ner[i, idx+6] += 1\\npd.DataFrame(data=test_ner, columns=['has_FACILITY', 'has_GPE', 'has_GSP', 'has_LOCATION', \\n                                      'has_ORGANIZATION', 'has_PERSON','FACILITY', 'GPE', \\n                                      'GSP', 'LOCATION', 'ORGANIZATION', 'PERSON']).to_csv('test_ner.csv',index=False)\\n\""
      ]
     },
     "execution_count": 24,
     "metadata": {},
     "output_type": "execute_result"
    }
   ],
   "source": [
    "from nltk.tree import Tree\n",
    "nltk.download('averaged_perceptron_tagger')\n",
    "nltk.download('maxent_ne_chunker')\n",
    "nltk.download('words')\n",
    "nltk.download('punkt')\n",
    "\"\"\"\n",
    "tag_types = ['FACILITY', 'GPE', 'GSP', 'LOCATION', 'ORGANIZATION', 'PERSON']\n",
    "\n",
    "df_ncase = pd.read_csv('train_parse_ncase.csv')['content'].values\n",
    "dt_ncase = pd.read_csv('test_parse_ncase.csv')['content'].values\n",
    "\n",
    "train_ner = np.zeros((df_ncase.shape[0], 6 * 2), dtype=int)\n",
    "test_ner  = np.zeros((dt_ncase.shape[0], 6 * 2), dtype=int)\n",
    "\n",
    "for i in range(df_ncase.shape[0]):\n",
    "    tokens = nltk.word_tokenize(df_ncase[i])\n",
    "    tags = nltk.pos_tag(tokens)\n",
    "    chunks = nltk.ne_chunk(tags)\n",
    "    if i % 500 == 0:\n",
    "        print('analyzing %d' %(i))\n",
    "    for x in chunks:\n",
    "        if isinstance(x, Tree):\n",
    "            label = x.label()\n",
    "            idx = tag_types.index(label)\n",
    "            train_ner[i, idx] = 1\n",
    "            train_ner[i, idx+6] += 1\n",
    "\n",
    "pd.DataFrame(data=train_ner, columns=['has_FACILITY', 'has_GPE', 'has_GSP', 'has_LOCATION', \n",
    "                                      'has_ORGANIZATION', 'has_PERSON','FACILITY', 'GPE', \n",
    "                                      'GSP', 'LOCATION', 'ORGANIZATION', 'PERSON']).to_csv('train_ner.csv',index=False)\n",
    "            \n",
    "for i in range(dt_ncase.shape[0]):\n",
    "    tokens = nltk.word_tokenize(dt_ncase[i])\n",
    "    tags = nltk.pos_tag(tokens)\n",
    "    chunks = nltk.ne_chunk(tags)\n",
    "    for x in chunks:\n",
    "        if isinstance(x, Tree):\n",
    "            label = x.label()\n",
    "            idx = tag_types.index(label)\n",
    "            test_ner[i, idx] = 1\n",
    "            test_ner[i, idx+6] += 1\n",
    "pd.DataFrame(data=test_ner, columns=['has_FACILITY', 'has_GPE', 'has_GSP', 'has_LOCATION', \n",
    "                                      'has_ORGANIZATION', 'has_PERSON','FACILITY', 'GPE', \n",
    "                                      'GSP', 'LOCATION', 'ORGANIZATION', 'PERSON']).to_csv('test_ner.csv',index=False)\n",
    "\"\"\""
   ]
  },
  {
   "cell_type": "code",
   "execution_count": 244,
   "metadata": {
    "collapsed": false
   },
   "outputs": [],
   "source": [
    "from sklearn.feature_selection import SelectKBest, chi2\n",
    "\n",
    "ch2 = SelectKBest(chi2, k=150)\n",
    "doc_x = ch2.fit_transform(doc, y_train)\n",
    "\n",
    "cha2 = SelectKBest(chi2, k=10)\n",
    "aut_x = cha2.fit_transform(author, y_train)"
   ]
  },
  {
   "cell_type": "code",
   "execution_count": 63,
   "metadata": {
    "collapsed": true
   },
   "outputs": [],
   "source": [
    "p_data = df['Popularity'] > 0\n",
    "n_data = df['Popularity'] < 0"
   ]
  },
  {
   "cell_type": "code",
   "execution_count": 27,
   "metadata": {
    "collapsed": false
   },
   "outputs": [],
   "source": [
    "n_twords = np.zeros((df['title'].shape[0], 1), dtype=int)\n",
    "n_twords_test = np.zeros((df_test['title'].shape[0], 1), dtype=int)\n",
    "for i in range(n_twords.shape[0]):\n",
    "    n_twords[i] = len(tokenizer_stem_nostop(df['title'][i]))\n",
    "for i in range(n_twords_test.shape[0]):\n",
    "    n_twords_test[i] = len(tokenizer_stem_nostop(df_test['title'][i]))"
   ]
  },
  {
   "cell_type": "code",
   "execution_count": 28,
   "metadata": {
    "collapsed": true
   },
   "outputs": [],
   "source": [
    "def mix(a, b):\n",
    "    r = a.shape[1]\n",
    "    k = b.shape[1]\n",
    "    temp = None\n",
    "    for i in range(r):\n",
    "        for j in range(k):\n",
    "            if temp: temp = a[:, i].reshape(-1,1) * b[:,j].reshape(-1,1)\n",
    "            else: temp = np.concatenate((temp, a[:, i].reshape(-1,1) * b[:,j].reshape(-1,1)), axis=1)\n",
    "    \n",
    "    return temp"
   ]
  },
  {
   "cell_type": "code",
   "execution_count": 290,
   "metadata": {
    "collapsed": false
   },
   "outputs": [],
   "source": [
    "from scipy.sparse import hstack\n",
    "from sklearn.preprocessing import PolynomialFeatures\n",
    "from sklearn.preprocessing import StandardScaler\n",
    "sc = StandardScaler()\n",
    "\n",
    "poly_stdn = PolynomialFeatures(degree=2)\n",
    "poly_cont = PolynomialFeatures(degree=2)\n",
    "poly_mixd = PolynomialFeatures(degree=2)\n",
    "train_weekday = pd.read_csv('train_weekday.csv').values\n",
    "train_time = pd.read_csv('train_time.csv').values\n",
    "train_channel = pd.read_csv('train_channel.csv').values\n",
    "train_polarity = pd.read_csv('train_polarity.csv').values\n",
    "train_links = pd.read_csv('train_links.csv').values\n",
    "train_keypop = pd.read_csv('train_keypop.csv').values\n",
    "train_ner = pd.read_csv('train_ner.csv').values\n",
    "train_ner = train_ner[:, 6:]\n",
    "train_nwords = df['n_words'].values.reshape(-1,1)\n",
    "train_nfig = df['n_fig'].values.reshape(-1,1)\n",
    "\n",
    "time_feats = np.concatenate((train_time, train_weekday), axis=1)\n",
    "cont_feats = np.concatenate((train_polarity, topic_tf, train_channel), axis=1)\n",
    "stdn_feats = np.concatenate((n_twords, train_nwords, train_links, train_keypop, train_ner), axis=1)\n",
    "#mixd_feats = np.concatenate((train_time * tra, train_keypop, train_polarity), axis=1)\n",
    "stdn_feats = sc.fit_transform(stdn_feats)\n",
    "stdn_feats = poly_stdn.fit_transform(stdn_feats)[:,1:]\n",
    "cont_feats = poly_cont.fit_transform(cont_feats)[:,1:]\n",
    "\n",
    "X_train_aug = np.concatenate((time_feats, cont_feats, stdn_feats, doc_x.todense()), axis=1)\n",
    "\n",
    "#X_train_aug = sc.fit_transform(X_train_aug)"
   ]
  },
  {
   "cell_type": "code",
   "execution_count": 291,
   "metadata": {
    "collapsed": false
   },
   "outputs": [
    {
     "name": "stdout",
     "output_type": "stream",
     "text": [
      "(27643, 424)\n"
     ]
    }
   ],
   "source": [
    "from sklearn.model_selection import train_test_split\n",
    "# hold out testing set\n",
    "y_train = df['Popularity']\n",
    "X_htrain, X_htest, y_htrain, y_htest = train_test_split(X_train_aug, y_train, test_size=0.3, random_state=0)\n",
    "\n",
    "print(X_train_aug.shape)"
   ]
  },
  {
   "cell_type": "code",
   "execution_count": 292,
   "metadata": {
    "collapsed": false
   },
   "outputs": [],
   "source": [
    "def report(results, n_top=3):\n",
    "    for i in range(1, n_top + 1):\n",
    "        candidates = np.flatnonzero(results['rank_test_score'] == i)\n",
    "        for candidate in candidates:\n",
    "            print(\"Model with rank: {0}\".format(i))\n",
    "            print(\"Mean validation score: {0:.3f} (std: {1:.3f})\".format(\n",
    "                  results['mean_test_score'][candidate],\n",
    "                  results['std_test_score'][candidate]))\n",
    "            print(\"Parameters: {0}\".format(results['params'][candidate]))\n",
    "            print(\"\")\n"
   ]
  },
  {
   "cell_type": "code",
   "execution_count": 316,
   "metadata": {
    "collapsed": false
   },
   "outputs": [
    {
     "name": "stdout",
     "output_type": "stream",
     "text": [
      "LR score (train): 0.559638, (test): 0.554444\n",
      "LR score CV: 0.550012\n",
      "LR score (train): 0.559997, (test): 0.561799\n"
     ]
    },
    {
     "data": {
      "text/plain": [
       "'\\nbag = BaggingClassifier(base_estimator=lr, n_estimators=100, max_samples=0.5, max_features=0.5,\\n                        oob_score=True, random_state=0, n_jobs=3)\\n\\nscore = cross_val_score(bag, X_train_aug, y_train, cv=10)\\n\\n\\n# best case here\\nprint(\"voter score (CV): %f\"%(score.mean()))\\nbag.fit(X_train_aug, y_train)\\npred = bag.predict(X_train_aug)\\npred_t = bag.predict(X_htest)\\nscore_train = metrics.accuracy_score(y_train, pred)\\nscore_test = metrics.accuracy_score(y_htest, pred_t)\\n\\n# best case here\\nprint(\"voter score (train): %f, (test): %f\"%(score_train, score_test))\\ncandidates.append({\\'clf\\': bag, \\'C\\':1.0, \\'score\\':0.561196})\\n'"
      ]
     },
     "execution_count": 316,
     "metadata": {},
     "output_type": "execute_result"
    }
   ],
   "source": [
    "from sklearn.model_selection import cross_val_score\n",
    "from sklearn.ensemble import AdaBoostClassifier\n",
    "from sklearn.linear_model import SGDClassifier\n",
    "from sklearn import metrics\n",
    "from sklearn.svm import LinearSVC\n",
    "from sklearn.linear_model import LogisticRegression\n",
    "from sklearn.ensemble import BaggingClassifier\n",
    "from sklearn.ensemble import RandomForestClassifier\n",
    "from sklearn.naive_bayes import GaussianNB\n",
    "from sklearn.model_selection import GridSearchCV\n",
    "from time import time\n",
    "from sklearn.neural_network import MLPClassifier\n",
    "#param_c = { 'C': [0.001, 0.005, 0.01, 0.03, 0.05, 0.07, 0.1, 0.25, 0.5, 0.7, 1.0, 3.0, 10.0, 100.0, 200.0, 1000, 1000.0]}\n",
    "#grid_search = GridSearchCV(LogisticRegression(random_state=0), param_grid=param_c)\n",
    "#start = time()\n",
    "#grid_search.fit(X_train_aug, y_train)\n",
    "\n",
    "#print(\"GridSearchCV took %.2f seconds for %d candidate parameter settings.\"\n",
    "#      % (time() - start, len(grid_search.cv_results_['params'])))\n",
    "#report(grid_search.cv_results_)\n",
    "\n",
    "\n",
    "candidates = []\n",
    "\n",
    "# former best 0.06\n",
    "lr = LogisticRegression(C=0.06, random_state=0)\n",
    "#lr = MLPClassifier()\n",
    "\n",
    "#lr = GaussianNB()\n",
    "\n",
    "lr.fit(X_htrain, y_htrain)\n",
    "\n",
    "pred = lr.predict(X_htrain)\n",
    "pred_t = lr.predict(X_htest)\n",
    "score_train = metrics.accuracy_score(y_htrain, pred)\n",
    "score_test = metrics.accuracy_score(y_htest, pred_t)\n",
    "print(\"LR score (train): %f, (test): %f\"%(score_train, score_test))\n",
    "\n",
    "\n",
    "score = cross_val_score(lr, X_train_aug, y_train, cv=10)\n",
    "# best case here\n",
    "print(\"LR score CV: %f\"%(score.mean()))\n",
    "\n",
    "\n",
    "lr.fit(X_train_aug, y_train)\n",
    "\n",
    "pred = lr.predict(X_train_aug)\n",
    "pred_t = lr.predict(X_htest)\n",
    "score_train = metrics.accuracy_score(y_train, pred)\n",
    "score_test = metrics.accuracy_score(y_htest, pred_t)\n",
    "\n",
    "# best case here\n",
    "print(\"LR score (train): %f, (test): %f\"%(score_train, score_test))\n",
    "candidates.append({'clf':lr, 'C':0.06, 'score':0.557699})\n",
    "\"\"\"\n",
    "bag = BaggingClassifier(base_estimator=lr, n_estimators=100, max_samples=0.5, max_features=0.5,\n",
    "                        oob_score=True, random_state=0, n_jobs=3)\n",
    "\n",
    "score = cross_val_score(bag, X_train_aug, y_train, cv=10)\n",
    "\n",
    "\n",
    "# best case here\n",
    "print(\"voter score (CV): %f\"%(score.mean()))\n",
    "bag.fit(X_train_aug, y_train)\n",
    "pred = bag.predict(X_train_aug)\n",
    "pred_t = bag.predict(X_htest)\n",
    "score_train = metrics.accuracy_score(y_train, pred)\n",
    "score_test = metrics.accuracy_score(y_htest, pred_t)\n",
    "\n",
    "# best case here\n",
    "print(\"voter score (train): %f, (test): %f\"%(score_train, score_test))\n",
    "candidates.append({'clf': bag, 'C':1.0, 'score':0.561196})\n",
    "\"\"\""
   ]
  },
  {
   "cell_type": "code",
   "execution_count": 90,
   "metadata": {
    "collapsed": false
   },
   "outputs": [],
   "source": [
    "topic_test = tf_vectorizer.transform(df_test['title'])\n",
    "topic_test = lda.fit_transform(topic_test)\n"
   ]
  },
  {
   "cell_type": "code",
   "execution_count": 248,
   "metadata": {
    "collapsed": true
   },
   "outputs": [],
   "source": [
    "doc_test = tfdoc.transform(df_test['content'])\n",
    "test_doc_x = ch2.transform(doc_test)\n",
    "aut_test = tfaut.transform(df_test['author'])\n",
    "test_aut_x = cha2.transform(aut_test)"
   ]
  },
  {
   "cell_type": "code",
   "execution_count": 293,
   "metadata": {
    "collapsed": false
   },
   "outputs": [
    {
     "name": "stderr",
     "output_type": "stream",
     "text": [
      "/home/cgv03/anaconda3/envs/ml_mid_env/lib/python3.5/site-packages/ipykernel/__main__.py:9: FutureWarning: reshape is deprecated and will raise in a subsequent release. Please use .values.reshape(...) instead\n"
     ]
    }
   ],
   "source": [
    "test_weekday = pd.read_csv('test_weekday.csv').values\n",
    "test_time = pd.read_csv('test_time.csv').values\n",
    "test_channel = pd.read_csv('test_channel.csv').values\n",
    "test_polarity = pd.read_csv('test_polarity.csv').values\n",
    "test_links = pd.read_csv('test_links.csv').values\n",
    "test_keypop = pd.read_csv('test_keypop.csv').values\n",
    "test_nwords = df_test['n_words'].values.reshape(-1,1)\n",
    "test_nfig = df_test['n_fig'].values.reshape(-1,1)\n",
    "test_nword = df_test['n_words'].reshape(-1,1)\n",
    "test_ner = pd.read_csv('test_ner.csv').values[:, 6:]\n",
    "\n",
    "\n",
    "time_feats = np.concatenate((test_time, test_weekday), axis=1)\n",
    "cont_feats = np.concatenate((test_polarity, topic_test, test_channel), axis=1)\n",
    "stdn_feats = np.concatenate((n_twords_test, test_nwords, test_links, test_keypop, test_ner), axis=1)\n",
    "stdn_feats = sc.transform(stdn_feats)\n",
    "\n",
    "cont_feats = poly_cont.transform(cont_feats)[:,1:]\n",
    "stdn_feats = poly_stdn.transform(stdn_feats)[:,1:]\n",
    "\n",
    "X_test_con = np.concatenate((time_feats, cont_feats, stdn_feats, test_doc_x.todense()), axis=1)\n",
    "#X_test_con = sc.transform(X_test_con)"
   ]
  },
  {
   "cell_type": "code",
   "execution_count": 309,
   "metadata": {
    "collapsed": false
   },
   "outputs": [],
   "source": [
    "\n",
    "for cand in candidates:\n",
    "    predict = cand['clf'].predict(X_test_con)\n",
    "    output = np.zeros((X_test_con.shape[0], 2), dtype=int)\n",
    "    output[:, 0] = df_test['Id']\n",
    "    output[:, 1] = predict\n",
    "    df_output = pd.DataFrame(data=output, columns=['Id', 'Popularity'])\n",
    "    df_output.to_csv('test___%f.csv' % (cand['C']), index=False)"
   ]
  },
  {
   "cell_type": "code",
   "execution_count": null,
   "metadata": {
    "collapsed": true
   },
   "outputs": [],
   "source": []
  },
  {
   "cell_type": "code",
   "execution_count": null,
   "metadata": {
    "collapsed": true
   },
   "outputs": [],
   "source": []
  }
 ],
 "metadata": {
  "anaconda-cloud": {},
  "kernelspec": {
   "display_name": "Python [conda env:ml_mid_env]",
   "language": "python",
   "name": "conda-env-ml_mid_env-py"
  },
  "language_info": {
   "codemirror_mode": {
    "name": "ipython",
    "version": 3
   },
   "file_extension": ".py",
   "mimetype": "text/x-python",
   "name": "python",
   "nbconvert_exporter": "python",
   "pygments_lexer": "ipython3",
   "version": "3.5.2"
  }
 },
 "nbformat": 4,
 "nbformat_minor": 1
}
